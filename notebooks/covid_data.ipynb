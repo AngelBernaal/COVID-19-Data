{
 "cells": [
  {
   "cell_type": "markdown",
   "id": "ec120c26-e431-48f2-9207-c5873c6bed97",
   "metadata": {},
   "source": [
    "# Análisis de Reinfección por COVID-19 y Factores de Salud. 🦠\n",
    "\n",
    "## Introducción y Planteamiento del Problema.\n",
    "\n",
    "Este proyecto tiene como objetivo principal **identificar y analizar los patrones y factores de riesgo asociados a la reinfección por COVID-19** utilizando el \"COVID-19 Reinfection and Health Dataset\" de Kaggle. 📊\n",
    "\n",
    "Para lograr este objetivo, buscaremos responder las siguientes **preguntas clave❓**:\n",
    "\n",
    "* **1. Demografía de la Reinfección**: ¿Existen diferencias significativas en la tasa de reinfección entre distintos grupos demográficos (edad, género)?\n",
    "* **2. Comorbilidades y Reinfección**: ¿Qué condiciones de salud preexistentes (comorbilidades) están más fuertemente asociadas con un mayor riesgo de reinfección?\n",
    "* **3. Gravedad y Reinfección**: ¿Hay una relación entre la gravedad de la infección inicial o la reinfección y los factores de salud del paciente?\n",
    "\n",
    "Los hallazgos de este análisis podrían proporcionar **información valiosa** para:\n",
    "* Identificar grupos de población de alto riesgo.\n",
    "* Informar políticas de salud pública y recomendaciones de cuidados.\n",
    "* Guiar futuras investigaciones médicas sobre la inmunidad y el COVID-19.\n",
    "\n",
    "**Limitaciones Anticipadas**: Se prevé que el dataset contenga un número significativo de valores faltantes, particularmente en las columnas de fecha, lo que requerirá una limpieza de datos cuidadosa y podría limitar ciertas líneas de análisis temporal.⏱️"
   ]
  },
  {
   "cell_type": "markdown",
   "id": "4315fcff-5c7f-48fe-9da2-2ba05d96cb30",
   "metadata": {},
   "source": [
    "# 1. Comenzar a importar librerías necesarias para limpieza de datos y su manipulación.📚\n",
    "\n",
    "* **Pandas (como pd)**: Esta es la librería más crucial para la manipulación y el análisis de datos en Python.\n",
    "* **Matplotlib.pyplot (como plt)**: La base para la creación de gráficos."
   ]
  },
  {
   "cell_type": "code",
   "execution_count": 1,
   "id": "44176809-1e93-4932-b74c-cc021b0d5470",
   "metadata": {},
   "outputs": [],
   "source": [
    "import pandas as pd\n",
    "import matplotlib.pyplot as plt\n",
   ]
  },
  {
   "cell_type": "markdown",
   "id": "0387b809-536a-4d62-b684-4b33a3ed6f34",
   "metadata": {},
   "source": [
    "# 2. Carga e Inspección Preliminar del Dataset. 📊\n",
    "\n",
    "En esta sección, cargaremos el dataset principal desde la carpeta `data`. A continuación, realizaremos una inspección inicial de los datos para comprender su estructura, tipos de variables y la presencia de valores faltantes. Este paso es fundamental para identificar los desafíos de limpieza de datos y planificar las transformaciones necesarias antes del análisis."
   ]
  },
  {
   "cell_type": "code",
   "execution_count": 2,
   "id": "d9d2e42f-d4d4-498e-b5dd-4ac462520520",
   "metadata": {},
   "outputs": [
    {
     "name": "stdout",
     "output_type": "stream",
     "text": [
      "DataSet cargado correctamente\n"
     ]
    }
   ],
   "source": [
    "ruta_csv = '../data/covid.csv' #Definimos una variable que hace referencia a la ruta de nuestro csv\n",
    "df = pd.read_csv(ruta_csv) #creamos un dataframe que va a leer los datos de nuestro csv\n",
    "print('DataSet cargado correctamente') #si se cargo correcto, imprimimos un mensaje que lo haga saber"
   ]
  },
  {
   "cell_type": "code",
   "execution_count": 3,
   "id": "fe5841db-8f96-4f62-967c-f6901dbbc43b",
   "metadata": {},
   "outputs": [
    {
     "name": "stdout",
     "output_type": "stream",
     "text": [
      "Vista de las 5 filas iniciales: \n",
      "   Patient_ID  Age  Gender       Region Preexisting_Condition  \\\n",
      "0           1   69    Male  Hovedstaden               Obesity   \n",
      "1           2   38    Male     Sjælland                Asthma   \n",
      "2           3   41  Female   Syddanmark          Hypertension   \n",
      "3           4   81  Female  Hovedstaden                Asthma   \n",
      "4           5   50  Female   Syddanmark        Cardiovascular   \n",
      "\n",
      "  Date_of_Infection COVID_Strain Symptoms  Severity Hospitalized  ...  \\\n",
      "0        2022-06-21        Delta     Mild  Moderate          Yes  ...   \n",
      "1        2024-02-02      XBB.1.5     Mild  Moderate           No  ...   \n",
      "2        2023-05-28         Beta     Mild      High          Yes  ...   \n",
      "3        2023-08-13        Delta   Severe      High           No  ...   \n",
      "4        2023-03-10        Delta     Mild      High           No  ...   \n",
      "\n",
      "  Reinfection Date_of_Reinfection Vaccination_Status Vaccine_Type  \\\n",
      "0          No                 NaN                Yes          NaN   \n",
      "1          No                 NaN                 No          NaN   \n",
      "2          No                 NaN                Yes      Janssen   \n",
      "3         Yes          2024-08-24                Yes  AstraZeneca   \n",
      "4          No                 NaN                Yes          NaN   \n",
      "\n",
      "  Doses_Received Date_of_Last_Dose Long_COVID_Symptoms     Occupation  \\\n",
      "0              1        2022-09-22                 NaN     Healthcare   \n",
      "1              0               NaN                 NaN     Healthcare   \n",
      "2              3        2024-05-14                 NaN     Unemployed   \n",
      "3              1        2024-10-31                 NaN  Office Worker   \n",
      "4              2        2023-07-05                 NaN        Student   \n",
      "\n",
      "  Smoking_Status   BMI  \n",
      "0          Never  27.7  \n",
      "1          Never  21.9  \n",
      "2          Never  22.7  \n",
      "3          Never  27.7  \n",
      "4          Never  11.9  \n",
      "\n",
      "[5 rows x 26 columns]\n",
      "\n",
      " Información de nuestro DataFrame: \n",
      "<class 'pandas.core.frame.DataFrame'>\n",
      "RangeIndex: 3000 entries, 0 to 2999\n",
      "Data columns (total 26 columns):\n",
      " #   Column                   Non-Null Count  Dtype  \n",
      "---  ------                   --------------  -----  \n",
      " 0   Patient_ID               3000 non-null   int64  \n",
      " 1   Age                      3000 non-null   int64  \n",
      " 2   Gender                   3000 non-null   object \n",
      " 3   Region                   3000 non-null   object \n",
      " 4   Preexisting_Condition    2531 non-null   object \n",
      " 5   Date_of_Infection        3000 non-null   object \n",
      " 6   COVID_Strain             3000 non-null   object \n",
      " 7   Symptoms                 3000 non-null   object \n",
      " 8   Severity                 3000 non-null   object \n",
      " 9   Hospitalized             3000 non-null   object \n",
      " 10  Hospital_Admission_Date  876 non-null    object \n",
      " 11  Hospital_Discharge_Date  876 non-null    object \n",
      " 12  ICU_Admission            3000 non-null   object \n",
      " 13  Ventilator_Support       3000 non-null   object \n",
      " 14  Recovered                3000 non-null   object \n",
      " 15  Date_of_Recovery         1508 non-null   object \n",
      " 16  Reinfection              3000 non-null   object \n",
      " 17  Date_of_Reinfection      285 non-null    object \n",
      " 18  Vaccination_Status       3000 non-null   object \n",
      " 19  Vaccine_Type             1191 non-null   object \n",
      " 20  Doses_Received           3000 non-null   int64  \n",
      " 21  Date_of_Last_Dose        1472 non-null   object \n",
      " 22  Long_COVID_Symptoms      220 non-null    object \n",
      " 23  Occupation               3000 non-null   object \n",
      " 24  Smoking_Status           3000 non-null   object \n",
      " 25  BMI                      3000 non-null   float64\n",
      "dtypes: float64(1), int64(3), object(22)\n",
      "memory usage: 609.5+ KB\n",
      "\n",
      " Dimensiones de nuestro DataFrame: \n",
      "(3000, 26)\n",
      "\n",
      " Estadisticas descriptiivas de columnas tipo int: \n",
      "        Patient_ID          Age  Doses_Received          BMI\n",
      "count  3000.000000  3000.000000     3000.000000  3000.000000\n",
      "mean   1500.500000    53.944000        0.981667    25.096500\n",
      "std     866.169729    20.872919        1.154025     4.898435\n",
      "min       1.000000    18.000000        0.000000    10.200000\n",
      "25%     750.750000    36.000000        0.000000    21.800000\n",
      "50%    1500.500000    54.000000        0.000000    25.100000\n",
      "75%    2250.250000    72.000000        2.000000    28.500000\n",
      "max    3000.000000    89.000000        3.000000    44.600000\n",
      "\n",
      " Valores nulos por columna: \n",
      "Patient_ID                    0\n",
      "Age                           0\n",
      "Gender                        0\n",
      "Region                        0\n",
      "Preexisting_Condition       469\n",
      "Date_of_Infection             0\n",
      "COVID_Strain                  0\n",
      "Symptoms                      0\n",
      "Severity                      0\n",
      "Hospitalized                  0\n",
      "Hospital_Admission_Date    2124\n",
      "Hospital_Discharge_Date    2124\n",
      "ICU_Admission                 0\n",
      "Ventilator_Support            0\n",
      "Recovered                     0\n",
      "Date_of_Recovery           1492\n",
      "Reinfection                   0\n",
      "Date_of_Reinfection        2715\n",
      "Vaccination_Status            0\n",
      "Vaccine_Type               1809\n",
      "Doses_Received                0\n",
      "Date_of_Last_Dose          1528\n",
      "Long_COVID_Symptoms        2780\n",
      "Occupation                    0\n",
      "Smoking_Status                0\n",
      "BMI                           0\n",
      "dtype: int64\n"
     ]
    }
   ],
   "source": [
    "print('Vista de las 5 filas iniciales: ')\n",
    "print(df.head()) # esta linea ayuda a cargar los primeros 5 elementos de nuestro dataset\n",
    "print('\\n Información de nuestro DataFrame: ')\n",
    "df.info() #mostrara info general\n",
    "print('\\n Dimensiones de nuestro DataFrame: ')\n",
    "print(df.shape) #mostrara filas x columnas\n",
    "print('\\n Estadisticas descriptiivas de columnas tipo int: ')\n",
    "print(df.describe()) #datos numericos como mediana, min de nuestro dataframe\n",
    "print('\\n Valores nulos por columna: ')\n",
    "print(df.isnull().sum()) #datos nulos "
   ]
  },
  {
   "cell_type": "markdown",
   "id": "76c573de-77b9-4069-8deb-d3d5fff07375",
   "metadata": {},
   "source": [
    "# 3. Limpieza y Preprocesamiento de Datos. 🧼\n",
    "\n",
    "Este es uno de los pasos más críticos en cualquier proyecto de análisis de datos. Los datos rara vez vienen en un formato perfecto para el análisis. Basándonos en la inspección anterior, necesitamos transformar y limpiar el dataset para asegurarnos de que sea preciso, consistente y esté en el formato correcto para responder a nuestras preguntas de investigación.\n",
    "\n",
    "En este punto, nos enfocaremos en **asegurar la calidad y consistencia del dataset** para el análisis. Realizaremos los siguientes pasos:\n",
    "\n",
    "* **Identificación y Eliminación de Duplicados**: Para garantizar que cada entrada represente un paciente único y evitar sesgos en el análisis.\n",
    "* **Ajuste de Nombres de Columnas**: Renombraremos las columnas si sus nombres actuales no son claros, consistentes o legibles, facilitando su manipulación.\n",
    "* **Conversión de Tipos de Datos**: Corregiremos los tipos de datos de cada columna (ej., convertir fechas a `datetime`, textos a `category` o `boolean`, y asegurar tipos numéricos correctos) para permitir operaciones y análisis precisos.\n",
    "* **Manejo Estratégico de Valores Nulos**: Abordaremos los valores faltantes, incluyendo la creación de variables `flag` para nulos semánticos (como la ausencia de una fecha de evento) y la imputación o eliminación de otros nulos, para evitar sesgos y asegurar la integridad de las conclusiones."
   ]
  },
  {
   "cell_type": "code",
   "execution_count": 4,
   "id": "f6d90f8f-d7e9-47c2-827b-1aeda54f9448",
   "metadata": {},
   "outputs": [],
   "source": [
    "df_limpio = df.copy() #creamos una copia del dataframe original"
   ]
  },
  {
   "cell_type": "code",
   "execution_count": 5,
   "id": "80c9abe3-101b-4c7d-a745-6d9271dd75f7",
   "metadata": {},
   "outputs": [
    {
     "data": {
      "text/html": [
       "<div>\n",
       "<style scoped>\n",
       "    .dataframe tbody tr th:only-of-type {\n",
       "        vertical-align: middle;\n",
       "    }\n",
       "\n",
       "    .dataframe tbody tr th {\n",
       "        vertical-align: top;\n",
       "    }\n",
       "\n",
       "    .dataframe thead th {\n",
       "        text-align: right;\n",
       "    }\n",
       "</style>\n",
       "<table border=\"1\" class=\"dataframe\">\n",
       "  <thead>\n",
       "    <tr style=\"text-align: right;\">\n",
       "      <th></th>\n",
       "      <th>Patient_ID</th>\n",
       "      <th>Age</th>\n",
       "      <th>Gender</th>\n",
       "      <th>Region</th>\n",
       "      <th>Preexisting_Condition</th>\n",
       "      <th>Date_of_Infection</th>\n",
       "      <th>COVID_Strain</th>\n",
       "      <th>Symptoms</th>\n",
       "      <th>Severity</th>\n",
       "      <th>Hospitalized</th>\n",
       "      <th>...</th>\n",
       "      <th>Reinfection</th>\n",
       "      <th>Date_of_Reinfection</th>\n",
       "      <th>Vaccination_Status</th>\n",
       "      <th>Vaccine_Type</th>\n",
       "      <th>Doses_Received</th>\n",
       "      <th>Date_of_Last_Dose</th>\n",
       "      <th>Long_COVID_Symptoms</th>\n",
       "      <th>Occupation</th>\n",
       "      <th>Smoking_Status</th>\n",
       "      <th>BMI</th>\n",
       "    </tr>\n",
       "  </thead>\n",
       "  <tbody>\n",
       "    <tr>\n",
       "      <th>0</th>\n",
       "      <td>1</td>\n",
       "      <td>69</td>\n",
       "      <td>Male</td>\n",
       "      <td>Hovedstaden</td>\n",
       "      <td>Obesity</td>\n",
       "      <td>2022-06-21</td>\n",
       "      <td>Delta</td>\n",
       "      <td>Mild</td>\n",
       "      <td>Moderate</td>\n",
       "      <td>Yes</td>\n",
       "      <td>...</td>\n",
       "      <td>No</td>\n",
       "      <td>NaN</td>\n",
       "      <td>Yes</td>\n",
       "      <td>NaN</td>\n",
       "      <td>1</td>\n",
       "      <td>2022-09-22</td>\n",
       "      <td>NaN</td>\n",
       "      <td>Healthcare</td>\n",
       "      <td>Never</td>\n",
       "      <td>27.7</td>\n",
       "    </tr>\n",
       "    <tr>\n",
       "      <th>1</th>\n",
       "      <td>2</td>\n",
       "      <td>38</td>\n",
       "      <td>Male</td>\n",
       "      <td>Sjælland</td>\n",
       "      <td>Asthma</td>\n",
       "      <td>2024-02-02</td>\n",
       "      <td>XBB.1.5</td>\n",
       "      <td>Mild</td>\n",
       "      <td>Moderate</td>\n",
       "      <td>No</td>\n",
       "      <td>...</td>\n",
       "      <td>No</td>\n",
       "      <td>NaN</td>\n",
       "      <td>No</td>\n",
       "      <td>NaN</td>\n",
       "      <td>0</td>\n",
       "      <td>NaN</td>\n",
       "      <td>NaN</td>\n",
       "      <td>Healthcare</td>\n",
       "      <td>Never</td>\n",
       "      <td>21.9</td>\n",
       "    </tr>\n",
       "    <tr>\n",
       "      <th>2</th>\n",
       "      <td>3</td>\n",
       "      <td>41</td>\n",
       "      <td>Female</td>\n",
       "      <td>Syddanmark</td>\n",
       "      <td>Hypertension</td>\n",
       "      <td>2023-05-28</td>\n",
       "      <td>Beta</td>\n",
       "      <td>Mild</td>\n",
       "      <td>High</td>\n",
       "      <td>Yes</td>\n",
       "      <td>...</td>\n",
       "      <td>No</td>\n",
       "      <td>NaN</td>\n",
       "      <td>Yes</td>\n",
       "      <td>Janssen</td>\n",
       "      <td>3</td>\n",
       "      <td>2024-05-14</td>\n",
       "      <td>NaN</td>\n",
       "      <td>Unemployed</td>\n",
       "      <td>Never</td>\n",
       "      <td>22.7</td>\n",
       "    </tr>\n",
       "    <tr>\n",
       "      <th>3</th>\n",
       "      <td>4</td>\n",
       "      <td>81</td>\n",
       "      <td>Female</td>\n",
       "      <td>Hovedstaden</td>\n",
       "      <td>Asthma</td>\n",
       "      <td>2023-08-13</td>\n",
       "      <td>Delta</td>\n",
       "      <td>Severe</td>\n",
       "      <td>High</td>\n",
       "      <td>No</td>\n",
       "      <td>...</td>\n",
       "      <td>Yes</td>\n",
       "      <td>2024-08-24</td>\n",
       "      <td>Yes</td>\n",
       "      <td>AstraZeneca</td>\n",
       "      <td>1</td>\n",
       "      <td>2024-10-31</td>\n",
       "      <td>NaN</td>\n",
       "      <td>Office Worker</td>\n",
       "      <td>Never</td>\n",
       "      <td>27.7</td>\n",
       "    </tr>\n",
       "    <tr>\n",
       "      <th>4</th>\n",
       "      <td>5</td>\n",
       "      <td>50</td>\n",
       "      <td>Female</td>\n",
       "      <td>Syddanmark</td>\n",
       "      <td>Cardiovascular</td>\n",
       "      <td>2023-03-10</td>\n",
       "      <td>Delta</td>\n",
       "      <td>Mild</td>\n",
       "      <td>High</td>\n",
       "      <td>No</td>\n",
       "      <td>...</td>\n",
       "      <td>No</td>\n",
       "      <td>NaN</td>\n",
       "      <td>Yes</td>\n",
       "      <td>NaN</td>\n",
       "      <td>2</td>\n",
       "      <td>2023-07-05</td>\n",
       "      <td>NaN</td>\n",
       "      <td>Student</td>\n",
       "      <td>Never</td>\n",
       "      <td>11.9</td>\n",
       "    </tr>\n",
       "  </tbody>\n",
       "</table>\n",
       "<p>5 rows × 26 columns</p>\n",
       "</div>"
      ],
      "text/plain": [
       "   Patient_ID  Age  Gender       Region Preexisting_Condition  \\\n",
       "0           1   69    Male  Hovedstaden               Obesity   \n",
       "1           2   38    Male     Sjælland                Asthma   \n",
       "2           3   41  Female   Syddanmark          Hypertension   \n",
       "3           4   81  Female  Hovedstaden                Asthma   \n",
       "4           5   50  Female   Syddanmark        Cardiovascular   \n",
       "\n",
       "  Date_of_Infection COVID_Strain Symptoms  Severity Hospitalized  ...  \\\n",
       "0        2022-06-21        Delta     Mild  Moderate          Yes  ...   \n",
       "1        2024-02-02      XBB.1.5     Mild  Moderate           No  ...   \n",
       "2        2023-05-28         Beta     Mild      High          Yes  ...   \n",
       "3        2023-08-13        Delta   Severe      High           No  ...   \n",
       "4        2023-03-10        Delta     Mild      High           No  ...   \n",
       "\n",
       "  Reinfection Date_of_Reinfection Vaccination_Status Vaccine_Type  \\\n",
       "0          No                 NaN                Yes          NaN   \n",
       "1          No                 NaN                 No          NaN   \n",
       "2          No                 NaN                Yes      Janssen   \n",
       "3         Yes          2024-08-24                Yes  AstraZeneca   \n",
       "4          No                 NaN                Yes          NaN   \n",
       "\n",
       "  Doses_Received Date_of_Last_Dose Long_COVID_Symptoms     Occupation  \\\n",
       "0              1        2022-09-22                 NaN     Healthcare   \n",
       "1              0               NaN                 NaN     Healthcare   \n",
       "2              3        2024-05-14                 NaN     Unemployed   \n",
       "3              1        2024-10-31                 NaN  Office Worker   \n",
       "4              2        2023-07-05                 NaN        Student   \n",
       "\n",
       "  Smoking_Status   BMI  \n",
       "0          Never  27.7  \n",
       "1          Never  21.9  \n",
       "2          Never  22.7  \n",
       "3          Never  27.7  \n",
       "4          Never  11.9  \n",
       "\n",
       "[5 rows x 26 columns]"
      ]
     },
     "execution_count": 5,
     "metadata": {},
     "output_type": "execute_result"
    }
   ],
   "source": [
    "df_limpio.head() #mostramos las primeras 5 filas para verificar que se cargo el dataframe a limpiar"
   ]
  },
  {
   "cell_type": "code",
   "execution_count": 6,
   "id": "6e889279-7115-4ec4-a324-e36a6422fd67",
   "metadata": {},
   "outputs": [
    {
     "name": "stdout",
     "output_type": "stream",
     "text": [
      "Conteo inicial de filas con datos duplicados.\n",
      "Filas iniciales: 3000\n",
      "Filas despues de borrar duplicados: 3000\n",
      "Numero de duplicados eliminados 0\n",
      "\n"
     ]
    }
   ],
   "source": [
    "print('Conteo inicial de filas con datos duplicados.')\n",
    "filas_in = df_limpio.shape[0] #accedemos al indice 0 del metodo shape\n",
    "df_limpio.drop_duplicates(inplace=True) #con drop eliminamos datos duplicados, inplace es para que lo haga sobre el dataframe copy\n",
    "filas_de = df_limpio.shape[0]\n",
    "print(f'Filas iniciales: {filas_in}')\n",
    "print(f'Filas despues de borrar duplicados: {filas_de}')\n",
    "print(f'Numero de duplicados eliminados {filas_in - filas_de}\\n')"
   ]
  },
  {
   "cell_type": "markdown",
   "id": "78704172-09f9-489b-8794-fa093f11aab2",
   "metadata": {},
   "source": [
    "**NOTA**:Esta sección detalla la cantidad de filas originales y las que fueron eliminadas. Cabe destacar que no se detectaron duplicados, por lo que ninguna fila fue eliminada por ese motivo."
   ]
  },
  {
   "cell_type": "code",
   "execution_count": 7,
   "id": "8c128916-cb14-46df-b538-91b60a907049",
   "metadata": {},
   "outputs": [
    {
     "name": "stdout",
     "output_type": "stream",
     "text": [
      "Nombres de las cadenas actuales: \n",
      "['Patient_ID', 'Age', 'Gender', 'Region', 'Preexisting_Condition', 'Date_of_Infection', 'COVID_Strain', 'Symptoms', 'Severity', 'Hospitalized', 'Hospital_Admission_Date', 'Hospital_Discharge_Date', 'ICU_Admission', 'Ventilator_Support', 'Recovered', 'Date_of_Recovery', 'Reinfection', 'Date_of_Reinfection', 'Vaccination_Status', 'Vaccine_Type', 'Doses_Received', 'Date_of_Last_Dose', 'Long_COVID_Symptoms', 'Occupation', 'Smoking_Status', 'BMI']\n"
     ]
    }
   ],
   "source": [
    "print('Nombres de las cadenas actuales: ')\n",
    "print(df_limpio.columns.tolist()) #mostramos el nombre de las columnas en nuestro dataframe, convirtiendo a lista."
   ]
  },
  {
   "cell_type": "code",
   "execution_count": 8,
   "id": "fc530e3b-6717-4b0a-a0c3-e6c8e30980d3",
   "metadata": {},
   "outputs": [
    {
     "name": "stdout",
     "output_type": "stream",
     "text": [
      "Conversión de tipos de datos.\n",
      "Columna \"Date_of_Infection\" convertida a tipo de dato: datetime64[ns]\n",
      "Columna \"Hospital_Admission_Date\" convertida a tipo de dato: datetime64[ns]\n",
      "Columna \"Hospital_Discharge_Date\" convertida a tipo de dato: datetime64[ns]\n",
      "Columna \"Date_of_Recovery\" convertida a tipo de dato: datetime64[ns]\n",
      "Columna \"Date_of_Reinfection\" convertida a tipo de dato: datetime64[ns]\n",
      "Columna \"Date_of_Last_Dose\" convertida a tipo de dato: datetime64[ns]\n"
     ]
    }
   ],
   "source": [
    "print('Conversión de tipos de datos.')\n",
    "fecha_cols = [\n",
    "    'Date_of_Infection', \n",
    "    'Hospital_Admission_Date',\n",
    "    'Hospital_Discharge_Date',\n",
    "    'Date_of_Recovery',\n",
    "    'Date_of_Reinfection',\n",
    "    'Date_of_Last_Dose',\n",
    "] # lista con los valores a convertir a tipo de dato fecha\n",
    "\n",
    "for col in fecha_cols: \n",
    "    if col in df_limpio.columns:\n",
    "        df_limpio[col] = pd.to_datetime(df_limpio[col], errors='coerce')\n",
    "        print(f'Columna \"{col}\" convertida a tipo de dato: {df_limpio[col].dtype}')\n",
    "    else: \n",
    "        print(f'Columna \"{col} no fue encontrada')"
   ]
  },
  {
   "cell_type": "code",
   "execution_count": 9,
   "id": "42330a14-95bb-445a-af87-083070808129",
   "metadata": {},
   "outputs": [
    {
     "name": "stdout",
     "output_type": "stream",
     "text": [
      "Conversión de tipos de datos.\n",
      "Columna 'Gender' convertida a tipo: category\n",
      "Columna 'Region' convertida a tipo: category\n",
      "Columna 'Preexisting_Condition' convertida a tipo: category\n",
      "Columna 'COVID_Strain' convertida a tipo: category\n",
      "Columna 'Symptoms' convertida a tipo: category\n",
      "Columna 'Severity' convertida a tipo: category\n",
      "Columna 'Hospitalized' convertida a tipo: category\n",
      "Columna 'ICU_Admission' convertida a tipo: category\n",
      "Columna 'Ventilator_Support' convertida a tipo: category\n",
      "Columna 'Recovered' convertida a tipo: category\n",
      "Columna 'Reinfection' convertida a tipo: category\n",
      "Columna 'Vaccination_Status' convertida a tipo: category\n",
      "Columna 'Vaccine_Type' convertida a tipo: category\n",
      "Columna 'Doses_Received' convertida a tipo: category\n",
      "Columna 'Long_COVID_Symptoms' convertida a tipo: category\n",
      "Columna 'Occupation' convertida a tipo: category\n",
      "Columna 'Smoking_Status' convertida a tipo: category\n"
     ]
    }
   ],
   "source": [
    "print('Conversión de tipos de datos.')\n",
    "categoria_cols = [\n",
    "    'Gender',\n",
    "    'Region',\n",
    "    'Preexisting_Condition',\n",
    "    'COVID_Strain',\n",
    "    'Symptoms',\n",
    "    'Severity',\n",
    "    'Hospitalized',\n",
    "    'ICU_Admission',\n",
    "    'Ventilator_Support',\n",
    "    'Recovered',\n",
    "    'Reinfection',\n",
    "    'Vaccination_Status',\n",
    "    'Vaccine_Type',\n",
    "    'Doses_Received',  \n",
    "    'Long_COVID_Symptoms',\n",
    "    'Occupation',\n",
    "    'Smoking_Status',\n",
    "]\n",
    "\n",
    "for column in categoria_cols:\n",
    "    if column in df_limpio.columns:\n",
    "        df_limpio[column] = df_limpio[column].astype(str).str.strip().str.lower()\n",
    "        df_limpio[column] = df_limpio[column].astype('category')\n",
    "        print(f\"Columna '{column}' convertida a tipo: {df_limpio[column].dtype}\")\n",
    "    else:\n",
    "        print(f\"Columna categórica '{column}' no encontrada.\")"
   ]
  },
  {
   "cell_type": "markdown",
   "id": "df2c569b-8361-460f-a282-e9109b81397f",
   "metadata": {},
   "source": [
    "**NOTA**: En este caso, los bloques de código anteriores se utilizaron para convertir los tipos de datos en nuestro archivo CSV. Específicamente, las fechas se encontraban inicialmente como tipo de dato `object` y fueron transformadas a `datetime`. De manera similar, los datos de tipo `object` que representaban variables categóricas se cambiaron a `category`. Estos ajustes son cruciales para facilitar un análisis más preciso y obtener conclusiones mejoradas a partir de los datos."
   ]
  },
  {
   "cell_type": "code",
   "execution_count": 10,
   "id": "07ffd018-0cd8-4a99-957e-52d75a2ee742",
   "metadata": {},
   "outputs": [
    {
     "data": {
      "text/html": [
       "<div>\n",
       "<style scoped>\n",
       "    .dataframe tbody tr th:only-of-type {\n",
       "        vertical-align: middle;\n",
       "    }\n",
       "\n",
       "    .dataframe tbody tr th {\n",
       "        vertical-align: top;\n",
       "    }\n",
       "\n",
       "    .dataframe thead th {\n",
       "        text-align: right;\n",
       "    }\n",
       "</style>\n",
       "<table border=\"1\" class=\"dataframe\">\n",
       "  <thead>\n",
       "    <tr style=\"text-align: right;\">\n",
       "      <th></th>\n",
       "      <th>Patient_ID</th>\n",
       "      <th>Age</th>\n",
       "      <th>Gender</th>\n",
       "      <th>Region</th>\n",
       "      <th>Preexisting_Condition</th>\n",
       "      <th>Date_of_Infection</th>\n",
       "      <th>COVID_Strain</th>\n",
       "      <th>Symptoms</th>\n",
       "      <th>Severity</th>\n",
       "      <th>Hospitalized</th>\n",
       "      <th>...</th>\n",
       "      <th>Reinfection</th>\n",
       "      <th>Date_of_Reinfection</th>\n",
       "      <th>Vaccination_Status</th>\n",
       "      <th>Vaccine_Type</th>\n",
       "      <th>Doses_Received</th>\n",
       "      <th>Date_of_Last_Dose</th>\n",
       "      <th>Long_COVID_Symptoms</th>\n",
       "      <th>Occupation</th>\n",
       "      <th>Smoking_Status</th>\n",
       "      <th>BMI</th>\n",
       "    </tr>\n",
       "  </thead>\n",
       "  <tbody>\n",
       "    <tr>\n",
       "      <th>0</th>\n",
       "      <td>1</td>\n",
       "      <td>69</td>\n",
       "      <td>male</td>\n",
       "      <td>hovedstaden</td>\n",
       "      <td>obesity</td>\n",
       "      <td>2022-06-21</td>\n",
       "      <td>delta</td>\n",
       "      <td>mild</td>\n",
       "      <td>moderate</td>\n",
       "      <td>yes</td>\n",
       "      <td>...</td>\n",
       "      <td>no</td>\n",
       "      <td>NaT</td>\n",
       "      <td>yes</td>\n",
       "      <td>nan</td>\n",
       "      <td>1</td>\n",
       "      <td>2022-09-22</td>\n",
       "      <td>nan</td>\n",
       "      <td>healthcare</td>\n",
       "      <td>never</td>\n",
       "      <td>27.7</td>\n",
       "    </tr>\n",
       "    <tr>\n",
       "      <th>1</th>\n",
       "      <td>2</td>\n",
       "      <td>38</td>\n",
       "      <td>male</td>\n",
       "      <td>sjælland</td>\n",
       "      <td>asthma</td>\n",
       "      <td>2024-02-02</td>\n",
       "      <td>xbb.1.5</td>\n",
       "      <td>mild</td>\n",
       "      <td>moderate</td>\n",
       "      <td>no</td>\n",
       "      <td>...</td>\n",
       "      <td>no</td>\n",
       "      <td>NaT</td>\n",
       "      <td>no</td>\n",
       "      <td>nan</td>\n",
       "      <td>0</td>\n",
       "      <td>NaT</td>\n",
       "      <td>nan</td>\n",
       "      <td>healthcare</td>\n",
       "      <td>never</td>\n",
       "      <td>21.9</td>\n",
       "    </tr>\n",
       "    <tr>\n",
       "      <th>2</th>\n",
       "      <td>3</td>\n",
       "      <td>41</td>\n",
       "      <td>female</td>\n",
       "      <td>syddanmark</td>\n",
       "      <td>hypertension</td>\n",
       "      <td>2023-05-28</td>\n",
       "      <td>beta</td>\n",
       "      <td>mild</td>\n",
       "      <td>high</td>\n",
       "      <td>yes</td>\n",
       "      <td>...</td>\n",
       "      <td>no</td>\n",
       "      <td>NaT</td>\n",
       "      <td>yes</td>\n",
       "      <td>janssen</td>\n",
       "      <td>3</td>\n",
       "      <td>2024-05-14</td>\n",
       "      <td>nan</td>\n",
       "      <td>unemployed</td>\n",
       "      <td>never</td>\n",
       "      <td>22.7</td>\n",
       "    </tr>\n",
       "    <tr>\n",
       "      <th>3</th>\n",
       "      <td>4</td>\n",
       "      <td>81</td>\n",
       "      <td>female</td>\n",
       "      <td>hovedstaden</td>\n",
       "      <td>asthma</td>\n",
       "      <td>2023-08-13</td>\n",
       "      <td>delta</td>\n",
       "      <td>severe</td>\n",
       "      <td>high</td>\n",
       "      <td>no</td>\n",
       "      <td>...</td>\n",
       "      <td>yes</td>\n",
       "      <td>2024-08-24</td>\n",
       "      <td>yes</td>\n",
       "      <td>astrazeneca</td>\n",
       "      <td>1</td>\n",
       "      <td>2024-10-31</td>\n",
       "      <td>nan</td>\n",
       "      <td>office worker</td>\n",
       "      <td>never</td>\n",
       "      <td>27.7</td>\n",
       "    </tr>\n",
       "    <tr>\n",
       "      <th>4</th>\n",
       "      <td>5</td>\n",
       "      <td>50</td>\n",
       "      <td>female</td>\n",
       "      <td>syddanmark</td>\n",
       "      <td>cardiovascular</td>\n",
       "      <td>2023-03-10</td>\n",
       "      <td>delta</td>\n",
       "      <td>mild</td>\n",
       "      <td>high</td>\n",
       "      <td>no</td>\n",
       "      <td>...</td>\n",
       "      <td>no</td>\n",
       "      <td>NaT</td>\n",
       "      <td>yes</td>\n",
       "      <td>nan</td>\n",
       "      <td>2</td>\n",
       "      <td>2023-07-05</td>\n",
       "      <td>nan</td>\n",
       "      <td>student</td>\n",
       "      <td>never</td>\n",
       "      <td>11.9</td>\n",
       "    </tr>\n",
       "  </tbody>\n",
       "</table>\n",
       "<p>5 rows × 26 columns</p>\n",
       "</div>"
      ],
      "text/plain": [
       "   Patient_ID  Age  Gender       Region Preexisting_Condition  \\\n",
       "0           1   69    male  hovedstaden               obesity   \n",
       "1           2   38    male     sjælland                asthma   \n",
       "2           3   41  female   syddanmark          hypertension   \n",
       "3           4   81  female  hovedstaden                asthma   \n",
       "4           5   50  female   syddanmark        cardiovascular   \n",
       "\n",
       "  Date_of_Infection COVID_Strain Symptoms  Severity Hospitalized  ...  \\\n",
       "0        2022-06-21        delta     mild  moderate          yes  ...   \n",
       "1        2024-02-02      xbb.1.5     mild  moderate           no  ...   \n",
       "2        2023-05-28         beta     mild      high          yes  ...   \n",
       "3        2023-08-13        delta   severe      high           no  ...   \n",
       "4        2023-03-10        delta     mild      high           no  ...   \n",
       "\n",
       "  Reinfection Date_of_Reinfection Vaccination_Status Vaccine_Type  \\\n",
       "0          no                 NaT                yes          nan   \n",
       "1          no                 NaT                 no          nan   \n",
       "2          no                 NaT                yes      janssen   \n",
       "3         yes          2024-08-24                yes  astrazeneca   \n",
       "4          no                 NaT                yes          nan   \n",
       "\n",
       "  Doses_Received Date_of_Last_Dose Long_COVID_Symptoms     Occupation  \\\n",
       "0              1        2022-09-22                 nan     healthcare   \n",
       "1              0               NaT                 nan     healthcare   \n",
       "2              3        2024-05-14                 nan     unemployed   \n",
       "3              1        2024-10-31                 nan  office worker   \n",
       "4              2        2023-07-05                 nan        student   \n",
       "\n",
       "  Smoking_Status   BMI  \n",
       "0          never  27.7  \n",
       "1          never  21.9  \n",
       "2          never  22.7  \n",
       "3          never  27.7  \n",
       "4          never  11.9  \n",
       "\n",
       "[5 rows x 26 columns]"
      ]
     },
     "execution_count": 10,
     "metadata": {},
     "output_type": "execute_result"
    }
   ],
   "source": [
    "df_limpio.head()"
   ]
  },
  {
   "cell_type": "code",
   "execution_count": 11,
   "id": "dc0d214f-eca7-4433-9503-7a7b48d5a837",
   "metadata": {},
   "outputs": [
    {
     "data": {
      "text/plain": [
       "9983"
      ]
     },
     "execution_count": 11,
     "metadata": {},
     "output_type": "execute_result"
    }
   ],
   "source": [
    "df_limpio.isnull().sum().sum()"
   ]
  },
  {
   "cell_type": "markdown",
   "id": "7cd175c1-4145-4ee9-8ea3-8c29b172545e",
   "metadata": {},
   "source": [
    "**NOTA**: Aqui vemos que aun hay 9983 datos nulos en nuestro dataset, los cuales son en su mayoria fecha. Aunque pandas puede trabajar con datos NaT, o Not a Time, los vamos a limpiar de la siguiente forma."
   ]
  },
  {
   "cell_type": "code",
   "execution_count": 12,
   "id": "c31f4aef-53db-4859-bbbf-d73ae6008d3b",
   "metadata": {},
   "outputs": [
    {
     "name": "stdout",
     "output_type": "stream",
     "text": [
      "Fechas faltantes o NaT en las columnas tipo date\n",
      "Conteo de valores NaT en Hospital_Admission_Date: 2124\n",
      "Conteo de valores NaT en Hospital_Discharge_Date: 2124\n",
      "Conteo de valores NaT en Date_of_Recovery: 1492\n",
      "Conteo de valores NaT en Date_of_Reinfection: 2715\n",
      "Conteo de valores NaT en Date_of_Last_Dose: 1528\n"
     ]
    }
   ],
   "source": [
    "print('Fechas faltantes o NaT en las columnas tipo date')\n",
    "fecha_nans = [\n",
    "    'Hospital_Admission_Date',\n",
    "    'Hospital_Discharge_Date',\n",
    "    'Date_of_Recovery',\n",
    "    'Date_of_Reinfection',\n",
    "    'Date_of_Last_Dose',\n",
    "]\n",
    "\n",
    "for col in fecha_nans:\n",
    "\n",
    "    if col in df_limpio.columns and df_limpio[col].dtype == 'datetime64[ns]':\n",
    "        df_limpio[f'{col}_fecha_faltante'] = df_limpio[col].isna()\n",
    "        print(f\"Conteo de valores NaT en {col}: {df_limpio[f'{col}_fecha_faltante'].sum()}\")\n",
    "    else:\n",
    "        print(f\"Columna de fecha '{col}' no encontrada o no es de tipo datetime para crear el flag de nulos.\")"
   ]
  },
  {
   "cell_type": "markdown",
   "id": "5dc23ea2-8cbc-46e5-8a9e-c9b23e93d625",
   "metadata": {},
   "source": [
    "**NOTA**: Una vez ejecutado el codigo anterior, creara nuevas columnas acorde a si encontro datos tipo fecha faltantes. Estos datos no se imputan o rellenan ya que representan un gran porcentaje de datos faltantes."
   ]
  },
  {
   "cell_type": "markdown",
   "id": "89ac0088-fddd-4b5b-8a14-9759550085f5",
   "metadata": {},
   "source": [
    "# 4. Análisis Exploratorio de Datos. 📈\n",
    "\n",
    "En esta parte del proyecto, vamos a interactuar directamente con nuestro DataFrame ya limpio para comprender a fondo sus características. Nuestro objetivo principal es identificar patrones ocultos, detectar cualquier anomalía o valor atípico que pueda influir en nuestros análisis, y formular hipótesis iniciales sobre las relaciones entre las variables. "
   ]
  },
  {
   "cell_type": "code",
   "execution_count": 13,
   "id": "746b1041-6479-439b-96e6-3c7e1a17055e",
   "metadata": {},
   "outputs": [],
   "source": [
    "sns.set_style('white')\n",
    "plt.rcParams['figure.figsize'] = (10,6)\n",
    "plt.rcParams['figure.dpi'] = 100"
   ]
  },
  {
   "cell_type": "markdown",
   "id": "140373d7-feb2-4b60-82cd-d31b171fdc63",
   "metadata": {},
   "source": [
    "## 4.1. Demografía de la Reinfección: ¿Existen diferencias significativas en la tasa de reinfección entre distintos grupos demográficos (edad, género)? 🌎"
   ]
  },
  {
   "cell_type": "markdown",
   "id": "949bea44-f7a1-4db4-b82b-b24874e8566a",
   "metadata": {},
   "source": [
    "* En este primer paso, nos enfocaremos en un análisis crucial: calcular las reinfecciones desagregadas por género. Esto nos permitirá entender si existen diferencias significativas en la tasa de reinfección entre hombres y mujeres, ofreciéndonos una perspectiva inicial valiosa sobre el comportamiento de los datos."
   ]
  },
  {
   "cell_type": "code",
   "execution_count": 14,
   "id": "43aec283-f38e-4ded-a7cf-cafc37398561",
   "metadata": {},
   "outputs": [
    {
     "name": "stdout",
     "output_type": "stream",
     "text": [
      "Tasa de reinfección por genero: \n",
      "\n",
      "Reinfection        no       yes\n",
      "Gender                         \n",
      "female       0.899804  0.100196\n",
      "male         0.910387  0.089613\n"
     ]
    }
   ],
   "source": [
    "rein_gn = df_limpio.groupby('Gender', observed=False)['Reinfection'].value_counts(normalize=True).unstack()\n",
    "print('Tasa de reinfección por genero: \\n')\n",
    "print(rein_gn)"
   ]
  },
  {
   "cell_type": "markdown",
   "id": "4206754d-39c7-4505-81ce-87226b38dfe5",
   "metadata": {},
   "source": [
    "* Comenzamos con la visualización de estos datos obtenidos."
   ]
  },
  {
   "cell_type": "code",
   "execution_count": 15,
   "id": "4c8ad684-a7a1-4106-ac2f-2c1c57afa6ab",
   "metadata": {},
   "outputs": [
    {
     "data": {
      "image/png": "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",
      "text/plain": [
       "<Figure size 900x600 with 1 Axes>"
      ]
     },
     "metadata": {},
     "output_type": "display_data"
    }
   ],
   "source": [
    "plt.figure(figsize=(9, 6))\n",
    "rein_gn.plot(kind='bar', stacked=False, ax=plt.gca(), color=['#a6cee3', '#1f78b4'])\n",
    "plt.title('Proporción de Reinfección de COVID-19 por Género.', fontsize=15, fontweight='bold', pad=20)\n",
    "plt.xlabel('Género', fontsize=12, fontweight='bold', labelpad=10)\n",
    "plt.ylabel('Proporción', fontsize=12, fontweight='bold', labelpad=20)\n",
    "plt.xticks(rotation=0, fontsize=10)\n",
    "plt.yticks(fontsize=10)\n",
    "plt.legend(title='Reinfección', title_fontsize=12, fontsize=10)\n",
    "plt.tight_layout()\n",
    "plt.show()"
   ]
  },
  {
   "cell_type": "markdown",
   "id": "80eb2e0a-1c0c-49d0-9ab1-ad1de058d1b3",
   "metadata": {},
   "source": [
    "**NOTA**: La gráfica revela que el género no constituye un factor demográfico determinante, puesto que la tasa de reinfección es comparable entre mujeres y hombres."
   ]
  },
  {
   "cell_type": "markdown",
   "id": "06858d45-007c-411c-b9c7-6d70cd4f5eb9",
   "metadata": {},
   "source": [
    "* A continuación, graficaremos los datos de edad y casos de reinfección para identificar cualquier patrón."
   ]
  },
  {
   "cell_type": "code",
   "execution_count": 16,
   "id": "7b645b3c-4197-47ae-8771-884d5332057d",
   "metadata": {},
   "outputs": [],
   "source": [
    "rein_ed = df_limpio.groupby('Age', observed=False)['Reinfection'].value_counts(normalize=True).unstack()"
   ]
  },
  {
   "cell_type": "code",
   "execution_count": 17,
   "id": "b00395cc-951d-4a56-a97e-3708ee4eb084",
   "metadata": {},
   "outputs": [
    {
     "name": "stdout",
     "output_type": "stream",
     "text": [
      "Reinfección por edad: \n",
      "Reinfection        no       yes\n",
      "Age                            \n",
      "18           0.837209  0.162791\n",
      "19           0.760870  0.239130\n",
      "20           0.850000  0.150000\n",
      "21           0.852941  0.147059\n",
      "22           0.914286  0.085714\n",
      "..                ...       ...\n",
      "85           0.927273  0.072727\n",
      "86           0.875000  0.125000\n",
      "87           0.918367  0.081633\n",
      "88           0.972973  0.027027\n",
      "89           0.777778  0.222222\n",
      "\n",
      "[72 rows x 2 columns]\n"
     ]
    }
   ],
   "source": [
    "print('Reinfección por edad: ')\n",
    "print(rein_ed)"
   ]
  },
  {
   "cell_type": "code",
   "execution_count": 19,
   "id": "0ad30c80-ce4b-4d58-81de-02d02683b7c0",
   "metadata": {},
   "outputs": [
    {
     "data": {
      "image/png": "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",
      "text/plain": [
       "<Figure size 1000x800 with 1 Axes>"
      ]
     },
     "metadata": {},
     "output_type": "display_data"
    }
   ],
   "source": [
    "from matplotlib.ticker import PercentFormatter\n",
    "\n",
    "df_temp = df_limpio.copy()\n",
    "df_temp['Age'] = pd.to_numeric(df_temp['Age'], errors='coerce')\n",
    "df_temp.dropna(subset=['Age'], inplace=True)\n",
    "df_temp['Age'] = df_temp['Age'].astype(int)\n",
    "\n",
    "bins = [18, 29, 49, 64, 79, df_temp['Age'].max() + 1]\n",
    "labels = ['18-29', '30-49', '50-64', '65-79', '80+']\n",
    "\n",
    "df_temp['Age_Group_Temp'] = pd.cut(df_temp['Age'], bins=bins, labels=labels, right=False, include_lowest=True)\n",
    "df_temp['Age_Group_Temp'] = df_temp['Age_Group_Temp'].astype('category')\n",
    "\n",
    "rein_ed_grouped = df_temp.groupby('Age_Group_Temp', observed=False)['Reinfection'].value_counts(normalize=True).unstack()\n",
    "plt.figure(figsize=(10, 8))\n",
    "ax = rein_ed_grouped.plot(kind='bar', stacked=False, ax=plt.gca(), color=['#a6cee3', '#1f78b4'])\n",
    "\n",
    "plt.title('Proporción de Reinfección de COVID-19 por Grupo de Edad', fontsize=16, fontweight='bold', pad=20)\n",
    "plt.xlabel('Grupo de Edad', fontsize=12, fontweight='bold', labelpad=15)\n",
    "plt.ylabel('Proporción', fontsize=12, fontweight='bold', labelpad=15)\n",
    "plt.xticks(rotation=45, ha='right', fontsize=10)\n",
    "plt.yticks(fontsize=10)\n",
    "\n",
    "ax.yaxis.set_major_formatter(PercentFormatter(xmax=1))\n",
    "plt.legend(['No Reinfección', 'Reinfección'], title='Estado de Reinfección', title_fontsize=12, fontsize=10, loc='upper left')\n",
    "\n",
    "for p in ax.patches:\n",
    "    height = p.get_height()\n",
    "    if height > 0:\n",
    "        ax.text(p.get_x() + p.get_width()/2., height + 0.01,\n",
    "                            '{:.1%}'.format(height), ha=\"center\", fontsize=9, color='black')\n",
    "\n",
    "plt.grid(axis='y', linestyle='--')\n",
    "plt.tight_layout(rect=[0, 0, 1, 0.95])\n",
    "plt.show()"
   ]
  },
  {
   "cell_type": "markdown",
   "id": "647dd0d7-e481-4710-995f-1b5ad1a40de4",
   "metadata": {},
   "source": [
    "\n",
    "\n",
    "**NOTA**: La visualización de la proporción de reinfección de COVID-19 por grupo de edad revela que, de manera general, la tasa de reinfección se mantiene baja en todos los segmentos demográficos. Sin embargo, se observan patrones diferenciados que permiten una interpretación clara de la distribución de la reinfección con respecto a este parámetro demográfico:\n",
    "\n",
    "* Los adultos jóvenes (18-29 años) presentan la proporción más alta de reinfección, alcanzando el 13.1%.\n",
    "\n",
    "* Posteriormente, los grupos de adultos mayores (65-79 años y 80+ años) muestran las siguientes proporciones más elevadas, con 10.8% y 10.3% respectivamente.\n",
    "\n",
    "* En contraste, los grupos de edad media (30-49 años y 50-64 años) exhiben las tasas de reinfección más bajas, con un 7.1% y un 8.3% respectivamente.\n",
    "\n",
    "**Esta distribución sugiere que, si bien la reinfección no es un fenómeno predominante, su incidencia es comparativamente mayor en los segmentos de población más jóvenes y en los extremos de la vida adulta, mientras que disminuye en las edades intermedias.**"
   ]
  },
  {
   "cell_type": "code",
   "execution_count": 44,
   "id": "50373954-ac1d-4e22-a270-eb13ddc27ac5",
   "metadata": {},
   "outputs": [
    {
     "data": {
      "application/vnd.plotly.v1+json": {
       "config": {
        "plotlyServerURL": "https://plot.ly"
       },
       "data": [
        {
         "alignmentgroup": "True",
         "hovertemplate": "Estado de Reinfección=no<br>Género=female<br>Grupo de Edad=%{x}<br>Número de Casos=%{y}<extra></extra>",
         "legendgroup": "no",
         "marker": {
          "color": "#1f78b4",
          "pattern": {
           "shape": ""
          }
         },
         "name": "no",
         "offsetgroup": "no",
         "orientation": "v",
         "showlegend": true,
         "textposition": "auto",
         "type": "bar",
         "x": [
          "18-29",
          "30-49",
          "50-64",
          "65-79",
          "80+"
         ],
         "xaxis": "x",
         "y": [
          198,
          396,
          272,
          275,
          233
         ],
         "yaxis": "y"
        },
        {
         "alignmentgroup": "True",
         "hovertemplate": "Estado de Reinfección=no<br>Género=male<br>Grupo de Edad=%{x}<br>Número de Casos=%{y}<extra></extra>",
         "legendgroup": "no",
         "marker": {
          "color": "#1f78b4",
          "pattern": {
           "shape": ""
          }
         },
         "name": "no",
         "offsetgroup": "no",
         "orientation": "v",
         "showlegend": false,
         "textposition": "auto",
         "type": "bar",
         "x": [
          "18-29",
          "30-49",
          "50-64",
          "65-79",
          "80+"
         ],
         "xaxis": "x2",
         "y": [
          172,
          401,
          271,
          294,
          203
         ],
         "yaxis": "y2"
        },
        {
         "alignmentgroup": "True",
         "hovertemplate": "Estado de Reinfección=yes<br>Género=female<br>Grupo de Edad=%{x}<br>Número de Casos=%{y}<extra></extra>",
         "legendgroup": "yes",
         "marker": {
          "color": "#D62728",
          "pattern": {
           "shape": ""
          }
         },
         "name": "yes",
         "offsetgroup": "yes",
         "orientation": "v",
         "showlegend": true,
         "textposition": "auto",
         "type": "bar",
         "x": [
          "18-29",
          "30-49",
          "50-64",
          "65-79",
          "80+"
         ],
         "xaxis": "x",
         "y": [
          25,
          31,
          27,
          43,
          27
         ],
         "yaxis": "y"
        },
        {
         "alignmentgroup": "True",
         "hovertemplate": "Estado de Reinfección=yes<br>Género=male<br>Grupo de Edad=%{x}<br>Número de Casos=%{y}<extra></extra>",
         "legendgroup": "yes",
         "marker": {
          "color": "#D62728",
          "pattern": {
           "shape": ""
          }
         },
         "name": "yes",
         "offsetgroup": "yes",
         "orientation": "v",
         "showlegend": false,
         "textposition": "auto",
         "type": "bar",
         "x": [
          "18-29",
          "30-49",
          "50-64",
          "65-79",
          "80+"
         ],
         "xaxis": "x2",
         "y": [
          31,
          30,
          22,
          26,
          23
         ],
         "yaxis": "y2"
        }
       ],
       "layout": {
        "annotations": [
         {
          "font": {},
          "showarrow": false,
          "text": "Género=Femenino",
          "x": 0.245,
          "xanchor": "center",
          "xref": "paper",
          "y": 1,
          "yanchor": "bottom",
          "yref": "paper"
         },
         {
          "font": {},
          "showarrow": false,
          "text": "Género=Masculino",
          "x": 0.755,
          "xanchor": "center",
          "xref": "paper",
          "y": 1,
          "yanchor": "bottom",
          "yref": "paper"
         }
        ],
        "autosize": true,
        "barmode": "group",
        "hoverlabel": {
         "bgcolor": "white",
         "font": {
          "family": "Arial",
          "size": 12
         }
        },
        "legend": {
         "font": {
          "size": 12
         },
         "title": {
          "font": {
           "size": 14
          },
          "text": "Estado de Reinfección"
         },
         "tracegroupgap": 0
        },
        "template": {
         "data": {
          "bar": [
           {
            "error_x": {
             "color": "#2a3f5f"
            },
            "error_y": {
             "color": "#2a3f5f"
            },
            "marker": {
             "line": {
              "color": "#E5ECF6",
              "width": 0.5
             },
             "pattern": {
              "fillmode": "overlay",
              "size": 10,
              "solidity": 0.2
             }
            },
            "type": "bar"
           }
          ],
          "barpolar": [
           {
            "marker": {
             "line": {
              "color": "#E5ECF6",
              "width": 0.5
             },
             "pattern": {
              "fillmode": "overlay",
              "size": 10,
              "solidity": 0.2
             }
            },
            "type": "barpolar"
           }
          ],
          "carpet": [
           {
            "aaxis": {
             "endlinecolor": "#2a3f5f",
             "gridcolor": "white",
             "linecolor": "white",
             "minorgridcolor": "white",
             "startlinecolor": "#2a3f5f"
            },
            "baxis": {
             "endlinecolor": "#2a3f5f",
             "gridcolor": "white",
             "linecolor": "white",
             "minorgridcolor": "white",
             "startlinecolor": "#2a3f5f"
            },
            "type": "carpet"
           }
          ],
          "choropleth": [
           {
            "colorbar": {
             "outlinewidth": 0,
             "ticks": ""
            },
            "type": "choropleth"
           }
          ],
          "contour": [
           {
            "colorbar": {
             "outlinewidth": 0,
             "ticks": ""
            },
            "colorscale": [
             [
              0,
              "#0d0887"
             ],
             [
              0.1111111111111111,
              "#46039f"
             ],
             [
              0.2222222222222222,
              "#7201a8"
             ],
             [
              0.3333333333333333,
              "#9c179e"
             ],
             [
              0.4444444444444444,
              "#bd3786"
             ],
             [
              0.5555555555555556,
              "#d8576b"
             ],
             [
              0.6666666666666666,
              "#ed7953"
             ],
             [
              0.7777777777777778,
              "#fb9f3a"
             ],
             [
              0.8888888888888888,
              "#fdca26"
             ],
             [
              1,
              "#f0f921"
             ]
            ],
            "type": "contour"
           }
          ],
          "contourcarpet": [
           {
            "colorbar": {
             "outlinewidth": 0,
             "ticks": ""
            },
            "type": "contourcarpet"
           }
          ],
          "heatmap": [
           {
            "colorbar": {
             "outlinewidth": 0,
             "ticks": ""
            },
            "colorscale": [
             [
              0,
              "#0d0887"
             ],
             [
              0.1111111111111111,
              "#46039f"
             ],
             [
              0.2222222222222222,
              "#7201a8"
             ],
             [
              0.3333333333333333,
              "#9c179e"
             ],
             [
              0.4444444444444444,
              "#bd3786"
             ],
             [
              0.5555555555555556,
              "#d8576b"
             ],
             [
              0.6666666666666666,
              "#ed7953"
             ],
             [
              0.7777777777777778,
              "#fb9f3a"
             ],
             [
              0.8888888888888888,
              "#fdca26"
             ],
             [
              1,
              "#f0f921"
             ]
            ],
            "type": "heatmap"
           }
          ],
          "heatmapgl": [
           {
            "colorbar": {
             "outlinewidth": 0,
             "ticks": ""
            },
            "colorscale": [
             [
              0,
              "#0d0887"
             ],
             [
              0.1111111111111111,
              "#46039f"
             ],
             [
              0.2222222222222222,
              "#7201a8"
             ],
             [
              0.3333333333333333,
              "#9c179e"
             ],
             [
              0.4444444444444444,
              "#bd3786"
             ],
             [
              0.5555555555555556,
              "#d8576b"
             ],
             [
              0.6666666666666666,
              "#ed7953"
             ],
             [
              0.7777777777777778,
              "#fb9f3a"
             ],
             [
              0.8888888888888888,
              "#fdca26"
             ],
             [
              1,
              "#f0f921"
             ]
            ],
            "type": "heatmapgl"
           }
          ],
          "histogram": [
           {
            "marker": {
             "pattern": {
              "fillmode": "overlay",
              "size": 10,
              "solidity": 0.2
             }
            },
            "type": "histogram"
           }
          ],
          "histogram2d": [
           {
            "colorbar": {
             "outlinewidth": 0,
             "ticks": ""
            },
            "colorscale": [
             [
              0,
              "#0d0887"
             ],
             [
              0.1111111111111111,
              "#46039f"
             ],
             [
              0.2222222222222222,
              "#7201a8"
             ],
             [
              0.3333333333333333,
              "#9c179e"
             ],
             [
              0.4444444444444444,
              "#bd3786"
             ],
             [
              0.5555555555555556,
              "#d8576b"
             ],
             [
              0.6666666666666666,
              "#ed7953"
             ],
             [
              0.7777777777777778,
              "#fb9f3a"
             ],
             [
              0.8888888888888888,
              "#fdca26"
             ],
             [
              1,
              "#f0f921"
             ]
            ],
            "type": "histogram2d"
           }
          ],
          "histogram2dcontour": [
           {
            "colorbar": {
             "outlinewidth": 0,
             "ticks": ""
            },
            "colorscale": [
             [
              0,
              "#0d0887"
             ],
             [
              0.1111111111111111,
              "#46039f"
             ],
             [
              0.2222222222222222,
              "#7201a8"
             ],
             [
              0.3333333333333333,
              "#9c179e"
             ],
             [
              0.4444444444444444,
              "#bd3786"
             ],
             [
              0.5555555555555556,
              "#d8576b"
             ],
             [
              0.6666666666666666,
              "#ed7953"
             ],
             [
              0.7777777777777778,
              "#fb9f3a"
             ],
             [
              0.8888888888888888,
              "#fdca26"
             ],
             [
              1,
              "#f0f921"
             ]
            ],
            "type": "histogram2dcontour"
           }
          ],
          "mesh3d": [
           {
            "colorbar": {
             "outlinewidth": 0,
             "ticks": ""
            },
            "type": "mesh3d"
           }
          ],
          "parcoords": [
           {
            "line": {
             "colorbar": {
              "outlinewidth": 0,
              "ticks": ""
             }
            },
            "type": "parcoords"
           }
          ],
          "pie": [
           {
            "automargin": true,
            "type": "pie"
           }
          ],
          "scatter": [
           {
            "fillpattern": {
             "fillmode": "overlay",
             "size": 10,
             "solidity": 0.2
            },
            "type": "scatter"
           }
          ],
          "scatter3d": [
           {
            "line": {
             "colorbar": {
              "outlinewidth": 0,
              "ticks": ""
             }
            },
            "marker": {
             "colorbar": {
              "outlinewidth": 0,
              "ticks": ""
             }
            },
            "type": "scatter3d"
           }
          ],
          "scattercarpet": [
           {
            "marker": {
             "colorbar": {
              "outlinewidth": 0,
              "ticks": ""
             }
            },
            "type": "scattercarpet"
           }
          ],
          "scattergeo": [
           {
            "marker": {
             "colorbar": {
              "outlinewidth": 0,
              "ticks": ""
             }
            },
            "type": "scattergeo"
           }
          ],
          "scattergl": [
           {
            "marker": {
             "colorbar": {
              "outlinewidth": 0,
              "ticks": ""
             }
            },
            "type": "scattergl"
           }
          ],
          "scattermapbox": [
           {
            "marker": {
             "colorbar": {
              "outlinewidth": 0,
              "ticks": ""
             }
            },
            "type": "scattermapbox"
           }
          ],
          "scatterpolar": [
           {
            "marker": {
             "colorbar": {
              "outlinewidth": 0,
              "ticks": ""
             }
            },
            "type": "scatterpolar"
           }
          ],
          "scatterpolargl": [
           {
            "marker": {
             "colorbar": {
              "outlinewidth": 0,
              "ticks": ""
             }
            },
            "type": "scatterpolargl"
           }
          ],
          "scatterternary": [
           {
            "marker": {
             "colorbar": {
              "outlinewidth": 0,
              "ticks": ""
             }
            },
            "type": "scatterternary"
           }
          ],
          "surface": [
           {
            "colorbar": {
             "outlinewidth": 0,
             "ticks": ""
            },
            "colorscale": [
             [
              0,
              "#0d0887"
             ],
             [
              0.1111111111111111,
              "#46039f"
             ],
             [
              0.2222222222222222,
              "#7201a8"
             ],
             [
              0.3333333333333333,
              "#9c179e"
             ],
             [
              0.4444444444444444,
              "#bd3786"
             ],
             [
              0.5555555555555556,
              "#d8576b"
             ],
             [
              0.6666666666666666,
              "#ed7953"
             ],
             [
              0.7777777777777778,
              "#fb9f3a"
             ],
             [
              0.8888888888888888,
              "#fdca26"
             ],
             [
              1,
              "#f0f921"
             ]
            ],
            "type": "surface"
           }
          ],
          "table": [
           {
            "cells": {
             "fill": {
              "color": "#EBF0F8"
             },
             "line": {
              "color": "white"
             }
            },
            "header": {
             "fill": {
              "color": "#C8D4E3"
             },
             "line": {
              "color": "white"
             }
            },
            "type": "table"
           }
          ]
         },
         "layout": {
          "annotationdefaults": {
           "arrowcolor": "#2a3f5f",
           "arrowhead": 0,
           "arrowwidth": 1
          },
          "autotypenumbers": "strict",
          "coloraxis": {
           "colorbar": {
            "outlinewidth": 0,
            "ticks": ""
           }
          },
          "colorscale": {
           "diverging": [
            [
             0,
             "#8e0152"
            ],
            [
             0.1,
             "#c51b7d"
            ],
            [
             0.2,
             "#de77ae"
            ],
            [
             0.3,
             "#f1b6da"
            ],
            [
             0.4,
             "#fde0ef"
            ],
            [
             0.5,
             "#f7f7f7"
            ],
            [
             0.6,
             "#e6f5d0"
            ],
            [
             0.7,
             "#b8e186"
            ],
            [
             0.8,
             "#7fbc41"
            ],
            [
             0.9,
             "#4d9221"
            ],
            [
             1,
             "#276419"
            ]
           ],
           "sequential": [
            [
             0,
             "#0d0887"
            ],
            [
             0.1111111111111111,
             "#46039f"
            ],
            [
             0.2222222222222222,
             "#7201a8"
            ],
            [
             0.3333333333333333,
             "#9c179e"
            ],
            [
             0.4444444444444444,
             "#bd3786"
            ],
            [
             0.5555555555555556,
             "#d8576b"
            ],
            [
             0.6666666666666666,
             "#ed7953"
            ],
            [
             0.7777777777777778,
             "#fb9f3a"
            ],
            [
             0.8888888888888888,
             "#fdca26"
            ],
            [
             1,
             "#f0f921"
            ]
           ],
           "sequentialminus": [
            [
             0,
             "#0d0887"
            ],
            [
             0.1111111111111111,
             "#46039f"
            ],
            [
             0.2222222222222222,
             "#7201a8"
            ],
            [
             0.3333333333333333,
             "#9c179e"
            ],
            [
             0.4444444444444444,
             "#bd3786"
            ],
            [
             0.5555555555555556,
             "#d8576b"
            ],
            [
             0.6666666666666666,
             "#ed7953"
            ],
            [
             0.7777777777777778,
             "#fb9f3a"
            ],
            [
             0.8888888888888888,
             "#fdca26"
            ],
            [
             1,
             "#f0f921"
            ]
           ]
          },
          "colorway": [
           "#636efa",
           "#EF553B",
           "#00cc96",
           "#ab63fa",
           "#FFA15A",
           "#19d3f3",
           "#FF6692",
           "#B6E880",
           "#FF97FF",
           "#FECB52"
          ],
          "font": {
           "color": "#2a3f5f"
          },
          "geo": {
           "bgcolor": "white",
           "lakecolor": "white",
           "landcolor": "#E5ECF6",
           "showlakes": true,
           "showland": true,
           "subunitcolor": "white"
          },
          "hoverlabel": {
           "align": "left"
          },
          "hovermode": "closest",
          "mapbox": {
           "style": "light"
          },
          "paper_bgcolor": "white",
          "plot_bgcolor": "#E5ECF6",
          "polar": {
           "angularaxis": {
            "gridcolor": "white",
            "linecolor": "white",
            "ticks": ""
           },
           "bgcolor": "#E5ECF6",
           "radialaxis": {
            "gridcolor": "white",
            "linecolor": "white",
            "ticks": ""
           }
          },
          "scene": {
           "xaxis": {
            "backgroundcolor": "#E5ECF6",
            "gridcolor": "white",
            "gridwidth": 2,
            "linecolor": "white",
            "showbackground": true,
            "ticks": "",
            "zerolinecolor": "white"
           },
           "yaxis": {
            "backgroundcolor": "#E5ECF6",
            "gridcolor": "white",
            "gridwidth": 2,
            "linecolor": "white",
            "showbackground": true,
            "ticks": "",
            "zerolinecolor": "white"
           },
           "zaxis": {
            "backgroundcolor": "#E5ECF6",
            "gridcolor": "white",
            "gridwidth": 2,
            "linecolor": "white",
            "showbackground": true,
            "ticks": "",
            "zerolinecolor": "white"
           }
          },
          "shapedefaults": {
           "line": {
            "color": "#2a3f5f"
           }
          },
          "ternary": {
           "aaxis": {
            "gridcolor": "white",
            "linecolor": "white",
            "ticks": ""
           },
           "baxis": {
            "gridcolor": "white",
            "linecolor": "white",
            "ticks": ""
           },
           "bgcolor": "#E5ECF6",
           "caxis": {
            "gridcolor": "white",
            "linecolor": "white",
            "ticks": ""
           }
          },
          "title": {
           "x": 0.05
          },
          "xaxis": {
           "automargin": true,
           "gridcolor": "white",
           "linecolor": "white",
           "ticks": "",
           "title": {
            "standoff": 15
           },
           "zerolinecolor": "white",
           "zerolinewidth": 2
          },
          "yaxis": {
           "automargin": true,
           "gridcolor": "white",
           "linecolor": "white",
           "ticks": "",
           "title": {
            "standoff": 15
           },
           "zerolinecolor": "white",
           "zerolinewidth": 2
          }
         }
        },
        "title": {
         "font": {
          "color": "black",
          "size": 20
         },
         "text": "Conteo de Reinfecciones por Género y Edad.",
         "x": 0.5
        },
        "xaxis": {
         "anchor": "y",
         "autorange": true,
         "domain": [
          0,
          0.49
         ],
         "range": [
          -0.5,
          4.5
         ],
         "title": {
          "font": {
           "size": 14
          },
          "text": "Grupo de Edad"
         },
         "type": "category"
        },
        "xaxis2": {
         "anchor": "y2",
         "autorange": true,
         "domain": [
          0.51,
          1
         ],
         "matches": "x",
         "range": [
          -0.5,
          4.5
         ],
         "title": {
          "text": "Grupo de Edad"
         },
         "type": "category"
        },
        "yaxis": {
         "anchor": "x",
         "autorange": true,
         "domain": [
          0,
          1
         ],
         "range": [
          0,
          422.10526315789474
         ],
         "title": {
          "font": {
           "size": 14
          },
          "text": "Número de Casos"
         },
         "type": "linear"
        },
        "yaxis2": {
         "anchor": "x2",
         "autorange": true,
         "domain": [
          0,
          1
         ],
         "matches": "y",
         "range": [
          0,
          422.10526315789474
         ],
         "showticklabels": false,
         "type": "linear"
        }
       }
      },
      "image/png": "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",
      "text/html": [
       "<div>                            <div id=\"eb541637-01ec-4ddd-b6e6-6f788bb81a50\" class=\"plotly-graph-div\" style=\"height:550px; width:100%;\"></div>            <script type=\"text/javascript\">                require([\"plotly\"], function(Plotly) {                    window.PLOTLYENV=window.PLOTLYENV || {};                                    if (document.getElementById(\"eb541637-01ec-4ddd-b6e6-6f788bb81a50\")) {                    Plotly.newPlot(                        \"eb541637-01ec-4ddd-b6e6-6f788bb81a50\",                        [{\"alignmentgroup\":\"True\",\"hovertemplate\":\"Estado de Reinfecci\\u00f3n=no\\u003cbr\\u003eG\\u00e9nero=female\\u003cbr\\u003eGrupo de Edad=%{x}\\u003cbr\\u003eN\\u00famero de Casos=%{y}\\u003cextra\\u003e\\u003c\\u002fextra\\u003e\",\"legendgroup\":\"no\",\"marker\":{\"color\":\"#1f78b4\",\"pattern\":{\"shape\":\"\"}},\"name\":\"no\",\"offsetgroup\":\"no\",\"orientation\":\"v\",\"showlegend\":true,\"textposition\":\"auto\",\"x\":[\"18-29\",\"30-49\",\"50-64\",\"65-79\",\"80+\"],\"xaxis\":\"x\",\"y\":[198,396,272,275,233],\"yaxis\":\"y\",\"type\":\"bar\"},{\"alignmentgroup\":\"True\",\"hovertemplate\":\"Estado de Reinfecci\\u00f3n=no\\u003cbr\\u003eG\\u00e9nero=male\\u003cbr\\u003eGrupo de Edad=%{x}\\u003cbr\\u003eN\\u00famero de Casos=%{y}\\u003cextra\\u003e\\u003c\\u002fextra\\u003e\",\"legendgroup\":\"no\",\"marker\":{\"color\":\"#1f78b4\",\"pattern\":{\"shape\":\"\"}},\"name\":\"no\",\"offsetgroup\":\"no\",\"orientation\":\"v\",\"showlegend\":false,\"textposition\":\"auto\",\"x\":[\"18-29\",\"30-49\",\"50-64\",\"65-79\",\"80+\"],\"xaxis\":\"x2\",\"y\":[172,401,271,294,203],\"yaxis\":\"y2\",\"type\":\"bar\"},{\"alignmentgroup\":\"True\",\"hovertemplate\":\"Estado de Reinfecci\\u00f3n=yes\\u003cbr\\u003eG\\u00e9nero=female\\u003cbr\\u003eGrupo de Edad=%{x}\\u003cbr\\u003eN\\u00famero de Casos=%{y}\\u003cextra\\u003e\\u003c\\u002fextra\\u003e\",\"legendgroup\":\"yes\",\"marker\":{\"color\":\"#D62728\",\"pattern\":{\"shape\":\"\"}},\"name\":\"yes\",\"offsetgroup\":\"yes\",\"orientation\":\"v\",\"showlegend\":true,\"textposition\":\"auto\",\"x\":[\"18-29\",\"30-49\",\"50-64\",\"65-79\",\"80+\"],\"xaxis\":\"x\",\"y\":[25,31,27,43,27],\"yaxis\":\"y\",\"type\":\"bar\"},{\"alignmentgroup\":\"True\",\"hovertemplate\":\"Estado de Reinfecci\\u00f3n=yes\\u003cbr\\u003eG\\u00e9nero=male\\u003cbr\\u003eGrupo de Edad=%{x}\\u003cbr\\u003eN\\u00famero de Casos=%{y}\\u003cextra\\u003e\\u003c\\u002fextra\\u003e\",\"legendgroup\":\"yes\",\"marker\":{\"color\":\"#D62728\",\"pattern\":{\"shape\":\"\"}},\"name\":\"yes\",\"offsetgroup\":\"yes\",\"orientation\":\"v\",\"showlegend\":false,\"textposition\":\"auto\",\"x\":[\"18-29\",\"30-49\",\"50-64\",\"65-79\",\"80+\"],\"xaxis\":\"x2\",\"y\":[31,30,22,26,23],\"yaxis\":\"y2\",\"type\":\"bar\"}],                        {\"template\":{\"data\":{\"histogram2dcontour\":[{\"type\":\"histogram2dcontour\",\"colorbar\":{\"outlinewidth\":0,\"ticks\":\"\"},\"colorscale\":[[0.0,\"#0d0887\"],[0.1111111111111111,\"#46039f\"],[0.2222222222222222,\"#7201a8\"],[0.3333333333333333,\"#9c179e\"],[0.4444444444444444,\"#bd3786\"],[0.5555555555555556,\"#d8576b\"],[0.6666666666666666,\"#ed7953\"],[0.7777777777777778,\"#fb9f3a\"],[0.8888888888888888,\"#fdca26\"],[1.0,\"#f0f921\"]]}],\"choropleth\":[{\"type\":\"choropleth\",\"colorbar\":{\"outlinewidth\":0,\"ticks\":\"\"}}],\"histogram2d\":[{\"type\":\"histogram2d\",\"colorbar\":{\"outlinewidth\":0,\"ticks\":\"\"},\"colorscale\":[[0.0,\"#0d0887\"],[0.1111111111111111,\"#46039f\"],[0.2222222222222222,\"#7201a8\"],[0.3333333333333333,\"#9c179e\"],[0.4444444444444444,\"#bd3786\"],[0.5555555555555556,\"#d8576b\"],[0.6666666666666666,\"#ed7953\"],[0.7777777777777778,\"#fb9f3a\"],[0.8888888888888888,\"#fdca26\"],[1.0,\"#f0f921\"]]}],\"heatmap\":[{\"type\":\"heatmap\",\"colorbar\":{\"outlinewidth\":0,\"ticks\":\"\"},\"colorscale\":[[0.0,\"#0d0887\"],[0.1111111111111111,\"#46039f\"],[0.2222222222222222,\"#7201a8\"],[0.3333333333333333,\"#9c179e\"],[0.4444444444444444,\"#bd3786\"],[0.5555555555555556,\"#d8576b\"],[0.6666666666666666,\"#ed7953\"],[0.7777777777777778,\"#fb9f3a\"],[0.8888888888888888,\"#fdca26\"],[1.0,\"#f0f921\"]]}],\"heatmapgl\":[{\"type\":\"heatmapgl\",\"colorbar\":{\"outlinewidth\":0,\"ticks\":\"\"},\"colorscale\":[[0.0,\"#0d0887\"],[0.1111111111111111,\"#46039f\"],[0.2222222222222222,\"#7201a8\"],[0.3333333333333333,\"#9c179e\"],[0.4444444444444444,\"#bd3786\"],[0.5555555555555556,\"#d8576b\"],[0.6666666666666666,\"#ed7953\"],[0.7777777777777778,\"#fb9f3a\"],[0.8888888888888888,\"#fdca26\"],[1.0,\"#f0f921\"]]}],\"contourcarpet\":[{\"type\":\"contourcarpet\",\"colorbar\":{\"outlinewidth\":0,\"ticks\":\"\"}}],\"contour\":[{\"type\":\"contour\",\"colorbar\":{\"outlinewidth\":0,\"ticks\":\"\"},\"colorscale\":[[0.0,\"#0d0887\"],[0.1111111111111111,\"#46039f\"],[0.2222222222222222,\"#7201a8\"],[0.3333333333333333,\"#9c179e\"],[0.4444444444444444,\"#bd3786\"],[0.5555555555555556,\"#d8576b\"],[0.6666666666666666,\"#ed7953\"],[0.7777777777777778,\"#fb9f3a\"],[0.8888888888888888,\"#fdca26\"],[1.0,\"#f0f921\"]]}],\"surface\":[{\"type\":\"surface\",\"colorbar\":{\"outlinewidth\":0,\"ticks\":\"\"},\"colorscale\":[[0.0,\"#0d0887\"],[0.1111111111111111,\"#46039f\"],[0.2222222222222222,\"#7201a8\"],[0.3333333333333333,\"#9c179e\"],[0.4444444444444444,\"#bd3786\"],[0.5555555555555556,\"#d8576b\"],[0.6666666666666666,\"#ed7953\"],[0.7777777777777778,\"#fb9f3a\"],[0.8888888888888888,\"#fdca26\"],[1.0,\"#f0f921\"]]}],\"mesh3d\":[{\"type\":\"mesh3d\",\"colorbar\":{\"outlinewidth\":0,\"ticks\":\"\"}}],\"scatter\":[{\"fillpattern\":{\"fillmode\":\"overlay\",\"size\":10,\"solidity\":0.2},\"type\":\"scatter\"}],\"parcoords\":[{\"type\":\"parcoords\",\"line\":{\"colorbar\":{\"outlinewidth\":0,\"ticks\":\"\"}}}],\"scatterpolargl\":[{\"type\":\"scatterpolargl\",\"marker\":{\"colorbar\":{\"outlinewidth\":0,\"ticks\":\"\"}}}],\"bar\":[{\"error_x\":{\"color\":\"#2a3f5f\"},\"error_y\":{\"color\":\"#2a3f5f\"},\"marker\":{\"line\":{\"color\":\"#E5ECF6\",\"width\":0.5},\"pattern\":{\"fillmode\":\"overlay\",\"size\":10,\"solidity\":0.2}},\"type\":\"bar\"}],\"scattergeo\":[{\"type\":\"scattergeo\",\"marker\":{\"colorbar\":{\"outlinewidth\":0,\"ticks\":\"\"}}}],\"scatterpolar\":[{\"type\":\"scatterpolar\",\"marker\":{\"colorbar\":{\"outlinewidth\":0,\"ticks\":\"\"}}}],\"histogram\":[{\"marker\":{\"pattern\":{\"fillmode\":\"overlay\",\"size\":10,\"solidity\":0.2}},\"type\":\"histogram\"}],\"scattergl\":[{\"type\":\"scattergl\",\"marker\":{\"colorbar\":{\"outlinewidth\":0,\"ticks\":\"\"}}}],\"scatter3d\":[{\"type\":\"scatter3d\",\"line\":{\"colorbar\":{\"outlinewidth\":0,\"ticks\":\"\"}},\"marker\":{\"colorbar\":{\"outlinewidth\":0,\"ticks\":\"\"}}}],\"scattermapbox\":[{\"type\":\"scattermapbox\",\"marker\":{\"colorbar\":{\"outlinewidth\":0,\"ticks\":\"\"}}}],\"scatterternary\":[{\"type\":\"scatterternary\",\"marker\":{\"colorbar\":{\"outlinewidth\":0,\"ticks\":\"\"}}}],\"scattercarpet\":[{\"type\":\"scattercarpet\",\"marker\":{\"colorbar\":{\"outlinewidth\":0,\"ticks\":\"\"}}}],\"carpet\":[{\"aaxis\":{\"endlinecolor\":\"#2a3f5f\",\"gridcolor\":\"white\",\"linecolor\":\"white\",\"minorgridcolor\":\"white\",\"startlinecolor\":\"#2a3f5f\"},\"baxis\":{\"endlinecolor\":\"#2a3f5f\",\"gridcolor\":\"white\",\"linecolor\":\"white\",\"minorgridcolor\":\"white\",\"startlinecolor\":\"#2a3f5f\"},\"type\":\"carpet\"}],\"table\":[{\"cells\":{\"fill\":{\"color\":\"#EBF0F8\"},\"line\":{\"color\":\"white\"}},\"header\":{\"fill\":{\"color\":\"#C8D4E3\"},\"line\":{\"color\":\"white\"}},\"type\":\"table\"}],\"barpolar\":[{\"marker\":{\"line\":{\"color\":\"#E5ECF6\",\"width\":0.5},\"pattern\":{\"fillmode\":\"overlay\",\"size\":10,\"solidity\":0.2}},\"type\":\"barpolar\"}],\"pie\":[{\"automargin\":true,\"type\":\"pie\"}]},\"layout\":{\"autotypenumbers\":\"strict\",\"colorway\":[\"#636efa\",\"#EF553B\",\"#00cc96\",\"#ab63fa\",\"#FFA15A\",\"#19d3f3\",\"#FF6692\",\"#B6E880\",\"#FF97FF\",\"#FECB52\"],\"font\":{\"color\":\"#2a3f5f\"},\"hovermode\":\"closest\",\"hoverlabel\":{\"align\":\"left\"},\"paper_bgcolor\":\"white\",\"plot_bgcolor\":\"#E5ECF6\",\"polar\":{\"bgcolor\":\"#E5ECF6\",\"angularaxis\":{\"gridcolor\":\"white\",\"linecolor\":\"white\",\"ticks\":\"\"},\"radialaxis\":{\"gridcolor\":\"white\",\"linecolor\":\"white\",\"ticks\":\"\"}},\"ternary\":{\"bgcolor\":\"#E5ECF6\",\"aaxis\":{\"gridcolor\":\"white\",\"linecolor\":\"white\",\"ticks\":\"\"},\"baxis\":{\"gridcolor\":\"white\",\"linecolor\":\"white\",\"ticks\":\"\"},\"caxis\":{\"gridcolor\":\"white\",\"linecolor\":\"white\",\"ticks\":\"\"}},\"coloraxis\":{\"colorbar\":{\"outlinewidth\":0,\"ticks\":\"\"}},\"colorscale\":{\"sequential\":[[0.0,\"#0d0887\"],[0.1111111111111111,\"#46039f\"],[0.2222222222222222,\"#7201a8\"],[0.3333333333333333,\"#9c179e\"],[0.4444444444444444,\"#bd3786\"],[0.5555555555555556,\"#d8576b\"],[0.6666666666666666,\"#ed7953\"],[0.7777777777777778,\"#fb9f3a\"],[0.8888888888888888,\"#fdca26\"],[1.0,\"#f0f921\"]],\"sequentialminus\":[[0.0,\"#0d0887\"],[0.1111111111111111,\"#46039f\"],[0.2222222222222222,\"#7201a8\"],[0.3333333333333333,\"#9c179e\"],[0.4444444444444444,\"#bd3786\"],[0.5555555555555556,\"#d8576b\"],[0.6666666666666666,\"#ed7953\"],[0.7777777777777778,\"#fb9f3a\"],[0.8888888888888888,\"#fdca26\"],[1.0,\"#f0f921\"]],\"diverging\":[[0,\"#8e0152\"],[0.1,\"#c51b7d\"],[0.2,\"#de77ae\"],[0.3,\"#f1b6da\"],[0.4,\"#fde0ef\"],[0.5,\"#f7f7f7\"],[0.6,\"#e6f5d0\"],[0.7,\"#b8e186\"],[0.8,\"#7fbc41\"],[0.9,\"#4d9221\"],[1,\"#276419\"]]},\"xaxis\":{\"gridcolor\":\"white\",\"linecolor\":\"white\",\"ticks\":\"\",\"title\":{\"standoff\":15},\"zerolinecolor\":\"white\",\"automargin\":true,\"zerolinewidth\":2},\"yaxis\":{\"gridcolor\":\"white\",\"linecolor\":\"white\",\"ticks\":\"\",\"title\":{\"standoff\":15},\"zerolinecolor\":\"white\",\"automargin\":true,\"zerolinewidth\":2},\"scene\":{\"xaxis\":{\"backgroundcolor\":\"#E5ECF6\",\"gridcolor\":\"white\",\"linecolor\":\"white\",\"showbackground\":true,\"ticks\":\"\",\"zerolinecolor\":\"white\",\"gridwidth\":2},\"yaxis\":{\"backgroundcolor\":\"#E5ECF6\",\"gridcolor\":\"white\",\"linecolor\":\"white\",\"showbackground\":true,\"ticks\":\"\",\"zerolinecolor\":\"white\",\"gridwidth\":2},\"zaxis\":{\"backgroundcolor\":\"#E5ECF6\",\"gridcolor\":\"white\",\"linecolor\":\"white\",\"showbackground\":true,\"ticks\":\"\",\"zerolinecolor\":\"white\",\"gridwidth\":2}},\"shapedefaults\":{\"line\":{\"color\":\"#2a3f5f\"}},\"annotationdefaults\":{\"arrowcolor\":\"#2a3f5f\",\"arrowhead\":0,\"arrowwidth\":1},\"geo\":{\"bgcolor\":\"white\",\"landcolor\":\"#E5ECF6\",\"subunitcolor\":\"white\",\"showland\":true,\"showlakes\":true,\"lakecolor\":\"white\"},\"title\":{\"x\":0.05},\"mapbox\":{\"style\":\"light\"}}},\"xaxis\":{\"anchor\":\"y\",\"domain\":[0.0,0.49],\"title\":{\"text\":\"Grupo de Edad\",\"font\":{\"size\":14}}},\"yaxis\":{\"anchor\":\"x\",\"domain\":[0.0,1.0],\"title\":{\"text\":\"N\\u00famero de Casos\",\"font\":{\"size\":14}}},\"xaxis2\":{\"anchor\":\"y2\",\"domain\":[0.51,1.0],\"matches\":\"x\",\"title\":{\"text\":\"Grupo de Edad\"}},\"yaxis2\":{\"anchor\":\"x2\",\"domain\":[0.0,1.0],\"matches\":\"y\",\"showticklabels\":false},\"annotations\":[{\"font\":{},\"showarrow\":false,\"text\":\"G\\u00e9nero=Femenino\",\"x\":0.245,\"xanchor\":\"center\",\"xref\":\"paper\",\"y\":1.0,\"yanchor\":\"bottom\",\"yref\":\"paper\"},{\"font\":{},\"showarrow\":false,\"text\":\"G\\u00e9nero=Masculino\",\"x\":0.755,\"xanchor\":\"center\",\"xref\":\"paper\",\"y\":1.0,\"yanchor\":\"bottom\",\"yref\":\"paper\"}],\"legend\":{\"title\":{\"text\":\"Estado de Reinfecci\\u00f3n\",\"font\":{\"size\":14}},\"tracegroupgap\":0,\"font\":{\"size\":12}},\"title\":{\"text\":\"Conteo de Reinfecciones por G\\u00e9nero y Edad.\",\"font\":{\"size\":20,\"color\":\"black\"},\"x\":0.5},\"barmode\":\"group\",\"hoverlabel\":{\"font\":{\"size\":12,\"family\":\"Arial\"},\"bgcolor\":\"white\"},\"height\":550},                        {\"responsive\": true}                    ).then(function(){\n",
       "                            \n",
       "var gd = document.getElementById('eb541637-01ec-4ddd-b6e6-6f788bb81a50');\n",
       "var x = new MutationObserver(function (mutations, observer) {{\n",
       "        var display = window.getComputedStyle(gd).display;\n",
       "        if (!display || display === 'none') {{\n",
       "            console.log([gd, 'removed!']);\n",
       "            Plotly.purge(gd);\n",
       "            observer.disconnect();\n",
       "        }}\n",
       "}});\n",
       "\n",
       "// Listen for the removal of the full notebook cells\n",
       "var notebookContainer = gd.closest('#notebook-container');\n",
       "if (notebookContainer) {{\n",
       "    x.observe(notebookContainer, {childList: true});\n",
       "}}\n",
       "\n",
       "// Listen for the clearing of the current output cell\n",
       "var outputEl = gd.closest('.output');\n",
       "if (outputEl) {{\n",
       "    x.observe(outputEl, {childList: true});\n",
       "}}\n",
       "\n",
       "                        })                };                });            </script>        </div>"
      ]
     },
     "metadata": {},
     "output_type": "display_data"
    }
   ],
   "source": [
    "import plotly.express as px\n",
    "\n",
    "df_temp = df_limpio.copy()\n",
    "df_temp['Age'] = pd.to_numeric(df_temp['Age'], errors='coerce')\n",
    "df_temp.dropna(subset=['Age'], inplace=True)\n",
    "df_temp['Age'] = df_temp['Age'].astype(int)\n",
    "\n",
    "bins = [18, 29, 49, 64, 79, df_temp['Age'].max() + 1]\n",
    "labels = ['18-29', '30-49', '50-64', '65-79', '80+']\n",
    "\n",
    "df_temp['Age_Group_Temp'] = pd.cut(df_temp['Age'], bins=bins, labels=labels, right=False, include_lowest=True)\n",
    "df_temp['Age_Group_Temp'] = df_temp['Age_Group_Temp'].astype('category')\n",
    "\n",
    "combined_gn_ed = pd.crosstab(index=[df_temp['Gender'], df_temp['Age_Group_Temp']], columns=df_temp['Reinfection'])\n",
    "\n",
    "df_plot = combined_gn_ed.reset_index().melt(\n",
    "    id_vars=['Gender', 'Age_Group_Temp'],\n",
    "    var_name='Estado_Reinfeccion',\n",
    "    value_name='Conteo_Reinfeccion'\n",
    ")\n",
    "\n",
    "colors = {\n",
    "    'no': '#1f78b4',\n",
    "    'yes': '#D62728'\n",
    "}\n",
    "\n",
    "graf = px.bar(\n",
    "    df_plot,\n",
    "    x = 'Age_Group_Temp',\n",
    "    y = 'Conteo_Reinfeccion', \n",
    "    color = 'Estado_Reinfeccion',\n",
    "    facet_col = 'Gender',\n",
    "    barmode = 'group',\n",
    "    title = 'Conteo de Reinfecciones por Género y Edad.',\n",
    "    labels={\n",
    "        'Age_Group_Temp' : 'Grupo de Edad',\n",
    "        'Conteo_Reinfeccion' : 'Número de Casos',\n",
    "        'Estado_Reinfeccion' : 'Estado de Reinfección',\n",
    "        'Gender' : 'Género'\n",
    "    },\n",
    "    hover_data = {'Conteo_Reinfeccion': True},\n",
    "    color_discrete_map = colors,\n",
    ")\n",
    "\n",
    "graf.update_layout(\n",
    "    title_font_size=20,\n",
    "    title_font_color='black',\n",
    "    title_x=0.5,\n",
    "    xaxis_title_font_size=14,\n",
    "    yaxis_title_font_size=14,\n",
    "    legend_title_font_size=14,\n",
    "    legend_font_size=12,\n",
    "    hoverlabel=dict(bgcolor=\"white\", font_size=12, font_family=\"Arial\"),\n",
    "    height=550\n",
    ")\n",
    "\n",
    "graf.for_each_annotation(lambda a: a.update(text = a.text.replace(\"Gender=\", \"Género: \").replace(\"female\", \"Femenino\").replace(\"male\", \"Masculino\")))\n",
    "\n",
    "graf.show()"
   ]
  },
  {
   "cell_type": "markdown",
   "id": "21dd9238-cc82-4146-968b-d0b2dc2db60d",
   "metadata": {},
   "source": [
    "**NOTA**: El gráfico presenta el conteo de casos de reinfección (y no reinfección) desglosado por grupo de edad y género, lo que nos permite explorar patrones más detallados.\n",
    "\n",
    "* Se observa que, en la mayoría de los grupos de edad, el número absoluto de casos de reinfección y no reinfección es mayor en hombres que en mujeres.\n",
    "* Tanto en hombres como en mujeres, los grupos de edad de 30-49 años y 18-29 años son los que presentan el mayor conteo de reinfecciones. Este patrón sugiere que los adultos jóvenes y de mediana edad son los que más casos absolutos de reinfección tienen, independientemente del género.\n",
    "  "
   ]
  },
  {
   "cell_type": "markdown",
   "id": "093951aa-ff58-4ef5-a1da-6d0d6b60537b",
   "metadata": {},
   "source": [
    "## ¿Existen diferencias significativas en la tasa de reinfección entre distintos grupos demográficos (edad, género)? 🦠\n",
    "\n",
    "**Sí, existen diferencias significativas en la tasa de reinfección entre distintos grupos demográficos, especialmente en relación con la edad, mientras que la influencia del género es más sutil y se observa más en el conteo absoluto de casos que en la proporción de reinfección.**\n",
    "\n",
    "**Edad.**\n",
    "\n",
    "* El grupo de adultos jóvenes (18-29 años) muestra la proporción más alta de reinfección, con un 13.1%.\n",
    "* Los grupos de adultos mayores (65-79 años y 80+ años) también presentan proporciones elevadas de reinfección, con 10.8% y 10.3% respectivamente.\n",
    "* En contraste, los grupos de edad intermedia (30-49 años con 7.1% y 50-64 años con 8.3%) exhiben las proporciones de reinfección más bajas.\n",
    "\n",
    "**Esto sugiere que los extremos del rango de edad adulta (jóvenes y mayores) tienen una mayor proporción de reinfecciones que las edades intermedias.**\n",
    "\n",
    "**Género.**\n",
    "\n",
    "* En términos de conteo absoluto, el gráfico muestra un mayor número de casos de reinfección en hombres comparado con mujeres en la mayoría de los grupos de edad.\n",
    "\n",
    "**Conclusión.📊**\n",
    "\n",
    "La edad es un factor demográfico distintivo que influye en la tasa de reinfección, mostrando patrones claros en diferentes grupos etarios. El género, por otro lado, impacta más en el conteo total de casos que en la proporción de reinfección, lo que sugiere que no es un factor de riesgo proporcional tan marcado como la edad."
   ]
  },
  {
   "cell_type": "markdown",
   "id": "95a5defb-2cce-4d82-bbb2-aa11925e466d",
   "metadata": {},
   "source": [
    "## 4.2 ¿Qué condiciones de salud preexistentes (comorbilidades) están más fuertemente asociadas con un mayor riesgo de reinfección?🌎\n",
    "\n",
    "* En esta etapa del análisis, nos enfocaremos en investigar la relación entre las condiciones de salud preexistentes (comorbilidades) y la reinfección de COVID-19. Nuestro objetivo principal es determinar si existen comorbilidades que estén fuertemente asociadas con un mayor riesgo de reinfección en los pacientes. Para ello, exploraremos cómo la presencia de estas condiciones influye en la proporción de casos de reinfección."
   ]
  },
  {
   "cell_type": "code",
   "execution_count": 53,
   "id": "cc672b22-2778-4e41-aafd-73df9d9e6a92",
   "metadata": {},
   "outputs": [
    {
     "name": "stdout",
     "output_type": "stream",
     "text": [
      "Tasa de reinfección por condición preexistente: \n",
      "\n",
      "   Preexisting_Condition Reinfection  Proportion\n",
      "0                 asthma          no    0.925466\n",
      "1                 asthma         yes    0.074534\n",
      "2         cardiovascular          no    0.902439\n",
      "3         cardiovascular         yes    0.097561\n",
      "4               diabetes          no    0.908023\n",
      "5               diabetes         yes    0.091977\n",
      "6           hypertension          no    0.888438\n",
      "7           hypertension         yes    0.111562\n",
      "8                    nan          no    0.891258\n",
      "9                    nan         yes    0.108742\n",
      "10               obesity          no    0.913894\n",
      "11               obesity         yes    0.086106\n"
     ]
    }
   ],
   "source": [
    "rein_pc = df_limpio.groupby('Preexisting_Condition', observed=False)['Reinfection'].value_counts(normalize=True).reset_index(name='Proportion')\n",
    "print('Tasa de reinfección por condición preexistente: \\n')\n",
    "print(rein_pc)"
   ]
  },
  {
   "cell_type": "code",
   "execution_count": 64,
   "id": "36497fbb-ad33-4b84-a16e-184a1bd0baac",
   "metadata": {},
   "outputs": [
    {
     "data": {
      "application/vnd.plotly.v1+json": {
       "config": {
        "plotlyServerURL": "https://plot.ly"
       },
       "data": [
        {
         "alignmentgroup": "True",
         "hovertemplate": "Estado de Reinfección=no<br>Condición=%{x}<br>Proporción=%{y:.1%}<extra></extra>",
         "legendgroup": "no",
         "marker": {
          "color": "#a6cee3",
          "pattern": {
           "shape": ""
          }
         },
         "name": "no",
         "offsetgroup": "no",
         "orientation": "v",
         "showlegend": true,
         "textposition": "auto",
         "texttemplate": "%{y:.1%}",
         "type": "bar",
         "x": [
          "asthma",
          "cardiovascular",
          "diabetes",
          "hypertension",
          "nan",
          "obesity"
         ],
         "xaxis": "x",
         "y": [
          0.9254658385093167,
          0.9024390243902439,
          0.9080234833659491,
          0.8884381338742393,
          0.8912579957356077,
          0.913894324853229
         ],
         "yaxis": "y"
        },
        {
         "alignmentgroup": "True",
         "hovertemplate": "Estado de Reinfección=yes<br>Condición=%{x}<br>Proporción=%{y:.1%}<extra></extra>",
         "legendgroup": "yes",
         "marker": {
          "color": "#1f78b4",
          "pattern": {
           "shape": ""
          }
         },
         "name": "yes",
         "offsetgroup": "yes",
         "orientation": "v",
         "showlegend": true,
         "textposition": "auto",
         "texttemplate": "%{y:.1%}",
         "type": "bar",
         "x": [
          "asthma",
          "cardiovascular",
          "diabetes",
          "hypertension",
          "nan",
          "obesity"
         ],
         "xaxis": "x",
         "y": [
          0.07453416149068323,
          0.0975609756097561,
          0.09197651663405088,
          0.11156186612576065,
          0.10874200426439233,
          0.08610567514677103
         ],
         "yaxis": "y"
        }
       ],
       "layout": {
        "autosize": true,
        "barmode": "group",
        "dragmode": "zoom",
        "hoverlabel": {
         "bgcolor": "white",
         "font": {
          "family": "Arial",
          "size": 12
         }
        },
        "legend": {
         "font": {
          "size": 12
         },
         "title": {
          "font": {
           "size": 14
          },
          "text": "Estado de Reinfección"
         },
         "tracegroupgap": 0
        },
        "template": {
         "data": {
          "bar": [
           {
            "error_x": {
             "color": "#2a3f5f"
            },
            "error_y": {
             "color": "#2a3f5f"
            },
            "marker": {
             "line": {
              "color": "#E5ECF6",
              "width": 0.5
             },
             "pattern": {
              "fillmode": "overlay",
              "size": 10,
              "solidity": 0.2
             }
            },
            "type": "bar"
           }
          ],
          "barpolar": [
           {
            "marker": {
             "line": {
              "color": "#E5ECF6",
              "width": 0.5
             },
             "pattern": {
              "fillmode": "overlay",
              "size": 10,
              "solidity": 0.2
             }
            },
            "type": "barpolar"
           }
          ],
          "carpet": [
           {
            "aaxis": {
             "endlinecolor": "#2a3f5f",
             "gridcolor": "white",
             "linecolor": "white",
             "minorgridcolor": "white",
             "startlinecolor": "#2a3f5f"
            },
            "baxis": {
             "endlinecolor": "#2a3f5f",
             "gridcolor": "white",
             "linecolor": "white",
             "minorgridcolor": "white",
             "startlinecolor": "#2a3f5f"
            },
            "type": "carpet"
           }
          ],
          "choropleth": [
           {
            "colorbar": {
             "outlinewidth": 0,
             "ticks": ""
            },
            "type": "choropleth"
           }
          ],
          "contour": [
           {
            "colorbar": {
             "outlinewidth": 0,
             "ticks": ""
            },
            "colorscale": [
             [
              0,
              "#0d0887"
             ],
             [
              0.1111111111111111,
              "#46039f"
             ],
             [
              0.2222222222222222,
              "#7201a8"
             ],
             [
              0.3333333333333333,
              "#9c179e"
             ],
             [
              0.4444444444444444,
              "#bd3786"
             ],
             [
              0.5555555555555556,
              "#d8576b"
             ],
             [
              0.6666666666666666,
              "#ed7953"
             ],
             [
              0.7777777777777778,
              "#fb9f3a"
             ],
             [
              0.8888888888888888,
              "#fdca26"
             ],
             [
              1,
              "#f0f921"
             ]
            ],
            "type": "contour"
           }
          ],
          "contourcarpet": [
           {
            "colorbar": {
             "outlinewidth": 0,
             "ticks": ""
            },
            "type": "contourcarpet"
           }
          ],
          "heatmap": [
           {
            "colorbar": {
             "outlinewidth": 0,
             "ticks": ""
            },
            "colorscale": [
             [
              0,
              "#0d0887"
             ],
             [
              0.1111111111111111,
              "#46039f"
             ],
             [
              0.2222222222222222,
              "#7201a8"
             ],
             [
              0.3333333333333333,
              "#9c179e"
             ],
             [
              0.4444444444444444,
              "#bd3786"
             ],
             [
              0.5555555555555556,
              "#d8576b"
             ],
             [
              0.6666666666666666,
              "#ed7953"
             ],
             [
              0.7777777777777778,
              "#fb9f3a"
             ],
             [
              0.8888888888888888,
              "#fdca26"
             ],
             [
              1,
              "#f0f921"
             ]
            ],
            "type": "heatmap"
           }
          ],
          "heatmapgl": [
           {
            "colorbar": {
             "outlinewidth": 0,
             "ticks": ""
            },
            "colorscale": [
             [
              0,
              "#0d0887"
             ],
             [
              0.1111111111111111,
              "#46039f"
             ],
             [
              0.2222222222222222,
              "#7201a8"
             ],
             [
              0.3333333333333333,
              "#9c179e"
             ],
             [
              0.4444444444444444,
              "#bd3786"
             ],
             [
              0.5555555555555556,
              "#d8576b"
             ],
             [
              0.6666666666666666,
              "#ed7953"
             ],
             [
              0.7777777777777778,
              "#fb9f3a"
             ],
             [
              0.8888888888888888,
              "#fdca26"
             ],
             [
              1,
              "#f0f921"
             ]
            ],
            "type": "heatmapgl"
           }
          ],
          "histogram": [
           {
            "marker": {
             "pattern": {
              "fillmode": "overlay",
              "size": 10,
              "solidity": 0.2
             }
            },
            "type": "histogram"
           }
          ],
          "histogram2d": [
           {
            "colorbar": {
             "outlinewidth": 0,
             "ticks": ""
            },
            "colorscale": [
             [
              0,
              "#0d0887"
             ],
             [
              0.1111111111111111,
              "#46039f"
             ],
             [
              0.2222222222222222,
              "#7201a8"
             ],
             [
              0.3333333333333333,
              "#9c179e"
             ],
             [
              0.4444444444444444,
              "#bd3786"
             ],
             [
              0.5555555555555556,
              "#d8576b"
             ],
             [
              0.6666666666666666,
              "#ed7953"
             ],
             [
              0.7777777777777778,
              "#fb9f3a"
             ],
             [
              0.8888888888888888,
              "#fdca26"
             ],
             [
              1,
              "#f0f921"
             ]
            ],
            "type": "histogram2d"
           }
          ],
          "histogram2dcontour": [
           {
            "colorbar": {
             "outlinewidth": 0,
             "ticks": ""
            },
            "colorscale": [
             [
              0,
              "#0d0887"
             ],
             [
              0.1111111111111111,
              "#46039f"
             ],
             [
              0.2222222222222222,
              "#7201a8"
             ],
             [
              0.3333333333333333,
              "#9c179e"
             ],
             [
              0.4444444444444444,
              "#bd3786"
             ],
             [
              0.5555555555555556,
              "#d8576b"
             ],
             [
              0.6666666666666666,
              "#ed7953"
             ],
             [
              0.7777777777777778,
              "#fb9f3a"
             ],
             [
              0.8888888888888888,
              "#fdca26"
             ],
             [
              1,
              "#f0f921"
             ]
            ],
            "type": "histogram2dcontour"
           }
          ],
          "mesh3d": [
           {
            "colorbar": {
             "outlinewidth": 0,
             "ticks": ""
            },
            "type": "mesh3d"
           }
          ],
          "parcoords": [
           {
            "line": {
             "colorbar": {
              "outlinewidth": 0,
              "ticks": ""
             }
            },
            "type": "parcoords"
           }
          ],
          "pie": [
           {
            "automargin": true,
            "type": "pie"
           }
          ],
          "scatter": [
           {
            "fillpattern": {
             "fillmode": "overlay",
             "size": 10,
             "solidity": 0.2
            },
            "type": "scatter"
           }
          ],
          "scatter3d": [
           {
            "line": {
             "colorbar": {
              "outlinewidth": 0,
              "ticks": ""
             }
            },
            "marker": {
             "colorbar": {
              "outlinewidth": 0,
              "ticks": ""
             }
            },
            "type": "scatter3d"
           }
          ],
          "scattercarpet": [
           {
            "marker": {
             "colorbar": {
              "outlinewidth": 0,
              "ticks": ""
             }
            },
            "type": "scattercarpet"
           }
          ],
          "scattergeo": [
           {
            "marker": {
             "colorbar": {
              "outlinewidth": 0,
              "ticks": ""
             }
            },
            "type": "scattergeo"
           }
          ],
          "scattergl": [
           {
            "marker": {
             "colorbar": {
              "outlinewidth": 0,
              "ticks": ""
             }
            },
            "type": "scattergl"
           }
          ],
          "scattermapbox": [
           {
            "marker": {
             "colorbar": {
              "outlinewidth": 0,
              "ticks": ""
             }
            },
            "type": "scattermapbox"
           }
          ],
          "scatterpolar": [
           {
            "marker": {
             "colorbar": {
              "outlinewidth": 0,
              "ticks": ""
             }
            },
            "type": "scatterpolar"
           }
          ],
          "scatterpolargl": [
           {
            "marker": {
             "colorbar": {
              "outlinewidth": 0,
              "ticks": ""
             }
            },
            "type": "scatterpolargl"
           }
          ],
          "scatterternary": [
           {
            "marker": {
             "colorbar": {
              "outlinewidth": 0,
              "ticks": ""
             }
            },
            "type": "scatterternary"
           }
          ],
          "surface": [
           {
            "colorbar": {
             "outlinewidth": 0,
             "ticks": ""
            },
            "colorscale": [
             [
              0,
              "#0d0887"
             ],
             [
              0.1111111111111111,
              "#46039f"
             ],
             [
              0.2222222222222222,
              "#7201a8"
             ],
             [
              0.3333333333333333,
              "#9c179e"
             ],
             [
              0.4444444444444444,
              "#bd3786"
             ],
             [
              0.5555555555555556,
              "#d8576b"
             ],
             [
              0.6666666666666666,
              "#ed7953"
             ],
             [
              0.7777777777777778,
              "#fb9f3a"
             ],
             [
              0.8888888888888888,
              "#fdca26"
             ],
             [
              1,
              "#f0f921"
             ]
            ],
            "type": "surface"
           }
          ],
          "table": [
           {
            "cells": {
             "fill": {
              "color": "#EBF0F8"
             },
             "line": {
              "color": "white"
             }
            },
            "header": {
             "fill": {
              "color": "#C8D4E3"
             },
             "line": {
              "color": "white"
             }
            },
            "type": "table"
           }
          ]
         },
         "layout": {
          "annotationdefaults": {
           "arrowcolor": "#2a3f5f",
           "arrowhead": 0,
           "arrowwidth": 1
          },
          "autotypenumbers": "strict",
          "coloraxis": {
           "colorbar": {
            "outlinewidth": 0,
            "ticks": ""
           }
          },
          "colorscale": {
           "diverging": [
            [
             0,
             "#8e0152"
            ],
            [
             0.1,
             "#c51b7d"
            ],
            [
             0.2,
             "#de77ae"
            ],
            [
             0.3,
             "#f1b6da"
            ],
            [
             0.4,
             "#fde0ef"
            ],
            [
             0.5,
             "#f7f7f7"
            ],
            [
             0.6,
             "#e6f5d0"
            ],
            [
             0.7,
             "#b8e186"
            ],
            [
             0.8,
             "#7fbc41"
            ],
            [
             0.9,
             "#4d9221"
            ],
            [
             1,
             "#276419"
            ]
           ],
           "sequential": [
            [
             0,
             "#0d0887"
            ],
            [
             0.1111111111111111,
             "#46039f"
            ],
            [
             0.2222222222222222,
             "#7201a8"
            ],
            [
             0.3333333333333333,
             "#9c179e"
            ],
            [
             0.4444444444444444,
             "#bd3786"
            ],
            [
             0.5555555555555556,
             "#d8576b"
            ],
            [
             0.6666666666666666,
             "#ed7953"
            ],
            [
             0.7777777777777778,
             "#fb9f3a"
            ],
            [
             0.8888888888888888,
             "#fdca26"
            ],
            [
             1,
             "#f0f921"
            ]
           ],
           "sequentialminus": [
            [
             0,
             "#0d0887"
            ],
            [
             0.1111111111111111,
             "#46039f"
            ],
            [
             0.2222222222222222,
             "#7201a8"
            ],
            [
             0.3333333333333333,
             "#9c179e"
            ],
            [
             0.4444444444444444,
             "#bd3786"
            ],
            [
             0.5555555555555556,
             "#d8576b"
            ],
            [
             0.6666666666666666,
             "#ed7953"
            ],
            [
             0.7777777777777778,
             "#fb9f3a"
            ],
            [
             0.8888888888888888,
             "#fdca26"
            ],
            [
             1,
             "#f0f921"
            ]
           ]
          },
          "colorway": [
           "#636efa",
           "#EF553B",
           "#00cc96",
           "#ab63fa",
           "#FFA15A",
           "#19d3f3",
           "#FF6692",
           "#B6E880",
           "#FF97FF",
           "#FECB52"
          ],
          "font": {
           "color": "#2a3f5f"
          },
          "geo": {
           "bgcolor": "white",
           "lakecolor": "white",
           "landcolor": "#E5ECF6",
           "showlakes": true,
           "showland": true,
           "subunitcolor": "white"
          },
          "hoverlabel": {
           "align": "left"
          },
          "hovermode": "closest",
          "mapbox": {
           "style": "light"
          },
          "paper_bgcolor": "white",
          "plot_bgcolor": "#E5ECF6",
          "polar": {
           "angularaxis": {
            "gridcolor": "white",
            "linecolor": "white",
            "ticks": ""
           },
           "bgcolor": "#E5ECF6",
           "radialaxis": {
            "gridcolor": "white",
            "linecolor": "white",
            "ticks": ""
           }
          },
          "scene": {
           "xaxis": {
            "backgroundcolor": "#E5ECF6",
            "gridcolor": "white",
            "gridwidth": 2,
            "linecolor": "white",
            "showbackground": true,
            "ticks": "",
            "zerolinecolor": "white"
           },
           "yaxis": {
            "backgroundcolor": "#E5ECF6",
            "gridcolor": "white",
            "gridwidth": 2,
            "linecolor": "white",
            "showbackground": true,
            "ticks": "",
            "zerolinecolor": "white"
           },
           "zaxis": {
            "backgroundcolor": "#E5ECF6",
            "gridcolor": "white",
            "gridwidth": 2,
            "linecolor": "white",
            "showbackground": true,
            "ticks": "",
            "zerolinecolor": "white"
           }
          },
          "shapedefaults": {
           "line": {
            "color": "#2a3f5f"
           }
          },
          "ternary": {
           "aaxis": {
            "gridcolor": "white",
            "linecolor": "white",
            "ticks": ""
           },
           "baxis": {
            "gridcolor": "white",
            "linecolor": "white",
            "ticks": ""
           },
           "bgcolor": "#E5ECF6",
           "caxis": {
            "gridcolor": "white",
            "linecolor": "white",
            "ticks": ""
           }
          },
          "title": {
           "x": 0.05
          },
          "xaxis": {
           "automargin": true,
           "gridcolor": "white",
           "linecolor": "white",
           "ticks": "",
           "title": {
            "standoff": 15
           },
           "zerolinecolor": "white",
           "zerolinewidth": 2
          },
          "yaxis": {
           "automargin": true,
           "gridcolor": "white",
           "linecolor": "white",
           "ticks": "",
           "title": {
            "standoff": 15
           },
           "zerolinecolor": "white",
           "zerolinewidth": 2
          }
         }
        },
        "title": {
         "font": {
          "color": "black",
          "size": 20
         },
         "text": "Proporción de Reinfección de COVID-19 por Condición Preexistente",
         "x": 0.5
        },
        "xaxis": {
         "anchor": "y",
         "autorange": true,
         "domain": [
          0,
          1
         ],
         "range": [
          -0.5,
          5.5
         ],
         "title": {
          "font": {
           "size": 14
          },
          "text": "Condición"
         },
         "type": "category"
        },
        "yaxis": {
         "anchor": "x",
         "autorange": true,
         "domain": [
          0,
          1
         ],
         "range": [
          0,
          0.9741745668519124
         ],
         "tickformat": ".0%",
         "title": {
          "font": {
           "size": 14
          },
          "text": "Proporción"
         },
         "type": "linear"
        }
       }
      },
      "image/png": "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",
      "text/html": [
       "<div>                            <div id=\"df88bdee-7d86-43ab-a226-df4c2e164e1c\" class=\"plotly-graph-div\" style=\"height:550px; width:100%;\"></div>            <script type=\"text/javascript\">                require([\"plotly\"], function(Plotly) {                    window.PLOTLYENV=window.PLOTLYENV || {};                                    if (document.getElementById(\"df88bdee-7d86-43ab-a226-df4c2e164e1c\")) {                    Plotly.newPlot(                        \"df88bdee-7d86-43ab-a226-df4c2e164e1c\",                        [{\"alignmentgroup\":\"True\",\"hovertemplate\":\"Estado de Reinfecci\\u00f3n=no\\u003cbr\\u003eCondici\\u00f3n=%{x}\\u003cbr\\u003eProporci\\u00f3n=%{y:.1%}\\u003cextra\\u003e\\u003c\\u002fextra\\u003e\",\"legendgroup\":\"no\",\"marker\":{\"color\":\"#a6cee3\",\"pattern\":{\"shape\":\"\"}},\"name\":\"no\",\"offsetgroup\":\"no\",\"orientation\":\"v\",\"showlegend\":true,\"textposition\":\"auto\",\"texttemplate\":\"%{y:.1%}\",\"x\":[\"asthma\",\"cardiovascular\",\"diabetes\",\"hypertension\",\"nan\",\"obesity\"],\"xaxis\":\"x\",\"y\":[0.9254658385093167,0.9024390243902439,0.9080234833659491,0.8884381338742393,0.8912579957356077,0.913894324853229],\"yaxis\":\"y\",\"type\":\"bar\"},{\"alignmentgroup\":\"True\",\"hovertemplate\":\"Estado de Reinfecci\\u00f3n=yes\\u003cbr\\u003eCondici\\u00f3n=%{x}\\u003cbr\\u003eProporci\\u00f3n=%{y:.1%}\\u003cextra\\u003e\\u003c\\u002fextra\\u003e\",\"legendgroup\":\"yes\",\"marker\":{\"color\":\"#1f78b4\",\"pattern\":{\"shape\":\"\"}},\"name\":\"yes\",\"offsetgroup\":\"yes\",\"orientation\":\"v\",\"showlegend\":true,\"textposition\":\"auto\",\"texttemplate\":\"%{y:.1%}\",\"x\":[\"asthma\",\"cardiovascular\",\"diabetes\",\"hypertension\",\"nan\",\"obesity\"],\"xaxis\":\"x\",\"y\":[0.07453416149068323,0.0975609756097561,0.09197651663405088,0.11156186612576065,0.10874200426439233,0.08610567514677103],\"yaxis\":\"y\",\"type\":\"bar\"}],                        {\"template\":{\"data\":{\"histogram2dcontour\":[{\"type\":\"histogram2dcontour\",\"colorbar\":{\"outlinewidth\":0,\"ticks\":\"\"},\"colorscale\":[[0.0,\"#0d0887\"],[0.1111111111111111,\"#46039f\"],[0.2222222222222222,\"#7201a8\"],[0.3333333333333333,\"#9c179e\"],[0.4444444444444444,\"#bd3786\"],[0.5555555555555556,\"#d8576b\"],[0.6666666666666666,\"#ed7953\"],[0.7777777777777778,\"#fb9f3a\"],[0.8888888888888888,\"#fdca26\"],[1.0,\"#f0f921\"]]}],\"choropleth\":[{\"type\":\"choropleth\",\"colorbar\":{\"outlinewidth\":0,\"ticks\":\"\"}}],\"histogram2d\":[{\"type\":\"histogram2d\",\"colorbar\":{\"outlinewidth\":0,\"ticks\":\"\"},\"colorscale\":[[0.0,\"#0d0887\"],[0.1111111111111111,\"#46039f\"],[0.2222222222222222,\"#7201a8\"],[0.3333333333333333,\"#9c179e\"],[0.4444444444444444,\"#bd3786\"],[0.5555555555555556,\"#d8576b\"],[0.6666666666666666,\"#ed7953\"],[0.7777777777777778,\"#fb9f3a\"],[0.8888888888888888,\"#fdca26\"],[1.0,\"#f0f921\"]]}],\"heatmap\":[{\"type\":\"heatmap\",\"colorbar\":{\"outlinewidth\":0,\"ticks\":\"\"},\"colorscale\":[[0.0,\"#0d0887\"],[0.1111111111111111,\"#46039f\"],[0.2222222222222222,\"#7201a8\"],[0.3333333333333333,\"#9c179e\"],[0.4444444444444444,\"#bd3786\"],[0.5555555555555556,\"#d8576b\"],[0.6666666666666666,\"#ed7953\"],[0.7777777777777778,\"#fb9f3a\"],[0.8888888888888888,\"#fdca26\"],[1.0,\"#f0f921\"]]}],\"heatmapgl\":[{\"type\":\"heatmapgl\",\"colorbar\":{\"outlinewidth\":0,\"ticks\":\"\"},\"colorscale\":[[0.0,\"#0d0887\"],[0.1111111111111111,\"#46039f\"],[0.2222222222222222,\"#7201a8\"],[0.3333333333333333,\"#9c179e\"],[0.4444444444444444,\"#bd3786\"],[0.5555555555555556,\"#d8576b\"],[0.6666666666666666,\"#ed7953\"],[0.7777777777777778,\"#fb9f3a\"],[0.8888888888888888,\"#fdca26\"],[1.0,\"#f0f921\"]]}],\"contourcarpet\":[{\"type\":\"contourcarpet\",\"colorbar\":{\"outlinewidth\":0,\"ticks\":\"\"}}],\"contour\":[{\"type\":\"contour\",\"colorbar\":{\"outlinewidth\":0,\"ticks\":\"\"},\"colorscale\":[[0.0,\"#0d0887\"],[0.1111111111111111,\"#46039f\"],[0.2222222222222222,\"#7201a8\"],[0.3333333333333333,\"#9c179e\"],[0.4444444444444444,\"#bd3786\"],[0.5555555555555556,\"#d8576b\"],[0.6666666666666666,\"#ed7953\"],[0.7777777777777778,\"#fb9f3a\"],[0.8888888888888888,\"#fdca26\"],[1.0,\"#f0f921\"]]}],\"surface\":[{\"type\":\"surface\",\"colorbar\":{\"outlinewidth\":0,\"ticks\":\"\"},\"colorscale\":[[0.0,\"#0d0887\"],[0.1111111111111111,\"#46039f\"],[0.2222222222222222,\"#7201a8\"],[0.3333333333333333,\"#9c179e\"],[0.4444444444444444,\"#bd3786\"],[0.5555555555555556,\"#d8576b\"],[0.6666666666666666,\"#ed7953\"],[0.7777777777777778,\"#fb9f3a\"],[0.8888888888888888,\"#fdca26\"],[1.0,\"#f0f921\"]]}],\"mesh3d\":[{\"type\":\"mesh3d\",\"colorbar\":{\"outlinewidth\":0,\"ticks\":\"\"}}],\"scatter\":[{\"fillpattern\":{\"fillmode\":\"overlay\",\"size\":10,\"solidity\":0.2},\"type\":\"scatter\"}],\"parcoords\":[{\"type\":\"parcoords\",\"line\":{\"colorbar\":{\"outlinewidth\":0,\"ticks\":\"\"}}}],\"scatterpolargl\":[{\"type\":\"scatterpolargl\",\"marker\":{\"colorbar\":{\"outlinewidth\":0,\"ticks\":\"\"}}}],\"bar\":[{\"error_x\":{\"color\":\"#2a3f5f\"},\"error_y\":{\"color\":\"#2a3f5f\"},\"marker\":{\"line\":{\"color\":\"#E5ECF6\",\"width\":0.5},\"pattern\":{\"fillmode\":\"overlay\",\"size\":10,\"solidity\":0.2}},\"type\":\"bar\"}],\"scattergeo\":[{\"type\":\"scattergeo\",\"marker\":{\"colorbar\":{\"outlinewidth\":0,\"ticks\":\"\"}}}],\"scatterpolar\":[{\"type\":\"scatterpolar\",\"marker\":{\"colorbar\":{\"outlinewidth\":0,\"ticks\":\"\"}}}],\"histogram\":[{\"marker\":{\"pattern\":{\"fillmode\":\"overlay\",\"size\":10,\"solidity\":0.2}},\"type\":\"histogram\"}],\"scattergl\":[{\"type\":\"scattergl\",\"marker\":{\"colorbar\":{\"outlinewidth\":0,\"ticks\":\"\"}}}],\"scatter3d\":[{\"type\":\"scatter3d\",\"line\":{\"colorbar\":{\"outlinewidth\":0,\"ticks\":\"\"}},\"marker\":{\"colorbar\":{\"outlinewidth\":0,\"ticks\":\"\"}}}],\"scattermapbox\":[{\"type\":\"scattermapbox\",\"marker\":{\"colorbar\":{\"outlinewidth\":0,\"ticks\":\"\"}}}],\"scatterternary\":[{\"type\":\"scatterternary\",\"marker\":{\"colorbar\":{\"outlinewidth\":0,\"ticks\":\"\"}}}],\"scattercarpet\":[{\"type\":\"scattercarpet\",\"marker\":{\"colorbar\":{\"outlinewidth\":0,\"ticks\":\"\"}}}],\"carpet\":[{\"aaxis\":{\"endlinecolor\":\"#2a3f5f\",\"gridcolor\":\"white\",\"linecolor\":\"white\",\"minorgridcolor\":\"white\",\"startlinecolor\":\"#2a3f5f\"},\"baxis\":{\"endlinecolor\":\"#2a3f5f\",\"gridcolor\":\"white\",\"linecolor\":\"white\",\"minorgridcolor\":\"white\",\"startlinecolor\":\"#2a3f5f\"},\"type\":\"carpet\"}],\"table\":[{\"cells\":{\"fill\":{\"color\":\"#EBF0F8\"},\"line\":{\"color\":\"white\"}},\"header\":{\"fill\":{\"color\":\"#C8D4E3\"},\"line\":{\"color\":\"white\"}},\"type\":\"table\"}],\"barpolar\":[{\"marker\":{\"line\":{\"color\":\"#E5ECF6\",\"width\":0.5},\"pattern\":{\"fillmode\":\"overlay\",\"size\":10,\"solidity\":0.2}},\"type\":\"barpolar\"}],\"pie\":[{\"automargin\":true,\"type\":\"pie\"}]},\"layout\":{\"autotypenumbers\":\"strict\",\"colorway\":[\"#636efa\",\"#EF553B\",\"#00cc96\",\"#ab63fa\",\"#FFA15A\",\"#19d3f3\",\"#FF6692\",\"#B6E880\",\"#FF97FF\",\"#FECB52\"],\"font\":{\"color\":\"#2a3f5f\"},\"hovermode\":\"closest\",\"hoverlabel\":{\"align\":\"left\"},\"paper_bgcolor\":\"white\",\"plot_bgcolor\":\"#E5ECF6\",\"polar\":{\"bgcolor\":\"#E5ECF6\",\"angularaxis\":{\"gridcolor\":\"white\",\"linecolor\":\"white\",\"ticks\":\"\"},\"radialaxis\":{\"gridcolor\":\"white\",\"linecolor\":\"white\",\"ticks\":\"\"}},\"ternary\":{\"bgcolor\":\"#E5ECF6\",\"aaxis\":{\"gridcolor\":\"white\",\"linecolor\":\"white\",\"ticks\":\"\"},\"baxis\":{\"gridcolor\":\"white\",\"linecolor\":\"white\",\"ticks\":\"\"},\"caxis\":{\"gridcolor\":\"white\",\"linecolor\":\"white\",\"ticks\":\"\"}},\"coloraxis\":{\"colorbar\":{\"outlinewidth\":0,\"ticks\":\"\"}},\"colorscale\":{\"sequential\":[[0.0,\"#0d0887\"],[0.1111111111111111,\"#46039f\"],[0.2222222222222222,\"#7201a8\"],[0.3333333333333333,\"#9c179e\"],[0.4444444444444444,\"#bd3786\"],[0.5555555555555556,\"#d8576b\"],[0.6666666666666666,\"#ed7953\"],[0.7777777777777778,\"#fb9f3a\"],[0.8888888888888888,\"#fdca26\"],[1.0,\"#f0f921\"]],\"sequentialminus\":[[0.0,\"#0d0887\"],[0.1111111111111111,\"#46039f\"],[0.2222222222222222,\"#7201a8\"],[0.3333333333333333,\"#9c179e\"],[0.4444444444444444,\"#bd3786\"],[0.5555555555555556,\"#d8576b\"],[0.6666666666666666,\"#ed7953\"],[0.7777777777777778,\"#fb9f3a\"],[0.8888888888888888,\"#fdca26\"],[1.0,\"#f0f921\"]],\"diverging\":[[0,\"#8e0152\"],[0.1,\"#c51b7d\"],[0.2,\"#de77ae\"],[0.3,\"#f1b6da\"],[0.4,\"#fde0ef\"],[0.5,\"#f7f7f7\"],[0.6,\"#e6f5d0\"],[0.7,\"#b8e186\"],[0.8,\"#7fbc41\"],[0.9,\"#4d9221\"],[1,\"#276419\"]]},\"xaxis\":{\"gridcolor\":\"white\",\"linecolor\":\"white\",\"ticks\":\"\",\"title\":{\"standoff\":15},\"zerolinecolor\":\"white\",\"automargin\":true,\"zerolinewidth\":2},\"yaxis\":{\"gridcolor\":\"white\",\"linecolor\":\"white\",\"ticks\":\"\",\"title\":{\"standoff\":15},\"zerolinecolor\":\"white\",\"automargin\":true,\"zerolinewidth\":2},\"scene\":{\"xaxis\":{\"backgroundcolor\":\"#E5ECF6\",\"gridcolor\":\"white\",\"linecolor\":\"white\",\"showbackground\":true,\"ticks\":\"\",\"zerolinecolor\":\"white\",\"gridwidth\":2},\"yaxis\":{\"backgroundcolor\":\"#E5ECF6\",\"gridcolor\":\"white\",\"linecolor\":\"white\",\"showbackground\":true,\"ticks\":\"\",\"zerolinecolor\":\"white\",\"gridwidth\":2},\"zaxis\":{\"backgroundcolor\":\"#E5ECF6\",\"gridcolor\":\"white\",\"linecolor\":\"white\",\"showbackground\":true,\"ticks\":\"\",\"zerolinecolor\":\"white\",\"gridwidth\":2}},\"shapedefaults\":{\"line\":{\"color\":\"#2a3f5f\"}},\"annotationdefaults\":{\"arrowcolor\":\"#2a3f5f\",\"arrowhead\":0,\"arrowwidth\":1},\"geo\":{\"bgcolor\":\"white\",\"landcolor\":\"#E5ECF6\",\"subunitcolor\":\"white\",\"showland\":true,\"showlakes\":true,\"lakecolor\":\"white\"},\"title\":{\"x\":0.05},\"mapbox\":{\"style\":\"light\"}}},\"xaxis\":{\"anchor\":\"y\",\"domain\":[0.0,1.0],\"title\":{\"text\":\"Condici\\u00f3n\",\"font\":{\"size\":14}}},\"yaxis\":{\"anchor\":\"x\",\"domain\":[0.0,1.0],\"title\":{\"text\":\"Proporci\\u00f3n\",\"font\":{\"size\":14}},\"tickformat\":\".0%\"},\"legend\":{\"title\":{\"text\":\"Estado de Reinfecci\\u00f3n\",\"font\":{\"size\":14}},\"tracegroupgap\":0,\"font\":{\"size\":12}},\"title\":{\"text\":\"Proporci\\u00f3n de Reinfecci\\u00f3n de COVID-19 por Condici\\u00f3n Preexistente\",\"font\":{\"size\":20,\"color\":\"black\"},\"x\":0.5},\"barmode\":\"group\",\"hoverlabel\":{\"font\":{\"size\":12,\"family\":\"Arial\"},\"bgcolor\":\"white\"},\"height\":550},                        {\"responsive\": true}                    ).then(function(){\n",
       "                            \n",
       "var gd = document.getElementById('df88bdee-7d86-43ab-a226-df4c2e164e1c');\n",
       "var x = new MutationObserver(function (mutations, observer) {{\n",
       "        var display = window.getComputedStyle(gd).display;\n",
       "        if (!display || display === 'none') {{\n",
       "            console.log([gd, 'removed!']);\n",
       "            Plotly.purge(gd);\n",
       "            observer.disconnect();\n",
       "        }}\n",
       "}});\n",
       "\n",
       "// Listen for the removal of the full notebook cells\n",
       "var notebookContainer = gd.closest('#notebook-container');\n",
       "if (notebookContainer) {{\n",
       "    x.observe(notebookContainer, {childList: true});\n",
       "}}\n",
       "\n",
       "// Listen for the clearing of the current output cell\n",
       "var outputEl = gd.closest('.output');\n",
       "if (outputEl) {{\n",
       "    x.observe(outputEl, {childList: true});\n",
       "}}\n",
       "\n",
       "                        })                };                });            </script>        </div>"
      ]
     },
     "metadata": {},
     "output_type": "display_data"
    }
   ],
   "source": [
    "import plotly.express as px\n",
    "\n",
    "colors = {\n",
    "    'no': '#a6cee3',\n",
    "    'yes': '#1f78b4'\n",
    "}\n",
    "\n",
    "grafic = px.bar(\n",
    "    rein_pc,\n",
    "    x='Preexisting_Condition',\n",
    "    y='Proportion',\n",
    "    color='Reinfection',\n",
    "    barmode='group',\n",
    "    title='Proporción de Reinfección de COVID-19 por Condición Preexistente',\n",
    "    labels={\n",
    "        'Preexisting_Condition': 'Condición',\n",
    "        'Proportion': 'Proporción',\n",
    "        'Reinfection': 'Estado de Reinfección'\n",
    "    },\n",
    "    hover_data={'Proportion': ':.1%'},\n",
    "    text_auto='.1%',\n",
    "    color_discrete_map=colors\n",
    ")\n",
    "\n",
    "grafic.update_layout(\n",
    "    title_font_size=20,\n",
    "    title_font_color='black',\n",
    "    title_x=0.5,\n",
    "    xaxis_title_font_size=14,\n",
    "    yaxis_title_font_size=14,\n",
    "    legend_title_font_size=14,\n",
    "    legend_font_size=12,\n",
    "    hoverlabel=dict(bgcolor=\"white\", font_size=12, font_family=\"Arial\"),\n",
    "    height=550\n",
    ")\n",
    "\n",
    "grafic.update_yaxes(tickformat=\".0%\")\n",
    "\n",
    "grafic.show()"
   ]
  },
  {
   "cell_type": "markdown",
   "id": "83f378ac-ad1a-464d-80c2-2908011a245c",
   "metadata": {},
   "source": [
    "## Qué condiciones de salud preexistentes (comorbilidades) están más fuertemente asociadas con un mayor riesgo de reinfección?📊\n",
    "\n",
    "**Aunque la gráfica 'Proporción de Reinfección de COVID-19 por Condición Preexistente' revela que existen condiciones con un porcentaje de reinfección marginalmente más alto que otras, no se observa una correlación fuerte o una disparidad drástica que sugiera que una comorbilidad en particular sea un factor de riesgo significativamente mayor para la reinfección.**\n",
    "\n",
    "**Reinfección**.🦠\n",
    "\n",
    "* La proporción de reinfección entre las comorbilidades mostradas oscila en un rango relativamente estrecho (aproximadamente del 7.5% al 11.2%). Por ejemplo, la hipertensión presenta la proporción más alta con 11.2%, mientras que el asma registra la más baja con 7.5%. Esta diferencia, aunque presente, es moderada y no indica una asociación extremadamente pronunciada.\n",
    "* Un punto crucial que se deduce de la gráfica 'Proporción de Reinfección de COVID-19 por Condición Preexistente' es la proporción de reinfección para la categoría 'nan' (10.9%). Dado que 'nan' hace referencia a personas que no presentan ninguna de las condiciones preexistentes listadas, es notable que su porcentaje de reinfección se encuentre por encima de condiciones como el asma (7.5%) y la obesidad (8.6%)\n",
    "\n",
    "**Conclusión**.\n",
    "\n",
    "Estar exento de las comorbilidades específicas analizadas no garantiza un riesgo significativamente menor de reinfección. La proporción de reinfección para este grupo sin condiciones es comparable a la de la hipertensión (11.2%), que es la condición con la tasa más alta. Por lo tanto, el gráfico resalta que las medidas de cuidado y prevención siguen siendo primordiales para evitar una reinfección, independientemente de la presencia o ausencia de estas condiciones de salud preexistentes específicas. Otros factores como la exposición, el comportamiento individual o incluso comorbilidades no incluidas en este análisis podrían estar influyendo en el riesgo de reinfección en la población general.\n",
    "\n"
   ]
  },
  {
   "cell_type": "markdown",
   "id": "6dc835be-862e-4961-927f-f0c3d6e9b560",
   "metadata": {},
   "source": [
    "## 4.3 ¿Hay una relación entre la gravedad de la infección inicial o la reinfección y los factores de salud del paciente?🧼\n",
    "\n",
    "* En esta etapa del análisis, nuestro objetivo es investigar si existe una correlación entre la gravedad de la infección inicial por COVID-19 y la probabilidad de una reinfección posterior.\n",
    "\n",
    "**Para lograrlo, se hará uso de las siguientes variables presentes en el dataset, cada una justificando su inclusión por su relevancia en la medición de la severidad de la infección:**\n",
    "\n",
    "* `Severity`: Esta variable es fundamental ya que proporciona una clasificación directa de la severidad de la infección inicial (ej., asintomática, leve, moderada, grave). Su análisis nos permitirá identificar rápidamente si existe un patrón claro de reinfección a través de los distintos grados de severidad.\n",
    "* `Hospitalized`: La hospitalización es un indicador clave de una infección más grave que requirió atención médica especializada y monitoreo. Evaluar su asociación con la reinfección nos ayudará a entender si el hecho de haber sido internado por la infección inicial impacta la probabilidad de una subsiguiente."
   ]
  },
  {
   "cell_type": "code",
   "execution_count": 79,
   "id": "b0d027ed-3358-4301-90c4-38530b23408f",
   "metadata": {},
   "outputs": [
    {
     "name": "stdout",
     "output_type": "stream",
     "text": [
      "Tasa de reinfección por severidad: \n",
      "\n",
      "   Severity Reinfection  Proportion\n",
      "0  critical          no    0.902954\n",
      "1  critical         yes    0.097046\n",
      "2      high          no    0.891645\n",
      "3      high         yes    0.108355\n",
      "4       low          no    0.909836\n",
      "5       low         yes    0.090164\n",
      "6  moderate          no    0.915297\n",
      "7  moderate         yes    0.084703\n"
     ]
    }
   ],
   "source": [
    "rein_sl = df_limpio.groupby('Severity', observed=False)['Reinfection'].value_counts(normalize=True).reset_index(name='Proportion')\n",
    "print('Tasa de reinfección por severidad: \\n')\n",
    "print(rein_sl)"
   ]
  },
  {
   "cell_type": "code",
   "execution_count": 80,
   "id": "373573bb-1cc2-4b33-b5c3-e80a11366e33",
   "metadata": {},
   "outputs": [
    {
     "name": "stdout",
     "output_type": "stream",
     "text": [
      "Tasa de reinfección por hospitalización: \n",
      "\n",
      "  Hospitalized Reinfection  Proportion\n",
      "0           no          no    0.904426\n",
      "1           no         yes    0.095574\n",
      "2          yes          no    0.906393\n",
      "3          yes         yes    0.093607\n"
     ]
    }
   ],
   "source": [
    "rein_hs = df_limpio.groupby('Hospitalized', observed=False)['Reinfection'].value_counts(normalize=True).reset_index(name='Proportion')\n",
    "print('Tasa de reinfección por hospitalización: \\n')\n",
    "print(rein_hs)"
   ]
  },
  {
   "cell_type": "code",
   "execution_count": 81,
   "id": "16118a11-a67b-4fff-90b8-ef8077006646",
   "metadata": {},
   "outputs": [
    {
     "data": {
      "application/vnd.plotly.v1+json": {
       "config": {
        "plotlyServerURL": "https://plot.ly"
       },
       "data": [
        {
         "alignmentgroup": "True",
         "hovertemplate": "Estado de Reinfección=no<br>Severidad=%{x}<br>Proporción=%{y:.1%}<extra></extra>",
         "legendgroup": "no",
         "marker": {
          "color": "#a6cee3",
          "pattern": {
           "shape": ""
          }
         },
         "name": "no",
         "offsetgroup": "no",
         "orientation": "v",
         "showlegend": true,
         "textposition": "auto",
         "texttemplate": "%{y:.1%}",
         "type": "bar",
         "x": [
          "critical",
          "high",
          "low",
          "moderate"
         ],
         "xaxis": "x",
         "y": [
          0.9029535864978903,
          0.891644908616188,
          0.9098360655737705,
          0.9152970922882427
         ],
         "yaxis": "y"
        },
        {
         "alignmentgroup": "True",
         "hovertemplate": "Estado de Reinfección=yes<br>Severidad=%{x}<br>Proporción=%{y:.1%}<extra></extra>",
         "legendgroup": "yes",
         "marker": {
          "color": "#1f78b4",
          "pattern": {
           "shape": ""
          }
         },
         "name": "yes",
         "offsetgroup": "yes",
         "orientation": "v",
         "showlegend": true,
         "textposition": "auto",
         "texttemplate": "%{y:.1%}",
         "type": "bar",
         "x": [
          "critical",
          "high",
          "low",
          "moderate"
         ],
         "xaxis": "x",
         "y": [
          0.0970464135021097,
          0.10835509138381201,
          0.09016393442622951,
          0.08470290771175727
         ],
         "yaxis": "y"
        }
       ],
       "layout": {
        "autosize": true,
        "barmode": "group",
        "hoverlabel": {
         "bgcolor": "white",
         "font": {
          "family": "Arial",
          "size": 12
         }
        },
        "legend": {
         "font": {
          "size": 12
         },
         "title": {
          "font": {
           "size": 14
          },
          "text": "Estado de Reinfección"
         },
         "tracegroupgap": 0
        },
        "template": {
         "data": {
          "bar": [
           {
            "error_x": {
             "color": "#2a3f5f"
            },
            "error_y": {
             "color": "#2a3f5f"
            },
            "marker": {
             "line": {
              "color": "#E5ECF6",
              "width": 0.5
             },
             "pattern": {
              "fillmode": "overlay",
              "size": 10,
              "solidity": 0.2
             }
            },
            "type": "bar"
           }
          ],
          "barpolar": [
           {
            "marker": {
             "line": {
              "color": "#E5ECF6",
              "width": 0.5
             },
             "pattern": {
              "fillmode": "overlay",
              "size": 10,
              "solidity": 0.2
             }
            },
            "type": "barpolar"
           }
          ],
          "carpet": [
           {
            "aaxis": {
             "endlinecolor": "#2a3f5f",
             "gridcolor": "white",
             "linecolor": "white",
             "minorgridcolor": "white",
             "startlinecolor": "#2a3f5f"
            },
            "baxis": {
             "endlinecolor": "#2a3f5f",
             "gridcolor": "white",
             "linecolor": "white",
             "minorgridcolor": "white",
             "startlinecolor": "#2a3f5f"
            },
            "type": "carpet"
           }
          ],
          "choropleth": [
           {
            "colorbar": {
             "outlinewidth": 0,
             "ticks": ""
            },
            "type": "choropleth"
           }
          ],
          "contour": [
           {
            "colorbar": {
             "outlinewidth": 0,
             "ticks": ""
            },
            "colorscale": [
             [
              0,
              "#0d0887"
             ],
             [
              0.1111111111111111,
              "#46039f"
             ],
             [
              0.2222222222222222,
              "#7201a8"
             ],
             [
              0.3333333333333333,
              "#9c179e"
             ],
             [
              0.4444444444444444,
              "#bd3786"
             ],
             [
              0.5555555555555556,
              "#d8576b"
             ],
             [
              0.6666666666666666,
              "#ed7953"
             ],
             [
              0.7777777777777778,
              "#fb9f3a"
             ],
             [
              0.8888888888888888,
              "#fdca26"
             ],
             [
              1,
              "#f0f921"
             ]
            ],
            "type": "contour"
           }
          ],
          "contourcarpet": [
           {
            "colorbar": {
             "outlinewidth": 0,
             "ticks": ""
            },
            "type": "contourcarpet"
           }
          ],
          "heatmap": [
           {
            "colorbar": {
             "outlinewidth": 0,
             "ticks": ""
            },
            "colorscale": [
             [
              0,
              "#0d0887"
             ],
             [
              0.1111111111111111,
              "#46039f"
             ],
             [
              0.2222222222222222,
              "#7201a8"
             ],
             [
              0.3333333333333333,
              "#9c179e"
             ],
             [
              0.4444444444444444,
              "#bd3786"
             ],
             [
              0.5555555555555556,
              "#d8576b"
             ],
             [
              0.6666666666666666,
              "#ed7953"
             ],
             [
              0.7777777777777778,
              "#fb9f3a"
             ],
             [
              0.8888888888888888,
              "#fdca26"
             ],
             [
              1,
              "#f0f921"
             ]
            ],
            "type": "heatmap"
           }
          ],
          "heatmapgl": [
           {
            "colorbar": {
             "outlinewidth": 0,
             "ticks": ""
            },
            "colorscale": [
             [
              0,
              "#0d0887"
             ],
             [
              0.1111111111111111,
              "#46039f"
             ],
             [
              0.2222222222222222,
              "#7201a8"
             ],
             [
              0.3333333333333333,
              "#9c179e"
             ],
             [
              0.4444444444444444,
              "#bd3786"
             ],
             [
              0.5555555555555556,
              "#d8576b"
             ],
             [
              0.6666666666666666,
              "#ed7953"
             ],
             [
              0.7777777777777778,
              "#fb9f3a"
             ],
             [
              0.8888888888888888,
              "#fdca26"
             ],
             [
              1,
              "#f0f921"
             ]
            ],
            "type": "heatmapgl"
           }
          ],
          "histogram": [
           {
            "marker": {
             "pattern": {
              "fillmode": "overlay",
              "size": 10,
              "solidity": 0.2
             }
            },
            "type": "histogram"
           }
          ],
          "histogram2d": [
           {
            "colorbar": {
             "outlinewidth": 0,
             "ticks": ""
            },
            "colorscale": [
             [
              0,
              "#0d0887"
             ],
             [
              0.1111111111111111,
              "#46039f"
             ],
             [
              0.2222222222222222,
              "#7201a8"
             ],
             [
              0.3333333333333333,
              "#9c179e"
             ],
             [
              0.4444444444444444,
              "#bd3786"
             ],
             [
              0.5555555555555556,
              "#d8576b"
             ],
             [
              0.6666666666666666,
              "#ed7953"
             ],
             [
              0.7777777777777778,
              "#fb9f3a"
             ],
             [
              0.8888888888888888,
              "#fdca26"
             ],
             [
              1,
              "#f0f921"
             ]
            ],
            "type": "histogram2d"
           }
          ],
          "histogram2dcontour": [
           {
            "colorbar": {
             "outlinewidth": 0,
             "ticks": ""
            },
            "colorscale": [
             [
              0,
              "#0d0887"
             ],
             [
              0.1111111111111111,
              "#46039f"
             ],
             [
              0.2222222222222222,
              "#7201a8"
             ],
             [
              0.3333333333333333,
              "#9c179e"
             ],
             [
              0.4444444444444444,
              "#bd3786"
             ],
             [
              0.5555555555555556,
              "#d8576b"
             ],
             [
              0.6666666666666666,
              "#ed7953"
             ],
             [
              0.7777777777777778,
              "#fb9f3a"
             ],
             [
              0.8888888888888888,
              "#fdca26"
             ],
             [
              1,
              "#f0f921"
             ]
            ],
            "type": "histogram2dcontour"
           }
          ],
          "mesh3d": [
           {
            "colorbar": {
             "outlinewidth": 0,
             "ticks": ""
            },
            "type": "mesh3d"
           }
          ],
          "parcoords": [
           {
            "line": {
             "colorbar": {
              "outlinewidth": 0,
              "ticks": ""
             }
            },
            "type": "parcoords"
           }
          ],
          "pie": [
           {
            "automargin": true,
            "type": "pie"
           }
          ],
          "scatter": [
           {
            "fillpattern": {
             "fillmode": "overlay",
             "size": 10,
             "solidity": 0.2
            },
            "type": "scatter"
           }
          ],
          "scatter3d": [
           {
            "line": {
             "colorbar": {
              "outlinewidth": 0,
              "ticks": ""
             }
            },
            "marker": {
             "colorbar": {
              "outlinewidth": 0,
              "ticks": ""
             }
            },
            "type": "scatter3d"
           }
          ],
          "scattercarpet": [
           {
            "marker": {
             "colorbar": {
              "outlinewidth": 0,
              "ticks": ""
             }
            },
            "type": "scattercarpet"
           }
          ],
          "scattergeo": [
           {
            "marker": {
             "colorbar": {
              "outlinewidth": 0,
              "ticks": ""
             }
            },
            "type": "scattergeo"
           }
          ],
          "scattergl": [
           {
            "marker": {
             "colorbar": {
              "outlinewidth": 0,
              "ticks": ""
             }
            },
            "type": "scattergl"
           }
          ],
          "scattermapbox": [
           {
            "marker": {
             "colorbar": {
              "outlinewidth": 0,
              "ticks": ""
             }
            },
            "type": "scattermapbox"
           }
          ],
          "scatterpolar": [
           {
            "marker": {
             "colorbar": {
              "outlinewidth": 0,
              "ticks": ""
             }
            },
            "type": "scatterpolar"
           }
          ],
          "scatterpolargl": [
           {
            "marker": {
             "colorbar": {
              "outlinewidth": 0,
              "ticks": ""
             }
            },
            "type": "scatterpolargl"
           }
          ],
          "scatterternary": [
           {
            "marker": {
             "colorbar": {
              "outlinewidth": 0,
              "ticks": ""
             }
            },
            "type": "scatterternary"
           }
          ],
          "surface": [
           {
            "colorbar": {
             "outlinewidth": 0,
             "ticks": ""
            },
            "colorscale": [
             [
              0,
              "#0d0887"
             ],
             [
              0.1111111111111111,
              "#46039f"
             ],
             [
              0.2222222222222222,
              "#7201a8"
             ],
             [
              0.3333333333333333,
              "#9c179e"
             ],
             [
              0.4444444444444444,
              "#bd3786"
             ],
             [
              0.5555555555555556,
              "#d8576b"
             ],
             [
              0.6666666666666666,
              "#ed7953"
             ],
             [
              0.7777777777777778,
              "#fb9f3a"
             ],
             [
              0.8888888888888888,
              "#fdca26"
             ],
             [
              1,
              "#f0f921"
             ]
            ],
            "type": "surface"
           }
          ],
          "table": [
           {
            "cells": {
             "fill": {
              "color": "#EBF0F8"
             },
             "line": {
              "color": "white"
             }
            },
            "header": {
             "fill": {
              "color": "#C8D4E3"
             },
             "line": {
              "color": "white"
             }
            },
            "type": "table"
           }
          ]
         },
         "layout": {
          "annotationdefaults": {
           "arrowcolor": "#2a3f5f",
           "arrowhead": 0,
           "arrowwidth": 1
          },
          "autotypenumbers": "strict",
          "coloraxis": {
           "colorbar": {
            "outlinewidth": 0,
            "ticks": ""
           }
          },
          "colorscale": {
           "diverging": [
            [
             0,
             "#8e0152"
            ],
            [
             0.1,
             "#c51b7d"
            ],
            [
             0.2,
             "#de77ae"
            ],
            [
             0.3,
             "#f1b6da"
            ],
            [
             0.4,
             "#fde0ef"
            ],
            [
             0.5,
             "#f7f7f7"
            ],
            [
             0.6,
             "#e6f5d0"
            ],
            [
             0.7,
             "#b8e186"
            ],
            [
             0.8,
             "#7fbc41"
            ],
            [
             0.9,
             "#4d9221"
            ],
            [
             1,
             "#276419"
            ]
           ],
           "sequential": [
            [
             0,
             "#0d0887"
            ],
            [
             0.1111111111111111,
             "#46039f"
            ],
            [
             0.2222222222222222,
             "#7201a8"
            ],
            [
             0.3333333333333333,
             "#9c179e"
            ],
            [
             0.4444444444444444,
             "#bd3786"
            ],
            [
             0.5555555555555556,
             "#d8576b"
            ],
            [
             0.6666666666666666,
             "#ed7953"
            ],
            [
             0.7777777777777778,
             "#fb9f3a"
            ],
            [
             0.8888888888888888,
             "#fdca26"
            ],
            [
             1,
             "#f0f921"
            ]
           ],
           "sequentialminus": [
            [
             0,
             "#0d0887"
            ],
            [
             0.1111111111111111,
             "#46039f"
            ],
            [
             0.2222222222222222,
             "#7201a8"
            ],
            [
             0.3333333333333333,
             "#9c179e"
            ],
            [
             0.4444444444444444,
             "#bd3786"
            ],
            [
             0.5555555555555556,
             "#d8576b"
            ],
            [
             0.6666666666666666,
             "#ed7953"
            ],
            [
             0.7777777777777778,
             "#fb9f3a"
            ],
            [
             0.8888888888888888,
             "#fdca26"
            ],
            [
             1,
             "#f0f921"
            ]
           ]
          },
          "colorway": [
           "#636efa",
           "#EF553B",
           "#00cc96",
           "#ab63fa",
           "#FFA15A",
           "#19d3f3",
           "#FF6692",
           "#B6E880",
           "#FF97FF",
           "#FECB52"
          ],
          "font": {
           "color": "#2a3f5f"
          },
          "geo": {
           "bgcolor": "white",
           "lakecolor": "white",
           "landcolor": "#E5ECF6",
           "showlakes": true,
           "showland": true,
           "subunitcolor": "white"
          },
          "hoverlabel": {
           "align": "left"
          },
          "hovermode": "closest",
          "mapbox": {
           "style": "light"
          },
          "paper_bgcolor": "white",
          "plot_bgcolor": "#E5ECF6",
          "polar": {
           "angularaxis": {
            "gridcolor": "white",
            "linecolor": "white",
            "ticks": ""
           },
           "bgcolor": "#E5ECF6",
           "radialaxis": {
            "gridcolor": "white",
            "linecolor": "white",
            "ticks": ""
           }
          },
          "scene": {
           "xaxis": {
            "backgroundcolor": "#E5ECF6",
            "gridcolor": "white",
            "gridwidth": 2,
            "linecolor": "white",
            "showbackground": true,
            "ticks": "",
            "zerolinecolor": "white"
           },
           "yaxis": {
            "backgroundcolor": "#E5ECF6",
            "gridcolor": "white",
            "gridwidth": 2,
            "linecolor": "white",
            "showbackground": true,
            "ticks": "",
            "zerolinecolor": "white"
           },
           "zaxis": {
            "backgroundcolor": "#E5ECF6",
            "gridcolor": "white",
            "gridwidth": 2,
            "linecolor": "white",
            "showbackground": true,
            "ticks": "",
            "zerolinecolor": "white"
           }
          },
          "shapedefaults": {
           "line": {
            "color": "#2a3f5f"
           }
          },
          "ternary": {
           "aaxis": {
            "gridcolor": "white",
            "linecolor": "white",
            "ticks": ""
           },
           "baxis": {
            "gridcolor": "white",
            "linecolor": "white",
            "ticks": ""
           },
           "bgcolor": "#E5ECF6",
           "caxis": {
            "gridcolor": "white",
            "linecolor": "white",
            "ticks": ""
           }
          },
          "title": {
           "x": 0.05
          },
          "xaxis": {
           "automargin": true,
           "gridcolor": "white",
           "linecolor": "white",
           "ticks": "",
           "title": {
            "standoff": 15
           },
           "zerolinecolor": "white",
           "zerolinewidth": 2
          },
          "yaxis": {
           "automargin": true,
           "gridcolor": "white",
           "linecolor": "white",
           "ticks": "",
           "title": {
            "standoff": 15
           },
           "zerolinecolor": "white",
           "zerolinewidth": 2
          }
         }
        },
        "title": {
         "font": {
          "color": "black",
          "size": 20
         },
         "text": "Proporción de Reinfección de COVID-19 por Severidad",
         "x": 0.5
        },
        "xaxis": {
         "anchor": "y",
         "autorange": true,
         "domain": [
          0,
          1
         ],
         "range": [
          -0.5,
          3.5
         ],
         "title": {
          "font": {
           "size": 14
          },
          "text": "Severidad"
         },
         "type": "category"
        },
        "yaxis": {
         "anchor": "x",
         "autorange": true,
         "domain": [
          0,
          1
         ],
         "range": [
          0,
          0.9634706234613082
         ],
         "tickformat": ".0%",
         "title": {
          "font": {
           "size": 14
          },
          "text": "Proporción"
         },
         "type": "linear"
        }
       }
      },
      "image/png": "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",
      "text/html": [
       "<div>                            <div id=\"13b2ae12-4a4a-4a03-9c6f-93cc8dd96684\" class=\"plotly-graph-div\" style=\"height:550px; width:100%;\"></div>            <script type=\"text/javascript\">                require([\"plotly\"], function(Plotly) {                    window.PLOTLYENV=window.PLOTLYENV || {};                                    if (document.getElementById(\"13b2ae12-4a4a-4a03-9c6f-93cc8dd96684\")) {                    Plotly.newPlot(                        \"13b2ae12-4a4a-4a03-9c6f-93cc8dd96684\",                        [{\"alignmentgroup\":\"True\",\"hovertemplate\":\"Estado de Reinfecci\\u00f3n=no\\u003cbr\\u003eSeveridad=%{x}\\u003cbr\\u003eProporci\\u00f3n=%{y:.1%}\\u003cextra\\u003e\\u003c\\u002fextra\\u003e\",\"legendgroup\":\"no\",\"marker\":{\"color\":\"#a6cee3\",\"pattern\":{\"shape\":\"\"}},\"name\":\"no\",\"offsetgroup\":\"no\",\"orientation\":\"v\",\"showlegend\":true,\"textposition\":\"auto\",\"texttemplate\":\"%{y:.1%}\",\"x\":[\"critical\",\"high\",\"low\",\"moderate\"],\"xaxis\":\"x\",\"y\":[0.9029535864978903,0.891644908616188,0.9098360655737705,0.9152970922882427],\"yaxis\":\"y\",\"type\":\"bar\"},{\"alignmentgroup\":\"True\",\"hovertemplate\":\"Estado de Reinfecci\\u00f3n=yes\\u003cbr\\u003eSeveridad=%{x}\\u003cbr\\u003eProporci\\u00f3n=%{y:.1%}\\u003cextra\\u003e\\u003c\\u002fextra\\u003e\",\"legendgroup\":\"yes\",\"marker\":{\"color\":\"#1f78b4\",\"pattern\":{\"shape\":\"\"}},\"name\":\"yes\",\"offsetgroup\":\"yes\",\"orientation\":\"v\",\"showlegend\":true,\"textposition\":\"auto\",\"texttemplate\":\"%{y:.1%}\",\"x\":[\"critical\",\"high\",\"low\",\"moderate\"],\"xaxis\":\"x\",\"y\":[0.0970464135021097,0.10835509138381201,0.09016393442622951,0.08470290771175727],\"yaxis\":\"y\",\"type\":\"bar\"}],                        {\"template\":{\"data\":{\"histogram2dcontour\":[{\"type\":\"histogram2dcontour\",\"colorbar\":{\"outlinewidth\":0,\"ticks\":\"\"},\"colorscale\":[[0.0,\"#0d0887\"],[0.1111111111111111,\"#46039f\"],[0.2222222222222222,\"#7201a8\"],[0.3333333333333333,\"#9c179e\"],[0.4444444444444444,\"#bd3786\"],[0.5555555555555556,\"#d8576b\"],[0.6666666666666666,\"#ed7953\"],[0.7777777777777778,\"#fb9f3a\"],[0.8888888888888888,\"#fdca26\"],[1.0,\"#f0f921\"]]}],\"choropleth\":[{\"type\":\"choropleth\",\"colorbar\":{\"outlinewidth\":0,\"ticks\":\"\"}}],\"histogram2d\":[{\"type\":\"histogram2d\",\"colorbar\":{\"outlinewidth\":0,\"ticks\":\"\"},\"colorscale\":[[0.0,\"#0d0887\"],[0.1111111111111111,\"#46039f\"],[0.2222222222222222,\"#7201a8\"],[0.3333333333333333,\"#9c179e\"],[0.4444444444444444,\"#bd3786\"],[0.5555555555555556,\"#d8576b\"],[0.6666666666666666,\"#ed7953\"],[0.7777777777777778,\"#fb9f3a\"],[0.8888888888888888,\"#fdca26\"],[1.0,\"#f0f921\"]]}],\"heatmap\":[{\"type\":\"heatmap\",\"colorbar\":{\"outlinewidth\":0,\"ticks\":\"\"},\"colorscale\":[[0.0,\"#0d0887\"],[0.1111111111111111,\"#46039f\"],[0.2222222222222222,\"#7201a8\"],[0.3333333333333333,\"#9c179e\"],[0.4444444444444444,\"#bd3786\"],[0.5555555555555556,\"#d8576b\"],[0.6666666666666666,\"#ed7953\"],[0.7777777777777778,\"#fb9f3a\"],[0.8888888888888888,\"#fdca26\"],[1.0,\"#f0f921\"]]}],\"heatmapgl\":[{\"type\":\"heatmapgl\",\"colorbar\":{\"outlinewidth\":0,\"ticks\":\"\"},\"colorscale\":[[0.0,\"#0d0887\"],[0.1111111111111111,\"#46039f\"],[0.2222222222222222,\"#7201a8\"],[0.3333333333333333,\"#9c179e\"],[0.4444444444444444,\"#bd3786\"],[0.5555555555555556,\"#d8576b\"],[0.6666666666666666,\"#ed7953\"],[0.7777777777777778,\"#fb9f3a\"],[0.8888888888888888,\"#fdca26\"],[1.0,\"#f0f921\"]]}],\"contourcarpet\":[{\"type\":\"contourcarpet\",\"colorbar\":{\"outlinewidth\":0,\"ticks\":\"\"}}],\"contour\":[{\"type\":\"contour\",\"colorbar\":{\"outlinewidth\":0,\"ticks\":\"\"},\"colorscale\":[[0.0,\"#0d0887\"],[0.1111111111111111,\"#46039f\"],[0.2222222222222222,\"#7201a8\"],[0.3333333333333333,\"#9c179e\"],[0.4444444444444444,\"#bd3786\"],[0.5555555555555556,\"#d8576b\"],[0.6666666666666666,\"#ed7953\"],[0.7777777777777778,\"#fb9f3a\"],[0.8888888888888888,\"#fdca26\"],[1.0,\"#f0f921\"]]}],\"surface\":[{\"type\":\"surface\",\"colorbar\":{\"outlinewidth\":0,\"ticks\":\"\"},\"colorscale\":[[0.0,\"#0d0887\"],[0.1111111111111111,\"#46039f\"],[0.2222222222222222,\"#7201a8\"],[0.3333333333333333,\"#9c179e\"],[0.4444444444444444,\"#bd3786\"],[0.5555555555555556,\"#d8576b\"],[0.6666666666666666,\"#ed7953\"],[0.7777777777777778,\"#fb9f3a\"],[0.8888888888888888,\"#fdca26\"],[1.0,\"#f0f921\"]]}],\"mesh3d\":[{\"type\":\"mesh3d\",\"colorbar\":{\"outlinewidth\":0,\"ticks\":\"\"}}],\"scatter\":[{\"fillpattern\":{\"fillmode\":\"overlay\",\"size\":10,\"solidity\":0.2},\"type\":\"scatter\"}],\"parcoords\":[{\"type\":\"parcoords\",\"line\":{\"colorbar\":{\"outlinewidth\":0,\"ticks\":\"\"}}}],\"scatterpolargl\":[{\"type\":\"scatterpolargl\",\"marker\":{\"colorbar\":{\"outlinewidth\":0,\"ticks\":\"\"}}}],\"bar\":[{\"error_x\":{\"color\":\"#2a3f5f\"},\"error_y\":{\"color\":\"#2a3f5f\"},\"marker\":{\"line\":{\"color\":\"#E5ECF6\",\"width\":0.5},\"pattern\":{\"fillmode\":\"overlay\",\"size\":10,\"solidity\":0.2}},\"type\":\"bar\"}],\"scattergeo\":[{\"type\":\"scattergeo\",\"marker\":{\"colorbar\":{\"outlinewidth\":0,\"ticks\":\"\"}}}],\"scatterpolar\":[{\"type\":\"scatterpolar\",\"marker\":{\"colorbar\":{\"outlinewidth\":0,\"ticks\":\"\"}}}],\"histogram\":[{\"marker\":{\"pattern\":{\"fillmode\":\"overlay\",\"size\":10,\"solidity\":0.2}},\"type\":\"histogram\"}],\"scattergl\":[{\"type\":\"scattergl\",\"marker\":{\"colorbar\":{\"outlinewidth\":0,\"ticks\":\"\"}}}],\"scatter3d\":[{\"type\":\"scatter3d\",\"line\":{\"colorbar\":{\"outlinewidth\":0,\"ticks\":\"\"}},\"marker\":{\"colorbar\":{\"outlinewidth\":0,\"ticks\":\"\"}}}],\"scattermapbox\":[{\"type\":\"scattermapbox\",\"marker\":{\"colorbar\":{\"outlinewidth\":0,\"ticks\":\"\"}}}],\"scatterternary\":[{\"type\":\"scatterternary\",\"marker\":{\"colorbar\":{\"outlinewidth\":0,\"ticks\":\"\"}}}],\"scattercarpet\":[{\"type\":\"scattercarpet\",\"marker\":{\"colorbar\":{\"outlinewidth\":0,\"ticks\":\"\"}}}],\"carpet\":[{\"aaxis\":{\"endlinecolor\":\"#2a3f5f\",\"gridcolor\":\"white\",\"linecolor\":\"white\",\"minorgridcolor\":\"white\",\"startlinecolor\":\"#2a3f5f\"},\"baxis\":{\"endlinecolor\":\"#2a3f5f\",\"gridcolor\":\"white\",\"linecolor\":\"white\",\"minorgridcolor\":\"white\",\"startlinecolor\":\"#2a3f5f\"},\"type\":\"carpet\"}],\"table\":[{\"cells\":{\"fill\":{\"color\":\"#EBF0F8\"},\"line\":{\"color\":\"white\"}},\"header\":{\"fill\":{\"color\":\"#C8D4E3\"},\"line\":{\"color\":\"white\"}},\"type\":\"table\"}],\"barpolar\":[{\"marker\":{\"line\":{\"color\":\"#E5ECF6\",\"width\":0.5},\"pattern\":{\"fillmode\":\"overlay\",\"size\":10,\"solidity\":0.2}},\"type\":\"barpolar\"}],\"pie\":[{\"automargin\":true,\"type\":\"pie\"}]},\"layout\":{\"autotypenumbers\":\"strict\",\"colorway\":[\"#636efa\",\"#EF553B\",\"#00cc96\",\"#ab63fa\",\"#FFA15A\",\"#19d3f3\",\"#FF6692\",\"#B6E880\",\"#FF97FF\",\"#FECB52\"],\"font\":{\"color\":\"#2a3f5f\"},\"hovermode\":\"closest\",\"hoverlabel\":{\"align\":\"left\"},\"paper_bgcolor\":\"white\",\"plot_bgcolor\":\"#E5ECF6\",\"polar\":{\"bgcolor\":\"#E5ECF6\",\"angularaxis\":{\"gridcolor\":\"white\",\"linecolor\":\"white\",\"ticks\":\"\"},\"radialaxis\":{\"gridcolor\":\"white\",\"linecolor\":\"white\",\"ticks\":\"\"}},\"ternary\":{\"bgcolor\":\"#E5ECF6\",\"aaxis\":{\"gridcolor\":\"white\",\"linecolor\":\"white\",\"ticks\":\"\"},\"baxis\":{\"gridcolor\":\"white\",\"linecolor\":\"white\",\"ticks\":\"\"},\"caxis\":{\"gridcolor\":\"white\",\"linecolor\":\"white\",\"ticks\":\"\"}},\"coloraxis\":{\"colorbar\":{\"outlinewidth\":0,\"ticks\":\"\"}},\"colorscale\":{\"sequential\":[[0.0,\"#0d0887\"],[0.1111111111111111,\"#46039f\"],[0.2222222222222222,\"#7201a8\"],[0.3333333333333333,\"#9c179e\"],[0.4444444444444444,\"#bd3786\"],[0.5555555555555556,\"#d8576b\"],[0.6666666666666666,\"#ed7953\"],[0.7777777777777778,\"#fb9f3a\"],[0.8888888888888888,\"#fdca26\"],[1.0,\"#f0f921\"]],\"sequentialminus\":[[0.0,\"#0d0887\"],[0.1111111111111111,\"#46039f\"],[0.2222222222222222,\"#7201a8\"],[0.3333333333333333,\"#9c179e\"],[0.4444444444444444,\"#bd3786\"],[0.5555555555555556,\"#d8576b\"],[0.6666666666666666,\"#ed7953\"],[0.7777777777777778,\"#fb9f3a\"],[0.8888888888888888,\"#fdca26\"],[1.0,\"#f0f921\"]],\"diverging\":[[0,\"#8e0152\"],[0.1,\"#c51b7d\"],[0.2,\"#de77ae\"],[0.3,\"#f1b6da\"],[0.4,\"#fde0ef\"],[0.5,\"#f7f7f7\"],[0.6,\"#e6f5d0\"],[0.7,\"#b8e186\"],[0.8,\"#7fbc41\"],[0.9,\"#4d9221\"],[1,\"#276419\"]]},\"xaxis\":{\"gridcolor\":\"white\",\"linecolor\":\"white\",\"ticks\":\"\",\"title\":{\"standoff\":15},\"zerolinecolor\":\"white\",\"automargin\":true,\"zerolinewidth\":2},\"yaxis\":{\"gridcolor\":\"white\",\"linecolor\":\"white\",\"ticks\":\"\",\"title\":{\"standoff\":15},\"zerolinecolor\":\"white\",\"automargin\":true,\"zerolinewidth\":2},\"scene\":{\"xaxis\":{\"backgroundcolor\":\"#E5ECF6\",\"gridcolor\":\"white\",\"linecolor\":\"white\",\"showbackground\":true,\"ticks\":\"\",\"zerolinecolor\":\"white\",\"gridwidth\":2},\"yaxis\":{\"backgroundcolor\":\"#E5ECF6\",\"gridcolor\":\"white\",\"linecolor\":\"white\",\"showbackground\":true,\"ticks\":\"\",\"zerolinecolor\":\"white\",\"gridwidth\":2},\"zaxis\":{\"backgroundcolor\":\"#E5ECF6\",\"gridcolor\":\"white\",\"linecolor\":\"white\",\"showbackground\":true,\"ticks\":\"\",\"zerolinecolor\":\"white\",\"gridwidth\":2}},\"shapedefaults\":{\"line\":{\"color\":\"#2a3f5f\"}},\"annotationdefaults\":{\"arrowcolor\":\"#2a3f5f\",\"arrowhead\":0,\"arrowwidth\":1},\"geo\":{\"bgcolor\":\"white\",\"landcolor\":\"#E5ECF6\",\"subunitcolor\":\"white\",\"showland\":true,\"showlakes\":true,\"lakecolor\":\"white\"},\"title\":{\"x\":0.05},\"mapbox\":{\"style\":\"light\"}}},\"xaxis\":{\"anchor\":\"y\",\"domain\":[0.0,1.0],\"title\":{\"text\":\"Severidad\",\"font\":{\"size\":14}}},\"yaxis\":{\"anchor\":\"x\",\"domain\":[0.0,1.0],\"title\":{\"text\":\"Proporci\\u00f3n\",\"font\":{\"size\":14}},\"tickformat\":\".0%\"},\"legend\":{\"title\":{\"text\":\"Estado de Reinfecci\\u00f3n\",\"font\":{\"size\":14}},\"tracegroupgap\":0,\"font\":{\"size\":12}},\"title\":{\"text\":\"Proporci\\u00f3n de Reinfecci\\u00f3n de COVID-19 por Severidad\",\"font\":{\"size\":20,\"color\":\"black\"},\"x\":0.5},\"barmode\":\"group\",\"hoverlabel\":{\"font\":{\"size\":12,\"family\":\"Arial\"},\"bgcolor\":\"white\"},\"height\":550},                        {\"responsive\": true}                    ).then(function(){\n",
       "                            \n",
       "var gd = document.getElementById('13b2ae12-4a4a-4a03-9c6f-93cc8dd96684');\n",
       "var x = new MutationObserver(function (mutations, observer) {{\n",
       "        var display = window.getComputedStyle(gd).display;\n",
       "        if (!display || display === 'none') {{\n",
       "            console.log([gd, 'removed!']);\n",
       "            Plotly.purge(gd);\n",
       "            observer.disconnect();\n",
       "        }}\n",
       "}});\n",
       "\n",
       "// Listen for the removal of the full notebook cells\n",
       "var notebookContainer = gd.closest('#notebook-container');\n",
       "if (notebookContainer) {{\n",
       "    x.observe(notebookContainer, {childList: true});\n",
       "}}\n",
       "\n",
       "// Listen for the clearing of the current output cell\n",
       "var outputEl = gd.closest('.output');\n",
       "if (outputEl) {{\n",
       "    x.observe(outputEl, {childList: true});\n",
       "}}\n",
       "\n",
       "                        })                };                });            </script>        </div>"
      ]
     },
     "metadata": {},
     "output_type": "display_data"
    }
   ],
   "source": [
    "import plotly.express as px\n",
    "\n",
    "colors = {\n",
    "    'no': '#a6cee3',\n",
    "    'yes': '#1f78b4'\n",
    "}\n",
    "\n",
    "grafic1 = px.bar(\n",
    "    rein_sl,\n",
    "    x='Severity',\n",
    "    y='Proportion',\n",
    "    color='Reinfection',\n",
    "    barmode='group',\n",
    "    title='Proporción de Reinfección de COVID-19 por Severidad',\n",
    "    labels={\n",
    "        'Severity': 'Severidad',\n",
    "        'Proportion': 'Proporción',\n",
    "        'Reinfection': 'Estado de Reinfección'\n",
    "    },\n",
    "    hover_data={'Proportion': ':.1%'},\n",
    "    text_auto='.1%',\n",
    "    color_discrete_map=colors\n",
    ")\n",
    "\n",
    "grafic1.update_layout(\n",
    "    title_font_size=20,\n",
    "    title_font_color='black',\n",
    "    title_x=0.5,\n",
    "    xaxis_title_font_size=14,\n",
    "    yaxis_title_font_size=14,\n",
    "    legend_title_font_size=14,\n",
    "    legend_font_size=12,\n",
    "    hoverlabel=dict(bgcolor=\"white\", font_size=12, font_family=\"Arial\"),\n",
    "    height=550\n",
    ")\n",
    "\n",
    "grafic1.update_yaxes(tickformat=\".0%\")\n",
    "\n",
    "grafic1.show()"
   ]
  },
  {
   "cell_type": "markdown",
   "id": "d5f3e2e7-d08a-489b-acf4-4e92117d467d",
   "metadata": {},
   "source": [
    "**NOTA**: La gráfica revela que los pacientes con una severidad inicial 'high' (alta) y 'critical' (crítica) presentan las proporciones más elevadas de reinfección, con 10.8% y 9.7% respectivamente. Estos porcentajes son ligeramente superiores a los de los casos 'low' (bajos) con 9.0% y 'moderate' (moderados) con 8.5%."
   ]
  },
  {
   "cell_type": "code",
   "execution_count": 82,
   "id": "a3e03285-755f-43d3-8787-a65361a098f8",
   "metadata": {},
   "outputs": [
    {
     "data": {
      "application/vnd.plotly.v1+json": {
       "config": {
        "plotlyServerURL": "https://plot.ly"
       },
       "data": [
        {
         "alignmentgroup": "True",
         "hovertemplate": "Estado de Reinfección=no<br>Hospitalización=%{x}<br>Proporción=%{y:.1%}<extra></extra>",
         "legendgroup": "no",
         "marker": {
          "color": "#a6cee3",
          "pattern": {
           "shape": ""
          }
         },
         "name": "no",
         "offsetgroup": "no",
         "orientation": "v",
         "showlegend": true,
         "textposition": "auto",
         "texttemplate": "%{y:.1%}",
         "type": "bar",
         "x": [
          "no",
          "yes"
         ],
         "xaxis": "x",
         "y": [
          0.9044256120527306,
          0.906392694063927
         ],
         "yaxis": "y"
        },
        {
         "alignmentgroup": "True",
         "hovertemplate": "Estado de Reinfección=yes<br>Hospitalización=%{x}<br>Proporción=%{y:.1%}<extra></extra>",
         "legendgroup": "yes",
         "marker": {
          "color": "#1f78b4",
          "pattern": {
           "shape": ""
          }
         },
         "name": "yes",
         "offsetgroup": "yes",
         "orientation": "v",
         "showlegend": true,
         "textposition": "auto",
         "texttemplate": "%{y:.1%}",
         "type": "bar",
         "x": [
          "no",
          "yes"
         ],
         "xaxis": "x",
         "y": [
          0.0955743879472693,
          0.09360730593607305
         ],
         "yaxis": "y"
        }
       ],
       "layout": {
        "autosize": true,
        "barmode": "group",
        "hoverlabel": {
         "bgcolor": "white",
         "font": {
          "family": "Arial",
          "size": 12
         }
        },
        "legend": {
         "font": {
          "size": 12
         },
         "title": {
          "font": {
           "size": 14
          },
          "text": "Estado de Reinfección"
         },
         "tracegroupgap": 0
        },
        "template": {
         "data": {
          "bar": [
           {
            "error_x": {
             "color": "#2a3f5f"
            },
            "error_y": {
             "color": "#2a3f5f"
            },
            "marker": {
             "line": {
              "color": "#E5ECF6",
              "width": 0.5
             },
             "pattern": {
              "fillmode": "overlay",
              "size": 10,
              "solidity": 0.2
             }
            },
            "type": "bar"
           }
          ],
          "barpolar": [
           {
            "marker": {
             "line": {
              "color": "#E5ECF6",
              "width": 0.5
             },
             "pattern": {
              "fillmode": "overlay",
              "size": 10,
              "solidity": 0.2
             }
            },
            "type": "barpolar"
           }
          ],
          "carpet": [
           {
            "aaxis": {
             "endlinecolor": "#2a3f5f",
             "gridcolor": "white",
             "linecolor": "white",
             "minorgridcolor": "white",
             "startlinecolor": "#2a3f5f"
            },
            "baxis": {
             "endlinecolor": "#2a3f5f",
             "gridcolor": "white",
             "linecolor": "white",
             "minorgridcolor": "white",
             "startlinecolor": "#2a3f5f"
            },
            "type": "carpet"
           }
          ],
          "choropleth": [
           {
            "colorbar": {
             "outlinewidth": 0,
             "ticks": ""
            },
            "type": "choropleth"
           }
          ],
          "contour": [
           {
            "colorbar": {
             "outlinewidth": 0,
             "ticks": ""
            },
            "colorscale": [
             [
              0,
              "#0d0887"
             ],
             [
              0.1111111111111111,
              "#46039f"
             ],
             [
              0.2222222222222222,
              "#7201a8"
             ],
             [
              0.3333333333333333,
              "#9c179e"
             ],
             [
              0.4444444444444444,
              "#bd3786"
             ],
             [
              0.5555555555555556,
              "#d8576b"
             ],
             [
              0.6666666666666666,
              "#ed7953"
             ],
             [
              0.7777777777777778,
              "#fb9f3a"
             ],
             [
              0.8888888888888888,
              "#fdca26"
             ],
             [
              1,
              "#f0f921"
             ]
            ],
            "type": "contour"
           }
          ],
          "contourcarpet": [
           {
            "colorbar": {
             "outlinewidth": 0,
             "ticks": ""
            },
            "type": "contourcarpet"
           }
          ],
          "heatmap": [
           {
            "colorbar": {
             "outlinewidth": 0,
             "ticks": ""
            },
            "colorscale": [
             [
              0,
              "#0d0887"
             ],
             [
              0.1111111111111111,
              "#46039f"
             ],
             [
              0.2222222222222222,
              "#7201a8"
             ],
             [
              0.3333333333333333,
              "#9c179e"
             ],
             [
              0.4444444444444444,
              "#bd3786"
             ],
             [
              0.5555555555555556,
              "#d8576b"
             ],
             [
              0.6666666666666666,
              "#ed7953"
             ],
             [
              0.7777777777777778,
              "#fb9f3a"
             ],
             [
              0.8888888888888888,
              "#fdca26"
             ],
             [
              1,
              "#f0f921"
             ]
            ],
            "type": "heatmap"
           }
          ],
          "heatmapgl": [
           {
            "colorbar": {
             "outlinewidth": 0,
             "ticks": ""
            },
            "colorscale": [
             [
              0,
              "#0d0887"
             ],
             [
              0.1111111111111111,
              "#46039f"
             ],
             [
              0.2222222222222222,
              "#7201a8"
             ],
             [
              0.3333333333333333,
              "#9c179e"
             ],
             [
              0.4444444444444444,
              "#bd3786"
             ],
             [
              0.5555555555555556,
              "#d8576b"
             ],
             [
              0.6666666666666666,
              "#ed7953"
             ],
             [
              0.7777777777777778,
              "#fb9f3a"
             ],
             [
              0.8888888888888888,
              "#fdca26"
             ],
             [
              1,
              "#f0f921"
             ]
            ],
            "type": "heatmapgl"
           }
          ],
          "histogram": [
           {
            "marker": {
             "pattern": {
              "fillmode": "overlay",
              "size": 10,
              "solidity": 0.2
             }
            },
            "type": "histogram"
           }
          ],
          "histogram2d": [
           {
            "colorbar": {
             "outlinewidth": 0,
             "ticks": ""
            },
            "colorscale": [
             [
              0,
              "#0d0887"
             ],
             [
              0.1111111111111111,
              "#46039f"
             ],
             [
              0.2222222222222222,
              "#7201a8"
             ],
             [
              0.3333333333333333,
              "#9c179e"
             ],
             [
              0.4444444444444444,
              "#bd3786"
             ],
             [
              0.5555555555555556,
              "#d8576b"
             ],
             [
              0.6666666666666666,
              "#ed7953"
             ],
             [
              0.7777777777777778,
              "#fb9f3a"
             ],
             [
              0.8888888888888888,
              "#fdca26"
             ],
             [
              1,
              "#f0f921"
             ]
            ],
            "type": "histogram2d"
           }
          ],
          "histogram2dcontour": [
           {
            "colorbar": {
             "outlinewidth": 0,
             "ticks": ""
            },
            "colorscale": [
             [
              0,
              "#0d0887"
             ],
             [
              0.1111111111111111,
              "#46039f"
             ],
             [
              0.2222222222222222,
              "#7201a8"
             ],
             [
              0.3333333333333333,
              "#9c179e"
             ],
             [
              0.4444444444444444,
              "#bd3786"
             ],
             [
              0.5555555555555556,
              "#d8576b"
             ],
             [
              0.6666666666666666,
              "#ed7953"
             ],
             [
              0.7777777777777778,
              "#fb9f3a"
             ],
             [
              0.8888888888888888,
              "#fdca26"
             ],
             [
              1,
              "#f0f921"
             ]
            ],
            "type": "histogram2dcontour"
           }
          ],
          "mesh3d": [
           {
            "colorbar": {
             "outlinewidth": 0,
             "ticks": ""
            },
            "type": "mesh3d"
           }
          ],
          "parcoords": [
           {
            "line": {
             "colorbar": {
              "outlinewidth": 0,
              "ticks": ""
             }
            },
            "type": "parcoords"
           }
          ],
          "pie": [
           {
            "automargin": true,
            "type": "pie"
           }
          ],
          "scatter": [
           {
            "fillpattern": {
             "fillmode": "overlay",
             "size": 10,
             "solidity": 0.2
            },
            "type": "scatter"
           }
          ],
          "scatter3d": [
           {
            "line": {
             "colorbar": {
              "outlinewidth": 0,
              "ticks": ""
             }
            },
            "marker": {
             "colorbar": {
              "outlinewidth": 0,
              "ticks": ""
             }
            },
            "type": "scatter3d"
           }
          ],
          "scattercarpet": [
           {
            "marker": {
             "colorbar": {
              "outlinewidth": 0,
              "ticks": ""
             }
            },
            "type": "scattercarpet"
           }
          ],
          "scattergeo": [
           {
            "marker": {
             "colorbar": {
              "outlinewidth": 0,
              "ticks": ""
             }
            },
            "type": "scattergeo"
           }
          ],
          "scattergl": [
           {
            "marker": {
             "colorbar": {
              "outlinewidth": 0,
              "ticks": ""
             }
            },
            "type": "scattergl"
           }
          ],
          "scattermapbox": [
           {
            "marker": {
             "colorbar": {
              "outlinewidth": 0,
              "ticks": ""
             }
            },
            "type": "scattermapbox"
           }
          ],
          "scatterpolar": [
           {
            "marker": {
             "colorbar": {
              "outlinewidth": 0,
              "ticks": ""
             }
            },
            "type": "scatterpolar"
           }
          ],
          "scatterpolargl": [
           {
            "marker": {
             "colorbar": {
              "outlinewidth": 0,
              "ticks": ""
             }
            },
            "type": "scatterpolargl"
           }
          ],
          "scatterternary": [
           {
            "marker": {
             "colorbar": {
              "outlinewidth": 0,
              "ticks": ""
             }
            },
            "type": "scatterternary"
           }
          ],
          "surface": [
           {
            "colorbar": {
             "outlinewidth": 0,
             "ticks": ""
            },
            "colorscale": [
             [
              0,
              "#0d0887"
             ],
             [
              0.1111111111111111,
              "#46039f"
             ],
             [
              0.2222222222222222,
              "#7201a8"
             ],
             [
              0.3333333333333333,
              "#9c179e"
             ],
             [
              0.4444444444444444,
              "#bd3786"
             ],
             [
              0.5555555555555556,
              "#d8576b"
             ],
             [
              0.6666666666666666,
              "#ed7953"
             ],
             [
              0.7777777777777778,
              "#fb9f3a"
             ],
             [
              0.8888888888888888,
              "#fdca26"
             ],
             [
              1,
              "#f0f921"
             ]
            ],
            "type": "surface"
           }
          ],
          "table": [
           {
            "cells": {
             "fill": {
              "color": "#EBF0F8"
             },
             "line": {
              "color": "white"
             }
            },
            "header": {
             "fill": {
              "color": "#C8D4E3"
             },
             "line": {
              "color": "white"
             }
            },
            "type": "table"
           }
          ]
         },
         "layout": {
          "annotationdefaults": {
           "arrowcolor": "#2a3f5f",
           "arrowhead": 0,
           "arrowwidth": 1
          },
          "autotypenumbers": "strict",
          "coloraxis": {
           "colorbar": {
            "outlinewidth": 0,
            "ticks": ""
           }
          },
          "colorscale": {
           "diverging": [
            [
             0,
             "#8e0152"
            ],
            [
             0.1,
             "#c51b7d"
            ],
            [
             0.2,
             "#de77ae"
            ],
            [
             0.3,
             "#f1b6da"
            ],
            [
             0.4,
             "#fde0ef"
            ],
            [
             0.5,
             "#f7f7f7"
            ],
            [
             0.6,
             "#e6f5d0"
            ],
            [
             0.7,
             "#b8e186"
            ],
            [
             0.8,
             "#7fbc41"
            ],
            [
             0.9,
             "#4d9221"
            ],
            [
             1,
             "#276419"
            ]
           ],
           "sequential": [
            [
             0,
             "#0d0887"
            ],
            [
             0.1111111111111111,
             "#46039f"
            ],
            [
             0.2222222222222222,
             "#7201a8"
            ],
            [
             0.3333333333333333,
             "#9c179e"
            ],
            [
             0.4444444444444444,
             "#bd3786"
            ],
            [
             0.5555555555555556,
             "#d8576b"
            ],
            [
             0.6666666666666666,
             "#ed7953"
            ],
            [
             0.7777777777777778,
             "#fb9f3a"
            ],
            [
             0.8888888888888888,
             "#fdca26"
            ],
            [
             1,
             "#f0f921"
            ]
           ],
           "sequentialminus": [
            [
             0,
             "#0d0887"
            ],
            [
             0.1111111111111111,
             "#46039f"
            ],
            [
             0.2222222222222222,
             "#7201a8"
            ],
            [
             0.3333333333333333,
             "#9c179e"
            ],
            [
             0.4444444444444444,
             "#bd3786"
            ],
            [
             0.5555555555555556,
             "#d8576b"
            ],
            [
             0.6666666666666666,
             "#ed7953"
            ],
            [
             0.7777777777777778,
             "#fb9f3a"
            ],
            [
             0.8888888888888888,
             "#fdca26"
            ],
            [
             1,
             "#f0f921"
            ]
           ]
          },
          "colorway": [
           "#636efa",
           "#EF553B",
           "#00cc96",
           "#ab63fa",
           "#FFA15A",
           "#19d3f3",
           "#FF6692",
           "#B6E880",
           "#FF97FF",
           "#FECB52"
          ],
          "font": {
           "color": "#2a3f5f"
          },
          "geo": {
           "bgcolor": "white",
           "lakecolor": "white",
           "landcolor": "#E5ECF6",
           "showlakes": true,
           "showland": true,
           "subunitcolor": "white"
          },
          "hoverlabel": {
           "align": "left"
          },
          "hovermode": "closest",
          "mapbox": {
           "style": "light"
          },
          "paper_bgcolor": "white",
          "plot_bgcolor": "#E5ECF6",
          "polar": {
           "angularaxis": {
            "gridcolor": "white",
            "linecolor": "white",
            "ticks": ""
           },
           "bgcolor": "#E5ECF6",
           "radialaxis": {
            "gridcolor": "white",
            "linecolor": "white",
            "ticks": ""
           }
          },
          "scene": {
           "xaxis": {
            "backgroundcolor": "#E5ECF6",
            "gridcolor": "white",
            "gridwidth": 2,
            "linecolor": "white",
            "showbackground": true,
            "ticks": "",
            "zerolinecolor": "white"
           },
           "yaxis": {
            "backgroundcolor": "#E5ECF6",
            "gridcolor": "white",
            "gridwidth": 2,
            "linecolor": "white",
            "showbackground": true,
            "ticks": "",
            "zerolinecolor": "white"
           },
           "zaxis": {
            "backgroundcolor": "#E5ECF6",
            "gridcolor": "white",
            "gridwidth": 2,
            "linecolor": "white",
            "showbackground": true,
            "ticks": "",
            "zerolinecolor": "white"
           }
          },
          "shapedefaults": {
           "line": {
            "color": "#2a3f5f"
           }
          },
          "ternary": {
           "aaxis": {
            "gridcolor": "white",
            "linecolor": "white",
            "ticks": ""
           },
           "baxis": {
            "gridcolor": "white",
            "linecolor": "white",
            "ticks": ""
           },
           "bgcolor": "#E5ECF6",
           "caxis": {
            "gridcolor": "white",
            "linecolor": "white",
            "ticks": ""
           }
          },
          "title": {
           "x": 0.05
          },
          "xaxis": {
           "automargin": true,
           "gridcolor": "white",
           "linecolor": "white",
           "ticks": "",
           "title": {
            "standoff": 15
           },
           "zerolinecolor": "white",
           "zerolinewidth": 2
          },
          "yaxis": {
           "automargin": true,
           "gridcolor": "white",
           "linecolor": "white",
           "ticks": "",
           "title": {
            "standoff": 15
           },
           "zerolinecolor": "white",
           "zerolinewidth": 2
          }
         }
        },
        "title": {
         "font": {
          "color": "black",
          "size": 20
         },
         "text": "Proporción de Reinfección de COVID-19 por Condición Preexistente",
         "x": 0.5
        },
        "xaxis": {
         "anchor": "y",
         "autorange": true,
         "domain": [
          0,
          1
         ],
         "range": [
          -0.5,
          1.5
         ],
         "title": {
          "font": {
           "size": 14
          },
          "text": "Hospitalización"
         },
         "type": "category"
        },
        "yaxis": {
         "anchor": "x",
         "autorange": true,
         "domain": [
          0,
          1
         ],
         "range": [
          0,
          0.9540975726988705
         ],
         "tickformat": ".0%",
         "title": {
          "font": {
           "size": 14
          },
          "text": "Proporción"
         },
         "type": "linear"
        }
       }
      },
      "image/png": "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",
      "text/html": [
       "<div>                            <div id=\"f47f724e-2eab-4ad8-af3c-6e9d45b6c125\" class=\"plotly-graph-div\" style=\"height:550px; width:100%;\"></div>            <script type=\"text/javascript\">                require([\"plotly\"], function(Plotly) {                    window.PLOTLYENV=window.PLOTLYENV || {};                                    if (document.getElementById(\"f47f724e-2eab-4ad8-af3c-6e9d45b6c125\")) {                    Plotly.newPlot(                        \"f47f724e-2eab-4ad8-af3c-6e9d45b6c125\",                        [{\"alignmentgroup\":\"True\",\"hovertemplate\":\"Estado de Reinfecci\\u00f3n=no\\u003cbr\\u003eHospitalizaci\\u00f3n=%{x}\\u003cbr\\u003eProporci\\u00f3n=%{y:.1%}\\u003cextra\\u003e\\u003c\\u002fextra\\u003e\",\"legendgroup\":\"no\",\"marker\":{\"color\":\"#a6cee3\",\"pattern\":{\"shape\":\"\"}},\"name\":\"no\",\"offsetgroup\":\"no\",\"orientation\":\"v\",\"showlegend\":true,\"textposition\":\"auto\",\"texttemplate\":\"%{y:.1%}\",\"x\":[\"no\",\"yes\"],\"xaxis\":\"x\",\"y\":[0.9044256120527306,0.906392694063927],\"yaxis\":\"y\",\"type\":\"bar\"},{\"alignmentgroup\":\"True\",\"hovertemplate\":\"Estado de Reinfecci\\u00f3n=yes\\u003cbr\\u003eHospitalizaci\\u00f3n=%{x}\\u003cbr\\u003eProporci\\u00f3n=%{y:.1%}\\u003cextra\\u003e\\u003c\\u002fextra\\u003e\",\"legendgroup\":\"yes\",\"marker\":{\"color\":\"#1f78b4\",\"pattern\":{\"shape\":\"\"}},\"name\":\"yes\",\"offsetgroup\":\"yes\",\"orientation\":\"v\",\"showlegend\":true,\"textposition\":\"auto\",\"texttemplate\":\"%{y:.1%}\",\"x\":[\"no\",\"yes\"],\"xaxis\":\"x\",\"y\":[0.0955743879472693,0.09360730593607305],\"yaxis\":\"y\",\"type\":\"bar\"}],                        {\"template\":{\"data\":{\"histogram2dcontour\":[{\"type\":\"histogram2dcontour\",\"colorbar\":{\"outlinewidth\":0,\"ticks\":\"\"},\"colorscale\":[[0.0,\"#0d0887\"],[0.1111111111111111,\"#46039f\"],[0.2222222222222222,\"#7201a8\"],[0.3333333333333333,\"#9c179e\"],[0.4444444444444444,\"#bd3786\"],[0.5555555555555556,\"#d8576b\"],[0.6666666666666666,\"#ed7953\"],[0.7777777777777778,\"#fb9f3a\"],[0.8888888888888888,\"#fdca26\"],[1.0,\"#f0f921\"]]}],\"choropleth\":[{\"type\":\"choropleth\",\"colorbar\":{\"outlinewidth\":0,\"ticks\":\"\"}}],\"histogram2d\":[{\"type\":\"histogram2d\",\"colorbar\":{\"outlinewidth\":0,\"ticks\":\"\"},\"colorscale\":[[0.0,\"#0d0887\"],[0.1111111111111111,\"#46039f\"],[0.2222222222222222,\"#7201a8\"],[0.3333333333333333,\"#9c179e\"],[0.4444444444444444,\"#bd3786\"],[0.5555555555555556,\"#d8576b\"],[0.6666666666666666,\"#ed7953\"],[0.7777777777777778,\"#fb9f3a\"],[0.8888888888888888,\"#fdca26\"],[1.0,\"#f0f921\"]]}],\"heatmap\":[{\"type\":\"heatmap\",\"colorbar\":{\"outlinewidth\":0,\"ticks\":\"\"},\"colorscale\":[[0.0,\"#0d0887\"],[0.1111111111111111,\"#46039f\"],[0.2222222222222222,\"#7201a8\"],[0.3333333333333333,\"#9c179e\"],[0.4444444444444444,\"#bd3786\"],[0.5555555555555556,\"#d8576b\"],[0.6666666666666666,\"#ed7953\"],[0.7777777777777778,\"#fb9f3a\"],[0.8888888888888888,\"#fdca26\"],[1.0,\"#f0f921\"]]}],\"heatmapgl\":[{\"type\":\"heatmapgl\",\"colorbar\":{\"outlinewidth\":0,\"ticks\":\"\"},\"colorscale\":[[0.0,\"#0d0887\"],[0.1111111111111111,\"#46039f\"],[0.2222222222222222,\"#7201a8\"],[0.3333333333333333,\"#9c179e\"],[0.4444444444444444,\"#bd3786\"],[0.5555555555555556,\"#d8576b\"],[0.6666666666666666,\"#ed7953\"],[0.7777777777777778,\"#fb9f3a\"],[0.8888888888888888,\"#fdca26\"],[1.0,\"#f0f921\"]]}],\"contourcarpet\":[{\"type\":\"contourcarpet\",\"colorbar\":{\"outlinewidth\":0,\"ticks\":\"\"}}],\"contour\":[{\"type\":\"contour\",\"colorbar\":{\"outlinewidth\":0,\"ticks\":\"\"},\"colorscale\":[[0.0,\"#0d0887\"],[0.1111111111111111,\"#46039f\"],[0.2222222222222222,\"#7201a8\"],[0.3333333333333333,\"#9c179e\"],[0.4444444444444444,\"#bd3786\"],[0.5555555555555556,\"#d8576b\"],[0.6666666666666666,\"#ed7953\"],[0.7777777777777778,\"#fb9f3a\"],[0.8888888888888888,\"#fdca26\"],[1.0,\"#f0f921\"]]}],\"surface\":[{\"type\":\"surface\",\"colorbar\":{\"outlinewidth\":0,\"ticks\":\"\"},\"colorscale\":[[0.0,\"#0d0887\"],[0.1111111111111111,\"#46039f\"],[0.2222222222222222,\"#7201a8\"],[0.3333333333333333,\"#9c179e\"],[0.4444444444444444,\"#bd3786\"],[0.5555555555555556,\"#d8576b\"],[0.6666666666666666,\"#ed7953\"],[0.7777777777777778,\"#fb9f3a\"],[0.8888888888888888,\"#fdca26\"],[1.0,\"#f0f921\"]]}],\"mesh3d\":[{\"type\":\"mesh3d\",\"colorbar\":{\"outlinewidth\":0,\"ticks\":\"\"}}],\"scatter\":[{\"fillpattern\":{\"fillmode\":\"overlay\",\"size\":10,\"solidity\":0.2},\"type\":\"scatter\"}],\"parcoords\":[{\"type\":\"parcoords\",\"line\":{\"colorbar\":{\"outlinewidth\":0,\"ticks\":\"\"}}}],\"scatterpolargl\":[{\"type\":\"scatterpolargl\",\"marker\":{\"colorbar\":{\"outlinewidth\":0,\"ticks\":\"\"}}}],\"bar\":[{\"error_x\":{\"color\":\"#2a3f5f\"},\"error_y\":{\"color\":\"#2a3f5f\"},\"marker\":{\"line\":{\"color\":\"#E5ECF6\",\"width\":0.5},\"pattern\":{\"fillmode\":\"overlay\",\"size\":10,\"solidity\":0.2}},\"type\":\"bar\"}],\"scattergeo\":[{\"type\":\"scattergeo\",\"marker\":{\"colorbar\":{\"outlinewidth\":0,\"ticks\":\"\"}}}],\"scatterpolar\":[{\"type\":\"scatterpolar\",\"marker\":{\"colorbar\":{\"outlinewidth\":0,\"ticks\":\"\"}}}],\"histogram\":[{\"marker\":{\"pattern\":{\"fillmode\":\"overlay\",\"size\":10,\"solidity\":0.2}},\"type\":\"histogram\"}],\"scattergl\":[{\"type\":\"scattergl\",\"marker\":{\"colorbar\":{\"outlinewidth\":0,\"ticks\":\"\"}}}],\"scatter3d\":[{\"type\":\"scatter3d\",\"line\":{\"colorbar\":{\"outlinewidth\":0,\"ticks\":\"\"}},\"marker\":{\"colorbar\":{\"outlinewidth\":0,\"ticks\":\"\"}}}],\"scattermapbox\":[{\"type\":\"scattermapbox\",\"marker\":{\"colorbar\":{\"outlinewidth\":0,\"ticks\":\"\"}}}],\"scatterternary\":[{\"type\":\"scatterternary\",\"marker\":{\"colorbar\":{\"outlinewidth\":0,\"ticks\":\"\"}}}],\"scattercarpet\":[{\"type\":\"scattercarpet\",\"marker\":{\"colorbar\":{\"outlinewidth\":0,\"ticks\":\"\"}}}],\"carpet\":[{\"aaxis\":{\"endlinecolor\":\"#2a3f5f\",\"gridcolor\":\"white\",\"linecolor\":\"white\",\"minorgridcolor\":\"white\",\"startlinecolor\":\"#2a3f5f\"},\"baxis\":{\"endlinecolor\":\"#2a3f5f\",\"gridcolor\":\"white\",\"linecolor\":\"white\",\"minorgridcolor\":\"white\",\"startlinecolor\":\"#2a3f5f\"},\"type\":\"carpet\"}],\"table\":[{\"cells\":{\"fill\":{\"color\":\"#EBF0F8\"},\"line\":{\"color\":\"white\"}},\"header\":{\"fill\":{\"color\":\"#C8D4E3\"},\"line\":{\"color\":\"white\"}},\"type\":\"table\"}],\"barpolar\":[{\"marker\":{\"line\":{\"color\":\"#E5ECF6\",\"width\":0.5},\"pattern\":{\"fillmode\":\"overlay\",\"size\":10,\"solidity\":0.2}},\"type\":\"barpolar\"}],\"pie\":[{\"automargin\":true,\"type\":\"pie\"}]},\"layout\":{\"autotypenumbers\":\"strict\",\"colorway\":[\"#636efa\",\"#EF553B\",\"#00cc96\",\"#ab63fa\",\"#FFA15A\",\"#19d3f3\",\"#FF6692\",\"#B6E880\",\"#FF97FF\",\"#FECB52\"],\"font\":{\"color\":\"#2a3f5f\"},\"hovermode\":\"closest\",\"hoverlabel\":{\"align\":\"left\"},\"paper_bgcolor\":\"white\",\"plot_bgcolor\":\"#E5ECF6\",\"polar\":{\"bgcolor\":\"#E5ECF6\",\"angularaxis\":{\"gridcolor\":\"white\",\"linecolor\":\"white\",\"ticks\":\"\"},\"radialaxis\":{\"gridcolor\":\"white\",\"linecolor\":\"white\",\"ticks\":\"\"}},\"ternary\":{\"bgcolor\":\"#E5ECF6\",\"aaxis\":{\"gridcolor\":\"white\",\"linecolor\":\"white\",\"ticks\":\"\"},\"baxis\":{\"gridcolor\":\"white\",\"linecolor\":\"white\",\"ticks\":\"\"},\"caxis\":{\"gridcolor\":\"white\",\"linecolor\":\"white\",\"ticks\":\"\"}},\"coloraxis\":{\"colorbar\":{\"outlinewidth\":0,\"ticks\":\"\"}},\"colorscale\":{\"sequential\":[[0.0,\"#0d0887\"],[0.1111111111111111,\"#46039f\"],[0.2222222222222222,\"#7201a8\"],[0.3333333333333333,\"#9c179e\"],[0.4444444444444444,\"#bd3786\"],[0.5555555555555556,\"#d8576b\"],[0.6666666666666666,\"#ed7953\"],[0.7777777777777778,\"#fb9f3a\"],[0.8888888888888888,\"#fdca26\"],[1.0,\"#f0f921\"]],\"sequentialminus\":[[0.0,\"#0d0887\"],[0.1111111111111111,\"#46039f\"],[0.2222222222222222,\"#7201a8\"],[0.3333333333333333,\"#9c179e\"],[0.4444444444444444,\"#bd3786\"],[0.5555555555555556,\"#d8576b\"],[0.6666666666666666,\"#ed7953\"],[0.7777777777777778,\"#fb9f3a\"],[0.8888888888888888,\"#fdca26\"],[1.0,\"#f0f921\"]],\"diverging\":[[0,\"#8e0152\"],[0.1,\"#c51b7d\"],[0.2,\"#de77ae\"],[0.3,\"#f1b6da\"],[0.4,\"#fde0ef\"],[0.5,\"#f7f7f7\"],[0.6,\"#e6f5d0\"],[0.7,\"#b8e186\"],[0.8,\"#7fbc41\"],[0.9,\"#4d9221\"],[1,\"#276419\"]]},\"xaxis\":{\"gridcolor\":\"white\",\"linecolor\":\"white\",\"ticks\":\"\",\"title\":{\"standoff\":15},\"zerolinecolor\":\"white\",\"automargin\":true,\"zerolinewidth\":2},\"yaxis\":{\"gridcolor\":\"white\",\"linecolor\":\"white\",\"ticks\":\"\",\"title\":{\"standoff\":15},\"zerolinecolor\":\"white\",\"automargin\":true,\"zerolinewidth\":2},\"scene\":{\"xaxis\":{\"backgroundcolor\":\"#E5ECF6\",\"gridcolor\":\"white\",\"linecolor\":\"white\",\"showbackground\":true,\"ticks\":\"\",\"zerolinecolor\":\"white\",\"gridwidth\":2},\"yaxis\":{\"backgroundcolor\":\"#E5ECF6\",\"gridcolor\":\"white\",\"linecolor\":\"white\",\"showbackground\":true,\"ticks\":\"\",\"zerolinecolor\":\"white\",\"gridwidth\":2},\"zaxis\":{\"backgroundcolor\":\"#E5ECF6\",\"gridcolor\":\"white\",\"linecolor\":\"white\",\"showbackground\":true,\"ticks\":\"\",\"zerolinecolor\":\"white\",\"gridwidth\":2}},\"shapedefaults\":{\"line\":{\"color\":\"#2a3f5f\"}},\"annotationdefaults\":{\"arrowcolor\":\"#2a3f5f\",\"arrowhead\":0,\"arrowwidth\":1},\"geo\":{\"bgcolor\":\"white\",\"landcolor\":\"#E5ECF6\",\"subunitcolor\":\"white\",\"showland\":true,\"showlakes\":true,\"lakecolor\":\"white\"},\"title\":{\"x\":0.05},\"mapbox\":{\"style\":\"light\"}}},\"xaxis\":{\"anchor\":\"y\",\"domain\":[0.0,1.0],\"title\":{\"text\":\"Hospitalizaci\\u00f3n\",\"font\":{\"size\":14}}},\"yaxis\":{\"anchor\":\"x\",\"domain\":[0.0,1.0],\"title\":{\"text\":\"Proporci\\u00f3n\",\"font\":{\"size\":14}},\"tickformat\":\".0%\"},\"legend\":{\"title\":{\"text\":\"Estado de Reinfecci\\u00f3n\",\"font\":{\"size\":14}},\"tracegroupgap\":0,\"font\":{\"size\":12}},\"title\":{\"text\":\"Proporci\\u00f3n de Reinfecci\\u00f3n de COVID-19 por Condici\\u00f3n Preexistente\",\"font\":{\"size\":20,\"color\":\"black\"},\"x\":0.5},\"barmode\":\"group\",\"hoverlabel\":{\"font\":{\"size\":12,\"family\":\"Arial\"},\"bgcolor\":\"white\"},\"height\":550},                        {\"responsive\": true}                    ).then(function(){\n",
       "                            \n",
       "var gd = document.getElementById('f47f724e-2eab-4ad8-af3c-6e9d45b6c125');\n",
       "var x = new MutationObserver(function (mutations, observer) {{\n",
       "        var display = window.getComputedStyle(gd).display;\n",
       "        if (!display || display === 'none') {{\n",
       "            console.log([gd, 'removed!']);\n",
       "            Plotly.purge(gd);\n",
       "            observer.disconnect();\n",
       "        }}\n",
       "}});\n",
       "\n",
       "// Listen for the removal of the full notebook cells\n",
       "var notebookContainer = gd.closest('#notebook-container');\n",
       "if (notebookContainer) {{\n",
       "    x.observe(notebookContainer, {childList: true});\n",
       "}}\n",
       "\n",
       "// Listen for the clearing of the current output cell\n",
       "var outputEl = gd.closest('.output');\n",
       "if (outputEl) {{\n",
       "    x.observe(outputEl, {childList: true});\n",
       "}}\n",
       "\n",
       "                        })                };                });            </script>        </div>"
      ]
     },
     "metadata": {},
     "output_type": "display_data"
    }
   ],
   "source": [
    "import plotly.express as px\n",
    "\n",
    "colors = {\n",
    "    'no': '#a6cee3',\n",
    "    'yes': '#1f78b4'\n",
    "}\n",
    "\n",
    "grafic2 = px.bar(\n",
    "    rein_hs,\n",
    "    x='Hospitalized',\n",
    "    y='Proportion',\n",
    "    color='Reinfection',\n",
    "    barmode='group',\n",
    "    title='Proporción de Reinfección de COVID-19 por Condición Preexistente',\n",
    "    labels={\n",
    "        'Hospitalized': 'Hospitalización',\n",
    "        'Proportion': 'Proporción',\n",
    "        'Reinfection': 'Estado de Reinfección'\n",
    "    },\n",
    "    hover_data={'Proportion': ':.1%'},\n",
    "    text_auto='.1%',\n",
    "    color_discrete_map=colors\n",
    ")\n",
    "\n",
    "grafic2.update_layout(\n",
    "    title_font_size=20,\n",
    "    title_font_color='black',\n",
    "    title_x=0.5,\n",
    "    xaxis_title_font_size=14,\n",
    "    yaxis_title_font_size=14,\n",
    "    legend_title_font_size=14,\n",
    "    legend_font_size=12,\n",
    "    hoverlabel=dict(bgcolor=\"white\", font_size=12, font_family=\"Arial\"),\n",
    "    height=550\n",
    ")\n",
    "\n",
    "grafic2.update_yaxes(tickformat=\".0%\")\n",
    "\n",
    "grafic2.show()"
   ]
  },
  {
   "cell_type": "markdown",
   "id": "1a2cbd72-2ec0-4789-abdf-16a738208a6a",
   "metadata": {},
   "source": [
    "**NOTA**: No se observa una diferencia significativa en la proporción de reinfección entre los pacientes que fueron hospitalizados y los que no."
   ]
  },
  {
   "cell_type": "markdown",
   "id": "42d28827-c10d-4cdb-a85c-13a16d35fe42",
   "metadata": {},
   "source": [
    "## 4.3 ¿Hay una relación entre la gravedad de la infección inicial o la reinfección y los factores de salud del paciente?🦠\n",
    "\n",
    "**Severidad.**\n",
    "\n",
    "Existe una asociación entre la gravedad de la infección inicial y la proporción de reinfección. Los pacientes que experimentaron una infección inicial más severa ('critical' y 'high') parecen tener una proporción de reinfección ligeramente mayor en comparación con aquellos con infecciones leves a moderadas. Esto podría indicar que la severidad de la infección inicial no necesariamente confiere una inmunidad más robusta que proteja contra la reinfección, o que hay otros factores asociados a la severidad que aumentan la susceptibilidad.\n",
    "\n",
    "**Hospitalización.**\n",
    "\n",
    "En esta variable no se pudo observar alguna relación entre porcentajes, ya que ambos casos son similares."
   ]
  },
  {
   "cell_type": "markdown",
   "id": "17824ab7-b1c6-4b12-9050-c5b7952abc7c",
   "metadata": {},
   "source": [
    "# Conclusión Total.📈\n",
    "\n",
    "Las visualizaciones demográficas y de salud preexistente revelan que la edad es un factor demográfico clave que influye en la proporción de reinfección, mostrando patrones de mayor riesgo en adultos jóvenes y mayores. Si bien los hombres presentan un mayor conteo absoluto de reinfecciones, la proporción de reinfección por género es más similar. En cuanto a las condiciones preexistentes, aunque hay variaciones, no se identifica una comorbilidad con un riesgo drásticamente elevado de reinfección, y la alta proporción de reinfección en el grupo sin condiciones específicas subraya que la ausencia de estas no elimina un riesgo considerable. Finalmente, la gravedad de la infección inicial también muestra una asociación, con casos más severos ('critical' y 'high') presentando una proporción de reinfección ligeramente superior. En conjunto, esto sugiere que la reinfección es un fenómeno multifactorial donde la edad, la severidad de la infección inicial y, en menor medida, ciertas comorbilidades pueden jugar un papel, pero la prevención sigue siendo universalmente importante.⚠️"
   ]
  },
  {
   "cell_type": "markdown",
   "id": "e63a6ea4-70ae-4dbe-8036-5599b1440016",
   "metadata": {},
   "source": [
    "# Herramientas utilizadas en este proyecto.⚙️\n",
    "\n",
    "* Jupyter Notebook.🌎\n",
    "* Python, Pandas, Plotly Express, Matplotlib.🐍"
   ]
  }
 ],
 "metadata": {
  "kernelspec": {
   "display_name": "Python [conda env:base] *",
   "language": "python",
   "name": "conda-base-py"
  },
  "language_info": {
   "codemirror_mode": {
    "name": "ipython",
    "version": 3
   },
   "file_extension": ".py",
   "mimetype": "text/x-python",
   "name": "python",
   "nbconvert_exporter": "python",
   "pygments_lexer": "ipython3",
   "version": "3.12.7"
  }
 },
 "nbformat": 4,
 "nbformat_minor": 5
}
